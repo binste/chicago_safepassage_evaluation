{
 "cells": [
  {
   "cell_type": "markdown",
   "metadata": {
    "toc": true
   },
   "source": [
    "<h1>Table of Contents<span class=\"tocSkip\"></span></h1>\n",
    "<div class=\"toc\"><ul class=\"toc-item\"><li><span><a href=\"#Load-data\" data-toc-modified-id=\"Load-data-1\"><span class=\"toc-item-num\">1&nbsp;&nbsp;</span>Load data</a></span></li><li><span><a href=\"#Spatial-join-of-schools-and-blocks\" data-toc-modified-id=\"Spatial-join-of-schools-and-blocks-2\"><span class=\"toc-item-num\">2&nbsp;&nbsp;</span>Spatial join of schools and blocks</a></span></li><li><span><a href=\"#Fix-treatment-status-of-schools\" data-toc-modified-id=\"Fix-treatment-status-of-schools-3\"><span class=\"toc-item-num\">3&nbsp;&nbsp;</span>Fix treatment status of schools</a></span></li><li><span><a href=\"#Save\" data-toc-modified-id=\"Save-4\"><span class=\"toc-item-num\">4&nbsp;&nbsp;</span>Save</a></span></li></ul></div>"
   ]
  },
  {
   "cell_type": "markdown",
   "metadata": {},
   "source": [
    "**Description**: Reads in school data already merged with FOIA data and\n",
    "performs spatial join with locations of census blocks,\n",
    "fixes treatment status of schools and saves resulting dataset.\n",
    "\n",
    "---"
   ]
  },
  {
   "cell_type": "code",
   "execution_count": 1,
   "metadata": {},
   "outputs": [],
   "source": [
    "import pickle\n",
    "from pathlib import Path\n",
    "\n",
    "import geopandas as gpd\n",
    "import pandas as pd\n",
    "from tqdm import tqdm_notebook"
   ]
  },
  {
   "cell_type": "markdown",
   "metadata": {},
   "source": [
    "# Load data"
   ]
  },
  {
   "cell_type": "code",
   "execution_count": 2,
   "metadata": {},
   "outputs": [],
   "source": [
    "data_path = Path('../../data')"
   ]
  },
  {
   "cell_type": "code",
   "execution_count": 3,
   "metadata": {},
   "outputs": [],
   "source": [
    "with (data_path / 'interim/schools_foia.pkl').open('rb') as f:\n",
    "    schools = pickle.load(f)\n",
    "\n",
    "with (data_path / 'processed/blocks.pkl').open('rb') as f:\n",
    "    blocks = pickle.load(f)"
   ]
  },
  {
   "cell_type": "markdown",
   "metadata": {},
   "source": [
    "# Spatial join of schools and blocks"
   ]
  },
  {
   "cell_type": "markdown",
   "metadata": {},
   "source": [
    "Iterate through school years and match schools to blocks"
   ]
  },
  {
   "cell_type": "code",
   "execution_count": 4,
   "metadata": {},
   "outputs": [
    {
     "data": {
      "application/vnd.jupyter.widget-view+json": {
       "model_id": "069afb75296a442a8105c59edbd35c29",
       "version_major": 2,
       "version_minor": 0
      },
      "text/plain": [
       "HBox(children=(IntProgress(value=0, max=11), HTML(value='')))"
      ]
     },
     "metadata": {},
     "output_type": "display_data"
    },
    {
     "name": "stdout",
     "output_type": "stream",
     "text": [
      "\n"
     ]
    }
   ],
   "source": [
    "blocks = blocks.rename({'treated': 'treated_block'}, axis='columns')\n",
    "schools_blocks = []\n",
    "\n",
    "for sy in tqdm_notebook(\n",
    "        blocks['school_year'].unique(),\n",
    "        total=blocks['school_year'].nunique()):\n",
    "    schools_temp = schools[schools['school_year'] == sy]\n",
    "    blocks_temp = blocks[blocks['school_year'] == sy][[\n",
    "        'tract_bloc', 'geometry', 'treated_block'\n",
    "    ]]\n",
    "    schools_blocks_temp = gpd.sjoin(\n",
    "        # Deep copies should not be needed anymore in\n",
    "        # future version of geopandas (current 0.3.0)\n",
    "        schools_temp.copy(),\n",
    "        blocks_temp.copy(),\n",
    "        how='left',\n",
    "        op='intersects').reset_index(drop=True).drop(\n",
    "            'index_right', axis='columns')\n",
    "    schools_blocks.append(schools_blocks_temp)\n",
    "schools_blocks = pd.concat(schools_blocks, ignore_index=True)\n",
    "assert not schools_blocks['tract_bloc'].isnull().any()\n",
    "assert (schools_blocks.groupby('school_id').size() <= 5).all\n",
    "assert schools_blocks.shape[0] == schools.shape[0]\n",
    "del schools\n",
    "del blocks"
   ]
  },
  {
   "cell_type": "markdown",
   "metadata": {},
   "source": [
    "# Fix treatment status of schools\n",
    "Assigns a school a treatment status of 1 (treated) if the school is\n",
    "located in a census block which intersects with a Safe Passage route."
   ]
  },
  {
   "cell_type": "code",
   "execution_count": 5,
   "metadata": {},
   "outputs": [],
   "source": [
    "schools_blocks.drop('treated', axis='columns', inplace=True)\n",
    "schools_blocks.rename(\n",
    "    {\n",
    "        'treated_block': 'treated'\n",
    "    }, axis='columns', inplace=True)\n"
   ]
  },
  {
   "cell_type": "markdown",
   "metadata": {},
   "source": [
    "# Save"
   ]
  },
  {
   "cell_type": "code",
   "execution_count": 6,
   "metadata": {},
   "outputs": [],
   "source": [
    "schools_blocks = schools_blocks.sort_values(['school_name', 'school_year'])\n",
    "with (data_path / 'processed/schools_blocks.pkl').open('wb') as f:\n",
    "    pickle.dump(schools_blocks, f)"
   ]
  }
 ],
 "metadata": {
  "kernelspec": {
   "display_name": "Python 3",
   "language": "python",
   "name": "python3"
  },
  "language_info": {
   "codemirror_mode": {
    "name": "ipython",
    "version": 3
   },
   "file_extension": ".py",
   "mimetype": "text/x-python",
   "name": "python",
   "nbconvert_exporter": "python",
   "pygments_lexer": "ipython3",
   "version": "3.6.5"
  },
  "toc": {
   "nav_menu": {},
   "number_sections": true,
   "sideBar": true,
   "skip_h1_title": false,
   "title_cell": "Table of Contents",
   "title_sidebar": "Contents",
   "toc_cell": true,
   "toc_position": {},
   "toc_section_display": true,
   "toc_window_display": false
  }
 },
 "nbformat": 4,
 "nbformat_minor": 2
}
