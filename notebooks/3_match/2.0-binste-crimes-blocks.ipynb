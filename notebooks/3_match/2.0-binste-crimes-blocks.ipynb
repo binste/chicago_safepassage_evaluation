{
 "cells": [
  {
   "cell_type": "markdown",
   "metadata": {
    "toc": true
   },
   "source": [
    "<h1>Table of Contents<span class=\"tocSkip\"></span></h1>\n",
    "<div class=\"toc\"><ul class=\"toc-item\"><li><span><a href=\"#Load-data\" data-toc-modified-id=\"Load-data-1\"><span class=\"toc-item-num\">1&nbsp;&nbsp;</span>Load data</a></span><ul class=\"toc-item\"><li><span><a href=\"#Load-crimes\" data-toc-modified-id=\"Load-crimes-1.1\"><span class=\"toc-item-num\">1.1&nbsp;&nbsp;</span>Load crimes</a></span><ul class=\"toc-item\"><li><span><a href=\"#Drop-the-ones-with-missing-geospatial-data\" data-toc-modified-id=\"Drop-the-ones-with-missing-geospatial-data-1.1.1\"><span class=\"toc-item-num\">1.1.1&nbsp;&nbsp;</span>Drop the ones with missing geospatial data</a></span></li></ul></li><li><span><a href=\"#Load-blocks\" data-toc-modified-id=\"Load-blocks-1.2\"><span class=\"toc-item-num\">1.2&nbsp;&nbsp;</span>Load blocks</a></span></li></ul></li><li><span><a href=\"#Spatial-join-of-crimes-and-blocks\" data-toc-modified-id=\"Spatial-join-of-crimes-and-blocks-2\"><span class=\"toc-item-num\">2&nbsp;&nbsp;</span>Spatial join of crimes and blocks</a></span></li><li><span><a href=\"#Add-school-year-identifier-to-crimes\" data-toc-modified-id=\"Add-school-year-identifier-to-crimes-3\"><span class=\"toc-item-num\">3&nbsp;&nbsp;</span>Add school year identifier to crimes</a></span></li><li><span><a href=\"#Save\" data-toc-modified-id=\"Save-4\"><span class=\"toc-item-num\">4&nbsp;&nbsp;</span>Save</a></span></li></ul></div>"
   ]
  },
  {
   "cell_type": "markdown",
   "metadata": {},
   "source": [
    "**Description**: Performs spatial join of crimes and blocks. Adds this information\n",
    "as a new SQL table to the crime database.\n",
    "\n",
    "---"
   ]
  },
  {
   "cell_type": "code",
   "execution_count": 1,
   "metadata": {},
   "outputs": [],
   "source": [
    "import pickle\n",
    "import sys\n",
    "from pathlib import Path\n",
    "\n",
    "import geopandas as gpd\n",
    "from shapely.geometry import Point\n",
    "\n",
    "sys.path.append('../..')\n",
    "from src.prepare_data.crime_database import load_relevant_crimes, get_engine"
   ]
  },
  {
   "cell_type": "code",
   "execution_count": 2,
   "metadata": {},
   "outputs": [],
   "source": [
    "data_path = Path('../../data')"
   ]
  },
  {
   "cell_type": "markdown",
   "metadata": {},
   "source": [
    "# Load data\n",
    "## Load crimes"
   ]
  },
  {
   "cell_type": "code",
   "execution_count": 3,
   "metadata": {},
   "outputs": [],
   "source": [
    "crimes = load_relevant_crimes(\n",
    "    '2006-01-01', '2016-06-30', sqldb_path=str(data_path / 'processed/crimes.db'))"
   ]
  },
  {
   "cell_type": "markdown",
   "metadata": {},
   "source": [
    "### Drop the ones with missing geospatial data"
   ]
  },
  {
   "cell_type": "code",
   "execution_count": 4,
   "metadata": {},
   "outputs": [],
   "source": [
    "crimes = crimes.dropna(subset=['Longitude', 'Latitude'])"
   ]
  },
  {
   "cell_type": "markdown",
   "metadata": {},
   "source": [
    "## Load blocks"
   ]
  },
  {
   "cell_type": "code",
   "execution_count": 5,
   "metadata": {},
   "outputs": [],
   "source": [
    "with (data_path / 'processed/blocks.pkl').open('rb') as f:\n",
    "    blocks = pickle.load(f)"
   ]
  },
  {
   "cell_type": "markdown",
   "metadata": {},
   "source": [
    "# Spatial join of crimes and blocks"
   ]
  },
  {
   "cell_type": "markdown",
   "metadata": {},
   "source": [
    "Convert crimes to a geopandas dataframe"
   ]
  },
  {
   "cell_type": "code",
   "execution_count": 6,
   "metadata": {},
   "outputs": [],
   "source": [
    "locations = [\n",
    "    Point(lon, lat)\n",
    "    for lon, lat in zip(crimes['Longitude'], crimes['Latitude'])\n",
    "]"
   ]
  },
  {
   "cell_type": "markdown",
   "metadata": {},
   "source": [
    "Same crs as blocks dataset has"
   ]
  },
  {
   "cell_type": "code",
   "execution_count": 7,
   "metadata": {},
   "outputs": [],
   "source": [
    "crimes = gpd.GeoDataFrame(\n",
    "    data=crimes, geometry=locations, crs={\n",
    "        'init': 'epsg:4326'\n",
    "    }).reset_index(drop=True)\n",
    "del locations"
   ]
  },
  {
   "cell_type": "markdown",
   "metadata": {},
   "source": [
    "Currently each block has for each school year one entry.\n",
    "Only need one of them for geometries."
   ]
  },
  {
   "cell_type": "code",
   "execution_count": 8,
   "metadata": {},
   "outputs": [],
   "source": [
    "blocks = blocks.drop_duplicates(subset=['tract_bloc'])[[\n",
    "    'tract_bloc', 'geometry'\n",
    "]]\n",
    "assert isinstance(blocks, gpd.GeoDataFrame)"
   ]
  },
  {
   "cell_type": "markdown",
   "metadata": {},
   "source": [
    "Perform spatial join"
   ]
  },
  {
   "cell_type": "code",
   "execution_count": 9,
   "metadata": {},
   "outputs": [],
   "source": [
    "crimes_blocks = gpd.sjoin(\n",
    "    # Deep copies should not be needed anymore in\n",
    "    # future version of geopandas (current 0.3.0)\n",
    "    crimes.copy(),\n",
    "    blocks.copy(),\n",
    "    how='left',\n",
    "    op='intersects').reset_index(drop=True).drop(\n",
    "        'index_right', axis='columns')\n",
    "\n",
    "assert crimes.shape[0] == crimes_blocks.shape[0]"
   ]
  },
  {
   "cell_type": "markdown",
   "metadata": {},
   "source": [
    "Some crimes don't get a matched tract_bloc as\n",
    "they are in the outer ares of Chicago which are not considered\n",
    "in this analysis. Drop these crimes."
   ]
  },
  {
   "cell_type": "code",
   "execution_count": 10,
   "metadata": {},
   "outputs": [],
   "source": [
    "crimes_blocks.dropna(subset=['tract_bloc'], inplace=True)\n",
    "crimes_blocks.reset_index(drop=True, inplace=True)"
   ]
  },
  {
   "cell_type": "markdown",
   "metadata": {},
   "source": [
    "# Add school year identifier to crimes\n",
    "Only for crimes which happened during a school year.\n",
    "Will still later save the block information about crimes which\n",
    "happened during summer months etc., i.e. school year = NA is allowed."
   ]
  },
  {
   "cell_type": "code",
   "execution_count": 11,
   "metadata": {},
   "outputs": [],
   "source": [
    "sy_range = {\n",
    "    sy: (f'20{sy[2:4]}-09-01', f'20{sy[4:]}-06-30')\n",
    "    for sy in [\n",
    "        'SY0506', 'SY0607', 'SY0708', 'SY0809', 'SY0910', 'SY1011',\n",
    "        'SY1112', 'SY1213', 'SY1314', 'SY1415', 'SY1516'\n",
    "    ]\n",
    "}\n",
    "\n",
    "for sy in sy_range.keys():\n",
    "    crimes_blocks.loc[(crimes_blocks['Date'] >= sy_range[sy][0]) & (\n",
    "        crimes_blocks['Date'] <= sy_range[sy][1]), 'school_year'] = sy"
   ]
  },
  {
   "cell_type": "markdown",
   "metadata": {},
   "source": [
    "# Save\n",
    "as a new table to SQL database"
   ]
  },
  {
   "cell_type": "code",
   "execution_count": 13,
   "metadata": {},
   "outputs": [],
   "source": [
    "crimes_blocks = crimes_blocks[['ID', 'tract_bloc', 'school_year']]\n",
    "disk_engine = get_engine(sqldb_path=str(data_path / 'processed/crimes.db'))\n",
    "crimes_blocks.to_sql(\n",
    "    'crimes_blocks',\n",
    "    disk_engine,\n",
    "    if_exists='replace',\n",
    "    index=False,\n",
    "    chunksize=900)"
   ]
  },
  {
   "cell_type": "code",
   "execution_count": null,
   "metadata": {},
   "outputs": [],
   "source": []
  }
 ],
 "metadata": {
  "kernelspec": {
   "display_name": "Python 3",
   "language": "python",
   "name": "python3"
  },
  "language_info": {
   "codemirror_mode": {
    "name": "ipython",
    "version": 3
   },
   "file_extension": ".py",
   "mimetype": "text/x-python",
   "name": "python",
   "nbconvert_exporter": "python",
   "pygments_lexer": "ipython3",
   "version": "3.6.6"
  },
  "toc": {
   "nav_menu": {},
   "number_sections": true,
   "sideBar": true,
   "skip_h1_title": false,
   "title_cell": "Table of Contents",
   "title_sidebar": "Contents",
   "toc_cell": true,
   "toc_position": {},
   "toc_section_display": true,
   "toc_window_display": false
  }
 },
 "nbformat": 4,
 "nbformat_minor": 2
}
