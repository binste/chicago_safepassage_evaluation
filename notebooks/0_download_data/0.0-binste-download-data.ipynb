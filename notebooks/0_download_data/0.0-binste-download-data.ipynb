{
 "cells": [
  {
   "cell_type": "markdown",
   "metadata": {
    "toc": true
   },
   "source": [
    "<h1>Table of Contents<span class=\"tocSkip\"></span></h1>\n",
    "<div class=\"toc\"><ul class=\"toc-item\"><li><span><a href=\"#Preparation\" data-toc-modified-id=\"Preparation-1\"><span class=\"toc-item-num\">1&nbsp;&nbsp;</span>Preparation</a></span><ul class=\"toc-item\"><li><span><a href=\"#Parameters-(user-input)\" data-toc-modified-id=\"Parameters-(user-input)-1.1\"><span class=\"toc-item-num\">1.1&nbsp;&nbsp;</span>Parameters (user input)</a></span></li><li><span><a href=\"#Function\" data-toc-modified-id=\"Function-1.2\"><span class=\"toc-item-num\">1.2&nbsp;&nbsp;</span>Function</a></span></li></ul></li><li><span><a href=\"#School-locations\" data-toc-modified-id=\"School-locations-2\"><span class=\"toc-item-num\">2&nbsp;&nbsp;</span>School locations</a></span></li><li><span><a href=\"#Crimes\" data-toc-modified-id=\"Crimes-3\"><span class=\"toc-item-num\">3&nbsp;&nbsp;</span>Crimes</a></span></li><li><span><a href=\"#Safe-Passage-routes\" data-toc-modified-id=\"Safe-Passage-routes-4\"><span class=\"toc-item-num\">4&nbsp;&nbsp;</span>Safe Passage routes</a></span></li><li><span><a href=\"#Census-block-boundaries\" data-toc-modified-id=\"Census-block-boundaries-5\"><span class=\"toc-item-num\">5&nbsp;&nbsp;</span>Census block boundaries</a></span></li><li><span><a href=\"#Implementation-of-Safe-Passage-program\" data-toc-modified-id=\"Implementation-of-Safe-Passage-program-6\"><span class=\"toc-item-num\">6&nbsp;&nbsp;</span>Implementation of Safe Passage program</a></span></li></ul></div>"
   ]
  },
  {
   "cell_type": "markdown",
   "metadata": {},
   "source": [
    "**Description**: This notebook can be used to download all the used data files which exist on the Data Portal of the City of Chicago. However, all of the datasets except for the crime data are already provided in the `data/raw` folder in the GitHub repository. The crime data set is over 1.5 GB in size and therefore too large to host on GitHub. However, it should not change much for the years used in this analysis (2009-2016) and therefore a download from the original source should work. \n",
    "\n",
    "This notebook will therefore by default only download the necessary data on crimes. After running it, you will have all the data needed in the correct folders to continue with the other notebooks.\n",
    "\n",
    "For a more detailed description of the data used in this project, see the section \"Data\" in the [Appendix](https://github.com/binste/chicago_safepassage_evaluation/tree/master/reports/appendix/Appendix.pdf).\n",
    "\n",
    "---"
   ]
  },
  {
   "cell_type": "code",
   "execution_count": 1,
   "metadata": {},
   "outputs": [],
   "source": [
    "import math\n",
    "import zipfile\n",
    "from pathlib import Path\n",
    "\n",
    "import requests\n",
    "from tqdm import tqdm_notebook"
   ]
  },
  {
   "cell_type": "markdown",
   "metadata": {},
   "source": [
    "# Preparation"
   ]
  },
  {
   "cell_type": "markdown",
   "metadata": {},
   "source": [
    "## Parameters (user input)"
   ]
  },
  {
   "cell_type": "markdown",
   "metadata": {},
   "source": [
    "If `re_download` is set to `True`, all the data sources (except the one obtained via FOIA request) will be downloaded and can replace existing files. If it is set to `False`, no files will be replaced."
   ]
  },
  {
   "cell_type": "code",
   "execution_count": 2,
   "metadata": {},
   "outputs": [],
   "source": [
    "re_download = False"
   ]
  },
  {
   "cell_type": "markdown",
   "metadata": {},
   "source": [
    "## Function"
   ]
  },
  {
   "cell_type": "markdown",
   "metadata": {},
   "source": [
    "The following code cell contains the function used for downloading the individual files."
   ]
  },
  {
   "cell_type": "code",
   "execution_count": 3,
   "metadata": {},
   "outputs": [],
   "source": [
    "def download_file(url,\n",
    "                  filename,\n",
    "                  data_raw_path='../../data/raw',\n",
    "                  sub_path='',\n",
    "                  force_download=True):\n",
    "    \"\"\"Downloads file from the url and saves it to specified location\n",
    "    \n",
    "    If the file does not already exist, it is downloaded from the given url\n",
    "    and saved to the specified location which consists of data_raw_path the optional\n",
    "    sub_path as well as the filename.\n",
    "    \n",
    "    Parameters\n",
    "    ----------\n",
    "    url : str\n",
    "        Url from which file should be downloaded\n",
    "    \n",
    "    filename : str, format = \"filename.fileending\"\n",
    "        Filename under which it should be saved (including file ending)\n",
    "        \n",
    "    data_raw_path : str, optional (default='../../data/raw')\n",
    "        Default path to the raw data folder\n",
    "        \n",
    "    sub_path : str, optional (default='')\n",
    "        Default behaviour puts file in data raw path. If a sub folder\n",
    "        should be used, specify its name with this argument.\n",
    "        \n",
    "    force_download : bool, optional (default=False)\n",
    "        If True, forces download even if file already exists\n",
    "        \n",
    "    Returns\n",
    "    -------\n",
    "    bool\n",
    "        If download was completed (can be used for follow up actions such as unzipping)\n",
    "    \n",
    "    Example\n",
    "    -------\n",
    "    >>> download_file('https://test.com/school_location_1415.csv', 'sch_location_1415.csv', \n",
    "                      sub_path='school_location')\n",
    "                      \n",
    "    Notes\n",
    "    -----\n",
    "    This function heavily leans on the following two stackoverflow threads:\n",
    "    * https://stackoverflow.com/questions/45978295/saving-a-downloaded-csv-file-using-python\n",
    "    * https://stackoverflow.com/questions/37573483/progress-bar-while-download-file-over-http-with-requests/37573701\n",
    "    \"\"\"\n",
    "    # Prepare full path to file\n",
    "    file_path = Path(data_raw_path + '/' + sub_path) / Path(filename)\n",
    "    # check if file already exists\n",
    "    if not file_path.is_file() or force_download:\n",
    "        print(f'Downloading {filename}')\n",
    "        r = requests.get(url, stream=True)\n",
    "        # Check if the response is ok (200)\n",
    "        if r.status_code == 200:\n",
    "            # Get total file size in bytes. If download server supports it,\n",
    "            # this will be a compressed version and the total file size on your\n",
    "            # hard disk may be larger!\n",
    "            total_size = int(r.headers.get('content-length', 0))\n",
    "            block_size = 1024\n",
    "            wrote = 0\n",
    "            # Open file and write the content\n",
    "            with open(file_path, 'wb') as f:\n",
    "                for block in tqdm_notebook(\n",
    "                        r.iter_content(block_size),\n",
    "                        total=math.ceil(total_size // block_size),\n",
    "                        unit='KB',\n",
    "                        unit_scale=True):\n",
    "                    wrote = wrote + len(block)\n",
    "                    f.write(block)\n",
    "            if total_size != 0 and wrote != total_size:\n",
    "                raise Exception(f'Could only download {wrote}/{total_size}')\n",
    "            download_success = True\n",
    "        else:\n",
    "            raise Exception(f'Could not download file. Request status code: {r.status_code}')\n",
    "    else:\n",
    "        print(\n",
    "            'File already exists. Nothing was downloaded. Set force_download=True',\n",
    "            'to download the file anyway and replace the existing one.')\n",
    "        download_success = False\n",
    "    return download_success"
   ]
  },
  {
   "cell_type": "markdown",
   "metadata": {},
   "source": [
    "# School locations\n",
    "| Name of file | Description | Date of download | Source | Application process | Costs |\n",
    "| --- | --- | --- | --- | --- | --- |\n",
    "| See code below | Contains location and additional information of all Chicago Public School's for a given school year. | 2018-07-12 | See code below | None, can be downloaded without registration. | None |\n",
    "\n",
    "A list of all available school years can be found on the [official data portal of the City of Chicago](https://data.cityofchicago.org/browse?q=school+locations&sortBy=relevance)."
   ]
  },
  {
   "cell_type": "code",
   "execution_count": 4,
   "metadata": {},
   "outputs": [],
   "source": [
    "school_loc_sources = {\n",
    "    # SY1314\n",
    "    'Units2013_14.csv':\n",
    "    'https://data.cityofchicago.org/api/views/dgq3-i7xm/rows.csv?accessType=DOWNLOAD',\n",
    "    # SY1415\n",
    "    'CPS_School_Locations_SY1415.csv':\n",
    "    'https://data.cityofchicago.org/api/views/mntu-576c/rows.csv?accessType=DOWNLOAD',\n",
    "    # SY1516\n",
    "    'CPS_School_Locations_SY1516.csv':\n",
    "    'https://data.cityofchicago.org/api/views/mb74-gx3g/rows.csv?accessType=DOWNLOAD',\n",
    "}"
   ]
  },
  {
   "cell_type": "code",
   "execution_count": 5,
   "metadata": {},
   "outputs": [
    {
     "name": "stdout",
     "output_type": "stream",
     "text": [
      "File already exists. Nothing was downloaded. Set force_download=True to download the file anyway and replace the existing one.\n",
      "File already exists. Nothing was downloaded. Set force_download=True to download the file anyway and replace the existing one.\n",
      "File already exists. Nothing was downloaded. Set force_download=True to download the file anyway and replace the existing one.\n"
     ]
    }
   ],
   "source": [
    "if re_download:\n",
    "    for f_name, f_url in school_loc_sources.items():\n",
    "        download_file(f_url, f_name, sub_path='school_locations')"
   ]
  },
  {
   "cell_type": "markdown",
   "metadata": {},
   "source": [
    "# Crimes\n",
    "\n",
    "| Name of file | Description | Date of download | Source | Application process | Costs |\n",
    "| --- | --- | --- | --- | --- | --- |\n",
    "| See code below | *\"This dataset reflects reported incidents of crime (with the exception of murders where data exists for each victim) that occurred in the City of Chicago from 2001 to present, minus the most recent seven days.\"* - [Chicago Data Portal](https://data.cityofchicago.org/Public-Safety/Crimes-2001-to-present/ijzp-q8t2) | 2018-01-25 | See code below | None, can be downloaded without registration. | None |"
   ]
  },
  {
   "cell_type": "code",
   "execution_count": 6,
   "metadata": {},
   "outputs": [
    {
     "name": "stdout",
     "output_type": "stream",
     "text": [
      "File already exists. Nothing was downloaded. Set force_download=True to download the file anyway and replace the existing one.\n"
     ]
    },
    {
     "data": {
      "text/plain": [
       "False"
      ]
     },
     "execution_count": 6,
     "metadata": {},
     "output_type": "execute_result"
    }
   ],
   "source": [
    "download_file('https://data.cityofchicago.org/api/views/ijzp-q8t2/rows.csv?accessType=DOWNLOAD',\n",
    "             'Crimes_-_2001_to_present.csv')"
   ]
  },
  {
   "cell_type": "markdown",
   "metadata": {},
   "source": [
    "# Safe Passage routes\n",
    "| Name of file | Description | Date of download | Source | Application process | Costs |\n",
    "| --- | --- | --- | --- | --- | --- |\n",
    "| See code below | Contains location and additional information on Safe Passage routes for a given school year | 2018-01-25 | See code below | None, can be downloaded without registration. | None |\n",
    "\n",
    "\n",
    "The unzipped shapefiles for the Safe Passage routes have a unique name for each download request. Therefore you might need to adjust the names in the notebook `../1_prepare_data/1.0-binste-routes.ipynb` if you redownload the files below."
   ]
  },
  {
   "cell_type": "code",
   "execution_count": 7,
   "metadata": {},
   "outputs": [],
   "source": [
    "routes_sources = {'Chicago Public Schools - Safe Passage Routes SY1314.zip':\n",
    "                 'https://data.cityofchicago.org/api/geospatial/b4yy-ytgy?method=export&format=Shapefile',\n",
    "                 'Chicago Public Schools - Safe Passage Routes SY1415.zip':\n",
    "                 'https://data.cityofchicago.org/api/geospatial/4s9i-vyw7?method=export&format=Shapefile',\n",
    "                  'Chicago Public Schools - Safe Passage Routes SY1516.zip':\n",
    "                  'https://data.cityofchicago.org/api/geospatial/adhw-m4zi?method=export&format=Shapefile',\n",
    "                 }"
   ]
  },
  {
   "cell_type": "code",
   "execution_count": 8,
   "metadata": {},
   "outputs": [
    {
     "name": "stdout",
     "output_type": "stream",
     "text": [
      "File already exists. Nothing was downloaded. Set force_download=True to download the file anyway and replace the existing one.\n",
      "File already exists. Nothing was downloaded. Set force_download=True to download the file anyway and replace the existing one.\n",
      "File already exists. Nothing was downloaded. Set force_download=True to download the file anyway and replace the existing one.\n"
     ]
    }
   ],
   "source": [
    "if re_download:\n",
    "    for f_name, f_url in routes_sources.items():\n",
    "        success_flag = download_file(f_url, f_name, sub_path='routes')\n",
    "        if success_flag:\n",
    "            zip_path = Path('../../data/raw/routes/')\n",
    "            with zipfile.ZipFile(zip_path / f_name, 'r') as zip_ref:\n",
    "                zip_ref.extractall(zip_path / Path(f_name).stem)"
   ]
  },
  {
   "cell_type": "markdown",
   "metadata": {},
   "source": [
    "# Census block boundaries\n",
    "| Name of file | Description | Date of download | Source | Application process | Costs |\n",
    "| --- | --- | --- | --- | --- | --- |\n",
    "| See code below | Contains 2010 Census block boundaries | 2018-04-09 | See code below | None, can be downloaded without registration. | None |"
   ]
  },
  {
   "cell_type": "code",
   "execution_count": 9,
   "metadata": {},
   "outputs": [
    {
     "name": "stdout",
     "output_type": "stream",
     "text": [
      "File already exists. Nothing was downloaded. Set force_download=True to download the file anyway and replace the existing one.\n"
     ]
    }
   ],
   "source": [
    "if re_download:\n",
    "    success_flag = download_file(\n",
    "        'https://data.cityofchicago.org/api/geospatial/mfzt-js4n?method=export&format=Shapefile',\n",
    "        'Boundaries - Census Blocks - 2010.zip')\n",
    "    if success_flag:\n",
    "        zip_path = Path('../../data/raw/')\n",
    "        f_name = 'Boundaries - Census Blocks - 2010.zip'\n",
    "        with zipfile.ZipFile(zip_path / f_name, 'r') as zip_ref:\n",
    "            zip_ref.extractall(zip_path / Path(f_name).stem)"
   ]
  },
  {
   "cell_type": "markdown",
   "metadata": {},
   "source": [
    "# Implementation of Safe Passage program\n",
    "| Name of file | Description | Date of download | Source | Application process | Costs |\n",
    "| --- | --- | --- | --- | --- | --- |\n",
    "| `Safe_Passage_Schools_By_Implementation_Year_8.12.16.xlsx` | Contains information on when (school year) the Safe Passage program was implemented at what school. | 2018-05-01 | Chicago Public Schools | Obtained through a Freedom of Information Act request to the Chicago Public School body. The initial request can be found on the [official CPS FOIA website](https://cps.edu/About_CPS/Departments/Law/Pages/FOIARequest.aspx) by going to the \"Archive\" and searching for my name, Stefan Binder. | None |\n"
   ]
  },
  {
   "cell_type": "code",
   "execution_count": null,
   "metadata": {},
   "outputs": [],
   "source": []
  }
 ],
 "metadata": {
  "kernelspec": {
   "display_name": "Python 3",
   "language": "python",
   "name": "python3"
  },
  "language_info": {
   "codemirror_mode": {
    "name": "ipython",
    "version": 3
   },
   "file_extension": ".py",
   "mimetype": "text/x-python",
   "name": "python",
   "nbconvert_exporter": "python",
   "pygments_lexer": "ipython3",
   "version": "3.6.5"
  },
  "toc": {
   "nav_menu": {},
   "number_sections": true,
   "sideBar": true,
   "skip_h1_title": false,
   "title_cell": "Table of Contents",
   "title_sidebar": "Contents",
   "toc_cell": true,
   "toc_position": {
    "height": "calc(100% - 180px)",
    "left": "10px",
    "top": "150px",
    "width": "239px"
   },
   "toc_section_display": true,
   "toc_window_display": true
  }
 },
 "nbformat": 4,
 "nbformat_minor": 2
}
