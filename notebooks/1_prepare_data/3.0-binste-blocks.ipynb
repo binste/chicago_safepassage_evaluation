{
 "cells": [
  {
   "cell_type": "markdown",
   "metadata": {
    "toc": true
   },
   "source": [
    "<h1>Table of Contents<span class=\"tocSkip\"></span></h1>\n",
    "<div class=\"toc\"><ul class=\"toc-item\"><li><span><a href=\"#Read-in-census-blocks\" data-toc-modified-id=\"Read-in-census-blocks-1\"><span class=\"toc-item-num\">1&nbsp;&nbsp;</span>Read in census blocks</a></span></li><li><span><a href=\"#Minor-preprocessing\" data-toc-modified-id=\"Minor-preprocessing-2\"><span class=\"toc-item-num\">2&nbsp;&nbsp;</span>Minor preprocessing</a></span></li><li><span><a href=\"#Save\" data-toc-modified-id=\"Save-3\"><span class=\"toc-item-num\">3&nbsp;&nbsp;</span>Save</a></span></li></ul></div>"
   ]
  },
  {
   "cell_type": "markdown",
   "metadata": {},
   "source": [
    "**Description**: Reads and processes shapefile of census blocks 2010 and\n",
    "saves as pickled geopandas dataframe.\n",
    "\n",
    "---"
   ]
  },
  {
   "cell_type": "code",
   "execution_count": 1,
   "metadata": {},
   "outputs": [],
   "source": [
    "import pickle\n",
    "from pathlib import Path\n",
    "\n",
    "import geopandas as gpd"
   ]
  },
  {
   "cell_type": "code",
   "execution_count": 2,
   "metadata": {},
   "outputs": [],
   "source": [
    "data_path = Path('../../data')"
   ]
  },
  {
   "cell_type": "markdown",
   "metadata": {},
   "source": [
    "# Read in census blocks"
   ]
  },
  {
   "cell_type": "code",
   "execution_count": 3,
   "metadata": {},
   "outputs": [],
   "source": [
    "blocks_path = (data_path / 'raw/Boundaries - Census Blocks - 2010')\n",
    "blocks = gpd.read_file(str(blocks_path))"
   ]
  },
  {
   "cell_type": "markdown",
   "metadata": {},
   "source": [
    "# Minor preprocessing"
   ]
  },
  {
   "cell_type": "markdown",
   "metadata": {},
   "source": [
    "Fix type of some numerical columns (string -> int)"
   ]
  },
  {
   "cell_type": "code",
   "execution_count": 4,
   "metadata": {},
   "outputs": [],
   "source": [
    "num_cols = [\n",
    "    'statefp10', 'countyfp10', 'tractce10', 'geoid10', 'blockce10',\n",
    "    'tract_bloc'\n",
    "]\n",
    "blocks[num_cols] = blocks[num_cols].astype(int)"
   ]
  },
  {
   "cell_type": "markdown",
   "metadata": {},
   "source": [
    "The following drops 46 duplicate entries which are duplicates for every\n",
    "column, including geometry. Drop_duplicates method does not work for Polygon shapely files. In the\n",
    "following it is enough to check with 'tract_bloc' (this was tested)."
   ]
  },
  {
   "cell_type": "code",
   "execution_count": 5,
   "metadata": {},
   "outputs": [],
   "source": [
    "blocks = blocks.drop_duplicates(subset=['tract_bloc'])"
   ]
  },
  {
   "cell_type": "markdown",
   "metadata": {},
   "source": [
    "# Save"
   ]
  },
  {
   "cell_type": "code",
   "execution_count": 6,
   "metadata": {},
   "outputs": [],
   "source": [
    "with (data_path / 'interim/blocks.pkl').open('wb') as f:\n",
    "    pickle.dump(blocks, f)"
   ]
  }
 ],
 "metadata": {
  "kernelspec": {
   "display_name": "Python 3",
   "language": "python",
   "name": "python3"
  },
  "language_info": {
   "codemirror_mode": {
    "name": "ipython",
    "version": 3
   },
   "file_extension": ".py",
   "mimetype": "text/x-python",
   "name": "python",
   "nbconvert_exporter": "python",
   "pygments_lexer": "ipython3",
   "version": "3.6.6"
  },
  "toc": {
   "nav_menu": {},
   "number_sections": true,
   "sideBar": true,
   "skip_h1_title": false,
   "title_cell": "Table of Contents",
   "title_sidebar": "Contents",
   "toc_cell": true,
   "toc_position": {},
   "toc_section_display": true,
   "toc_window_display": false
  }
 },
 "nbformat": 4,
 "nbformat_minor": 2
}
