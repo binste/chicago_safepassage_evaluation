{
 "cells": [
  {
   "cell_type": "markdown",
   "metadata": {
    "toc": true
   },
   "source": [
    "<h1>Table of Contents<span class=\"tocSkip\"></span></h1>\n",
    "<div class=\"toc\"><ul class=\"toc-item\"><li><span><a href=\"#Preparation\" data-toc-modified-id=\"Preparation-1\"><span class=\"toc-item-num\">1&nbsp;&nbsp;</span>Preparation</a></span><ul class=\"toc-item\"><li><span><a href=\"#Paths\" data-toc-modified-id=\"Paths-1.1\"><span class=\"toc-item-num\">1.1&nbsp;&nbsp;</span>Paths</a></span></li><li><span><a href=\"#Read-school-locations-from-each-school-year\" data-toc-modified-id=\"Read-school-locations-from-each-school-year-1.2\"><span class=\"toc-item-num\">1.2&nbsp;&nbsp;</span>Read school locations from each school year</a></span></li></ul></li><li><span><a href=\"#Harmonize-school-names\" data-toc-modified-id=\"Harmonize-school-names-2\"><span class=\"toc-item-num\">2&nbsp;&nbsp;</span>Harmonize school names</a></span></li><li><span><a href=\"#Adjust-addresses-and-coordinates-for-schools-with-multiple-differing-entries\" data-toc-modified-id=\"Adjust-addresses-and-coordinates-for-schools-with-multiple-differing-entries-3\"><span class=\"toc-item-num\">3&nbsp;&nbsp;</span>Adjust addresses and coordinates for schools with multiple differing entries</a></span></li><li><span><a href=\"#Convert-go-geopandas-dataframe\" data-toc-modified-id=\"Convert-go-geopandas-dataframe-4\"><span class=\"toc-item-num\">4&nbsp;&nbsp;</span>Convert go geopandas dataframe</a></span></li><li><span><a href=\"#Save\" data-toc-modified-id=\"Save-5\"><span class=\"toc-item-num\">5&nbsp;&nbsp;</span>Save</a></span></li></ul></div>"
   ]
  },
  {
   "cell_type": "markdown",
   "metadata": {},
   "source": [
    "**Description**: Loads and preprocesses school locations, harmonizes school names according to the conventions used in this project, creates a preliminary treatment indicator, and then saves the data.\n",
    "\n",
    "---"
   ]
  },
  {
   "cell_type": "code",
   "execution_count": 1,
   "metadata": {},
   "outputs": [],
   "source": [
    "import pickle\n",
    "import re\n",
    "import sys\n",
    "from pathlib import Path\n",
    "\n",
    "import geopandas as gpd\n",
    "import pandas as pd\n",
    "from shapely.geometry import Point\n",
    "\n",
    "sys.path.append('../..')\n",
    "from src.prepare_data.routes import check_school_name_id_unique\n",
    "from src.prepare_data.school_locations import (split_school, take_last_values,\n",
    "                                               uppercase_school_categories,\n",
    "                                               load_locations)"
   ]
  },
  {
   "cell_type": "markdown",
   "metadata": {},
   "source": [
    "# Preparation\n",
    "## Paths"
   ]
  },
  {
   "cell_type": "code",
   "execution_count": 2,
   "metadata": {},
   "outputs": [],
   "source": [
    "data_path = Path('../../data')\n",
    "school_locations_path = data_path / 'raw/school_locations'\n",
    "location_files = [('CPS_School_Locations_SY1516.csv',\n",
    "                   'SY1516'), ('CPS_School_Locations_SY1415.csv',\n",
    "                               'SY1415'), ('Units2013_14.csv', 'SY1314')]"
   ]
  },
  {
   "cell_type": "markdown",
   "metadata": {},
   "source": [
    "## Read school locations from each school year"
   ]
  },
  {
   "cell_type": "code",
   "execution_count": 3,
   "metadata": {},
   "outputs": [],
   "source": [
    "schools = []\n",
    "for file, school_year in location_files:\n",
    "    schools.append(\n",
    "        load_locations(school_locations_path / file, school_year))"
   ]
  },
  {
   "cell_type": "markdown",
   "metadata": {},
   "source": [
    "Append all locations together"
   ]
  },
  {
   "cell_type": "code",
   "execution_count": 4,
   "metadata": {},
   "outputs": [],
   "source": [
    "schools = pd.concat(schools, ignore_index=True, sort=True)"
   ]
  },
  {
   "cell_type": "markdown",
   "metadata": {},
   "source": [
    "# Harmonize school names"
   ]
  },
  {
   "cell_type": "markdown",
   "metadata": {},
   "source": [
    "Let's merge harmonized school names from routes dataset by school_id.\n",
    "\n",
    "First, load the routes dataset"
   ]
  },
  {
   "cell_type": "code",
   "execution_count": 5,
   "metadata": {},
   "outputs": [],
   "source": [
    "with (data_path / 'processed/routes.pkl').open('rb') as f:\n",
    "    all_routes = pickle.load(f)"
   ]
  },
  {
   "cell_type": "markdown",
   "metadata": {},
   "source": [
    "Extract harmonized school names and corresponding school ids"
   ]
  },
  {
   "cell_type": "code",
   "execution_count": 6,
   "metadata": {},
   "outputs": [],
   "source": [
    "harmonized_names = all_routes[['school_id',\n",
    "                               'school_name']].drop_duplicates()"
   ]
  },
  {
   "cell_type": "markdown",
   "metadata": {},
   "source": [
    "Create treatment dummy by school and school year"
   ]
  },
  {
   "cell_type": "code",
   "execution_count": 7,
   "metadata": {},
   "outputs": [],
   "source": [
    "treated_dummy = all_routes[['school_id', 'school_year']]\n",
    "assert not any(treated_dummy.duplicated())\n",
    "del all_routes\n",
    "treated_dummy['treated'] = 1"
   ]
  },
  {
   "cell_type": "markdown",
   "metadata": {},
   "source": [
    "Merge new school names, keep old names\n",
    "for never treated schools"
   ]
  },
  {
   "cell_type": "code",
   "execution_count": 8,
   "metadata": {},
   "outputs": [],
   "source": [
    "schools['school_name_backup'] = schools['school_name']\n",
    "schools.drop('school_name', axis='columns', inplace=True)\n",
    "schools = schools.merge(\n",
    "    harmonized_names, how='left', on='school_id')"
   ]
  },
  {
   "cell_type": "markdown",
   "metadata": {},
   "source": [
    "Takes school name of last school year per school id"
   ]
  },
  {
   "cell_type": "code",
   "execution_count": 9,
   "metadata": {},
   "outputs": [],
   "source": [
    "untreated_schools = schools[schools['school_name']\n",
    "                                  .isnull()].copy()\n",
    "untreated_schools.sort_values(['school_id', 'school_year'], inplace=True)\n",
    "untreated_schools = untreated_schools.groupby('school_id').apply(\n",
    "    lambda x: x.tail(1)['school_name_backup'])\n",
    "untreated_schools = untreated_schools.reset_index(0).reset_index(drop=True)"
   ]
  },
  {
   "cell_type": "markdown",
   "metadata": {},
   "source": [
    "Adjust formatting of school names of untreated schools, i.e. capitalize and Hs -> HS and Es -> ES"
   ]
  },
  {
   "cell_type": "code",
   "execution_count": 10,
   "metadata": {},
   "outputs": [],
   "source": [
    "untreated_schools['school_name_backup'] = untreated_schools[\n",
    "    'school_name_backup'].str.title().apply(uppercase_school_categories)"
   ]
  },
  {
   "cell_type": "markdown",
   "metadata": {},
   "source": [
    "Drop school_name_backup and merge newly created column\n",
    "school_name_backup, which contains (at least for all untreated schools)\n",
    "the school name of the last school year in the dataset\n",
    "as described above"
   ]
  },
  {
   "cell_type": "code",
   "execution_count": 11,
   "metadata": {},
   "outputs": [],
   "source": [
    "schools.drop('school_name_backup', axis='columns', inplace=True)\n",
    "schools = schools.merge(\n",
    "    untreated_schools, how='left', on='school_id')"
   ]
  },
  {
   "cell_type": "markdown",
   "metadata": {},
   "source": [
    "Harmonize school name for all untreated schools"
   ]
  },
  {
   "cell_type": "code",
   "execution_count": 12,
   "metadata": {},
   "outputs": [],
   "source": [
    "schools.loc[schools['school_name'].isnull(),\n",
    "                  'school_name'] = schools.loc[schools[\n",
    "                      'school_name'].isnull(), 'school_name_backup']\n",
    "schools.drop('school_name_backup', axis='columns', inplace=True)"
   ]
  },
  {
   "cell_type": "markdown",
   "metadata": {},
   "source": [
    "Merge treatment dummy"
   ]
  },
  {
   "cell_type": "code",
   "execution_count": 13,
   "metadata": {},
   "outputs": [],
   "source": [
    "schools = schools.merge(\n",
    "    treated_dummy, how='left', on=['school_id', 'school_year'])\n",
    "assert any(schools['treated'].isnull())\n",
    "schools.loc[schools['treated'].isnull(), 'treated'] = 0"
   ]
  },
  {
   "cell_type": "markdown",
   "metadata": {},
   "source": [
    "# Adjust addresses and coordinates for schools with multiple differing entries"
   ]
  },
  {
   "cell_type": "code",
   "execution_count": 14,
   "metadata": {},
   "outputs": [],
   "source": [
    "schools = schools.sort_values(\n",
    "    ['school_name', 'school_year']).reset_index(drop=True)"
   ]
  },
  {
   "cell_type": "markdown",
   "metadata": {},
   "source": [
    "Get list of schools which changed location\n",
    "(see in header mentioned notebook on how this list was created)"
   ]
  },
  {
   "cell_type": "code",
   "execution_count": 15,
   "metadata": {},
   "outputs": [],
   "source": [
    "with (data_path / 'raw/school_locations/schools_moved.pkl').open('rb') as f:\n",
    "    moved_schools = pickle.load(f)"
   ]
  },
  {
   "cell_type": "markdown",
   "metadata": {},
   "source": [
    "Split schools which moved into old and new entries by date of move"
   ]
  },
  {
   "cell_type": "code",
   "execution_count": 16,
   "metadata": {},
   "outputs": [],
   "source": [
    "schools = schools.groupby('school_name').apply(\n",
    "    split_school, moved_schools=moved_schools)"
   ]
  },
  {
   "cell_type": "markdown",
   "metadata": {},
   "source": [
    "Take last values for coordinates and address"
   ]
  },
  {
   "cell_type": "code",
   "execution_count": 17,
   "metadata": {},
   "outputs": [],
   "source": [
    "schools = schools.groupby('school_name').apply(\n",
    "    take_last_values)"
   ]
  },
  {
   "cell_type": "markdown",
   "metadata": {},
   "source": [
    "# Convert go geopandas dataframe"
   ]
  },
  {
   "cell_type": "markdown",
   "metadata": {},
   "source": [
    "Coordinatesystem to use"
   ]
  },
  {
   "cell_type": "code",
   "execution_count": 18,
   "metadata": {},
   "outputs": [],
   "source": [
    "crs = {'init': 'epsg:4326'}"
   ]
  },
  {
   "cell_type": "markdown",
   "metadata": {},
   "source": [
    "Convert dataframe"
   ]
  },
  {
   "cell_type": "code",
   "execution_count": 19,
   "metadata": {},
   "outputs": [],
   "source": [
    "loc_shapely = [\n",
    "    Point(lon, lat)\n",
    "    for lon, lat in zip(schools['lon'], schools['lat'])\n",
    "]\n",
    "schools = gpd.GeoDataFrame(\n",
    "    data=schools, geometry=loc_shapely, crs=crs)"
   ]
  },
  {
   "cell_type": "markdown",
   "metadata": {},
   "source": [
    "# Save"
   ]
  },
  {
   "cell_type": "markdown",
   "metadata": {},
   "source": [
    "Make sure that only one school id corresponds to each name\n",
    "and other way around"
   ]
  },
  {
   "cell_type": "code",
   "execution_count": 20,
   "metadata": {},
   "outputs": [],
   "source": [
    "check_school_name_id_unique(schools)"
   ]
  },
  {
   "cell_type": "markdown",
   "metadata": {},
   "source": [
    "Save school locations"
   ]
  },
  {
   "cell_type": "code",
   "execution_count": 21,
   "metadata": {},
   "outputs": [],
   "source": [
    "schools = schools.sort_values(['school_name', 'school_year'])\n",
    "schools = schools.reset_index(drop=True)\n",
    "with (data_path / 'interim/schools.pkl').open('wb') as f:\n",
    "    pickle.dump(schools, f)"
   ]
  }
 ],
 "metadata": {
  "kernelspec": {
   "display_name": "Python 3",
   "language": "python",
   "name": "python3"
  },
  "language_info": {
   "codemirror_mode": {
    "name": "ipython",
    "version": 3
   },
   "file_extension": ".py",
   "mimetype": "text/x-python",
   "name": "python",
   "nbconvert_exporter": "python",
   "pygments_lexer": "ipython3",
   "version": "3.6.5"
  },
  "toc": {
   "nav_menu": {},
   "number_sections": true,
   "sideBar": true,
   "skip_h1_title": false,
   "title_cell": "Table of Contents",
   "title_sidebar": "Contents",
   "toc_cell": true,
   "toc_position": {
    "height": "calc(100% - 180px)",
    "left": "10px",
    "top": "150px",
    "width": "252px"
   },
   "toc_section_display": true,
   "toc_window_display": true
  }
 },
 "nbformat": 4,
 "nbformat_minor": 2
}
