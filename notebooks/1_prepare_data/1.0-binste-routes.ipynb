{
 "cells": [
  {
   "cell_type": "markdown",
   "metadata": {
    "toc": true
   },
   "source": [
    "<h1>Table of Contents<span class=\"tocSkip\"></span></h1>\n",
    "<div class=\"toc\"><ul class=\"toc-item\"><li><span><a href=\"#Preparation\" data-toc-modified-id=\"Preparation-1\"><span class=\"toc-item-num\">1&nbsp;&nbsp;</span>Preparation</a></span></li><li><span><a href=\"#Process-routes-for-all-school-years\" data-toc-modified-id=\"Process-routes-for-all-school-years-2\"><span class=\"toc-item-num\">2&nbsp;&nbsp;</span>Process routes for all school years</a></span></li><li><span><a href=\"#Handle-two-special-cases\" data-toc-modified-id=\"Handle-two-special-cases-3\"><span class=\"toc-item-num\">3&nbsp;&nbsp;</span>Handle two special cases</a></span><ul class=\"toc-item\"><li><span><a href=\"#Dyett-HS\" data-toc-modified-id=\"Dyett-HS-3.1\"><span class=\"toc-item-num\">3.1&nbsp;&nbsp;</span>Dyett HS</a></span></li><li><span><a href=\"#Crane-HS\" data-toc-modified-id=\"Crane-HS-3.2\"><span class=\"toc-item-num\">3.2&nbsp;&nbsp;</span>Crane HS</a></span></li></ul></li><li><span><a href=\"#Fix-geometries-for-school-year-14/15\" data-toc-modified-id=\"Fix-geometries-for-school-year-14/15-4\"><span class=\"toc-item-num\">4&nbsp;&nbsp;</span>Fix geometries for school year 14/15</a></span></li><li><span><a href=\"#Fix-route-information-of-treated-schools-for-SY1314/SY1415\" data-toc-modified-id=\"Fix-route-information-of-treated-schools-for-SY1314/SY1415-5\"><span class=\"toc-item-num\">5&nbsp;&nbsp;</span>Fix route information of treated schools for SY1314/SY1415</a></span></li><li><span><a href=\"#Save\" data-toc-modified-id=\"Save-6\"><span class=\"toc-item-num\">6&nbsp;&nbsp;</span>Save</a></span></li></ul></div>"
   ]
  },
  {
   "cell_type": "markdown",
   "metadata": {},
   "source": [
    "**Description**: Reads in the shapefiles of the routes for each school year, preprocesses and concatenates the observations, harmonizes the school names as well as deals with special cases, and then saves the data.\n",
    "\n",
    "---"
   ]
  },
  {
   "cell_type": "code",
   "execution_count": 1,
   "metadata": {},
   "outputs": [],
   "source": [
    "import pickle\n",
    "import sys\n",
    "from pathlib import Path\n",
    "\n",
    "import geopandas as gpd\n",
    "import pandas as pd\n",
    "from pandas.api.types import is_numeric_dtype\n",
    "from pandas.api.types import is_string_dtype\n",
    "\n",
    "sys.path.append('../..')\n",
    "from src.prepare_data.routes import (read_routes_file, harmonize_dataframe,\n",
    "                                     check_school_name_id_unique,\n",
    "                                     harmonize_all_names)"
   ]
  },
  {
   "cell_type": "code",
   "execution_count": 2,
   "metadata": {},
   "outputs": [],
   "source": [
    "data_path = Path('../../data')\n",
    "data_routes_path = data_path / 'raw/routes'\n",
    "school_name_path = data_path / 'raw/school_names.xlsx'"
   ]
  },
  {
   "cell_type": "markdown",
   "metadata": {},
   "source": [
    "# Preparation"
   ]
  },
  {
   "cell_type": "markdown",
   "metadata": {},
   "source": [
    "The folder for SY1314 contains two shapefiles, one of them serves as a buffer around the exact route. We only need the exact route for the analysis."
   ]
  },
  {
   "cell_type": "code",
   "execution_count": 3,
   "metadata": {},
   "outputs": [],
   "source": [
    "routes_files = [('Chicago Public Schools - Safe Passage Routes SY1516/' +\n",
    "                 'geo_export_8764a65c-2db7-4490-b11c-cc6953061bef',\n",
    "                 'SY1516'),\n",
    "    ('Chicago Public Schools - Safe Passage Routes SY1415/' +\n",
    "     'geo_export_067b2aa2-e0a0-40e6-9b1c-9ca4c4398d2b',\n",
    "     'SY1415'), ('Chicago Public Schools - Safe Passage Routes SY1314/' +\n",
    "                 'geo_export_179143f8-1d6e-4c28-aa3c-a072cf19f401',\n",
    "                 'SY1314')\n",
    "]"
   ]
  },
  {
   "cell_type": "markdown",
   "metadata": {},
   "source": [
    "# Process routes for all school years"
   ]
  },
  {
   "cell_type": "code",
   "execution_count": 4,
   "metadata": {},
   "outputs": [],
   "source": [
    "all_routes = []\n",
    "for folder, SY in routes_files:\n",
    "    path = str(data_routes_path / folder) + '.shp'\n",
    "    routes_temp = read_routes_file(path, SY)\n",
    "    # Adjust column names for function\n",
    "    if SY == 'SY1415':\n",
    "        routes_temp = routes_temp.rename(\n",
    "            {\n",
    "                'route_num': 'rt_num',\n",
    "                'schoolname': 'school_nam',\n",
    "                'school_id': 'schoolid'\n",
    "            },\n",
    "            axis='columns')\n",
    "    elif SY == 'SY1314':\n",
    "        routes_temp = routes_temp.rename(\n",
    "            {\n",
    "                'route_numb': 'rt_num'\n",
    "            }, axis='columns')\n",
    "    routes_temp = harmonize_dataframe(routes_temp)\n",
    "    all_routes.append(routes_temp)"
   ]
  },
  {
   "cell_type": "markdown",
   "metadata": {},
   "source": [
    "Append all routes together"
   ]
  },
  {
   "cell_type": "code",
   "execution_count": 5,
   "metadata": {},
   "outputs": [],
   "source": [
    "all_routes = pd.concat(all_routes, axis='rows', ignore_index=True)"
   ]
  },
  {
   "cell_type": "markdown",
   "metadata": {},
   "source": [
    "Check some dtypes"
   ]
  },
  {
   "cell_type": "code",
   "execution_count": 6,
   "metadata": {},
   "outputs": [],
   "source": [
    "assert all(\n",
    "    map(is_numeric_dtype,\n",
    "        [all_routes['school_id'], all_routes['route_number']]))\n",
    "assert all(\n",
    "    map(is_string_dtype,\n",
    "        [all_routes['school_name'], all_routes['school_year']]))"
   ]
  },
  {
   "cell_type": "markdown",
   "metadata": {},
   "source": [
    "Make sure that all schools only appear once for each school year"
   ]
  },
  {
   "cell_type": "code",
   "execution_count": 7,
   "metadata": {},
   "outputs": [],
   "source": [
    "assert all(\n",
    "    all_routes.groupby('school_year')['school_name'].size() ==\n",
    "    all_routes.groupby('school_year')['school_name'].nunique())\n",
    "\n",
    "all_routes = harmonize_all_names(all_routes, 'school_name',\n",
    "                                 school_name_path)"
   ]
  },
  {
   "cell_type": "markdown",
   "metadata": {},
   "source": [
    "# Handle two special cases"
   ]
  },
  {
   "cell_type": "markdown",
   "metadata": {},
   "source": [
    "## Dyett HS"
   ]
  },
  {
   "cell_type": "markdown",
   "metadata": {},
   "source": [
    "Delete DYETT HS (609736), which has only an entry for SY1516. The Dyett HS school was closed after SY1415 and reopened as Dyett Arts HS (610587) school in SY1617, therefore in SY1516 the school was not active and this wrong entry can be deleted. Source: https://en.wikipedia.org/wiki/Dyett_High_School"
   ]
  },
  {
   "cell_type": "code",
   "execution_count": 8,
   "metadata": {},
   "outputs": [],
   "source": [
    "all_routes = all_routes.query('school_id != 609736')"
   ]
  },
  {
   "cell_type": "markdown",
   "metadata": {},
   "source": [
    "## Crane HS"
   ]
  },
  {
   "cell_type": "markdown",
   "metadata": {},
   "source": [
    "Change entries for Crane HS (school_id: 609702) to Crane Medical HS (school_id: 610561). Crane HS does not appear anymore in schools dataframe and on official CPS website starting school year 15/16. The safe passage routes which can be found in the routes dataframe starting from SY1516 therefore should be attributed to Crane Medical HS which resides at the same address."
   ]
  },
  {
   "cell_type": "code",
   "execution_count": 9,
   "metadata": {},
   "outputs": [],
   "source": [
    "all_routes.loc[all_routes['school_id'] == 609702, 'school_id'] = 610561\n",
    "all_routes.loc[all_routes['school_name'] == 'Crane HS', 'school_name'] = (\n",
    "    'Crane Medical HS')"
   ]
  },
  {
   "cell_type": "markdown",
   "metadata": {},
   "source": [
    "# Fix geometries for school year 14/15"
   ]
  },
  {
   "cell_type": "markdown",
   "metadata": {},
   "source": [
    "Take geometries from school year 15/16 for school year 14/15 as in 14/15 the geometries of the routes are polygons, which means that they are not accurate enough for merging with the blocks later on. Too many blocks would be marked as treated otherwise.\n",
    "\n",
    "Make sure that each route in SY1415 also exists in SY1516"
   ]
  },
  {
   "cell_type": "code",
   "execution_count": 10,
   "metadata": {},
   "outputs": [],
   "source": [
    "assert all_routes.loc[all_routes[\n",
    "    'school_year'] == 'SY1415', 'route_number'].isin(\n",
    "        all_routes.loc[all_routes['school_year'] == 'SY1516',\n",
    "                       'route_number']).all()"
   ]
  },
  {
   "cell_type": "markdown",
   "metadata": {},
   "source": [
    "Create new entries for SY1415 using geometries from SY1516"
   ]
  },
  {
   "cell_type": "code",
   "execution_count": 11,
   "metadata": {},
   "outputs": [],
   "source": [
    "routes_1415 = all_routes.loc[all_routes['school_year'] == 'SY1415',\n",
    "                             'route_number'].unique()\n",
    "routes_1415 = all_routes.loc[(all_routes['school_year'] == 'SY1516') & (\n",
    "    all_routes['route_number'].isin(routes_1415))].copy()\n",
    "routes_1415['school_year'] = 'SY1415'"
   ]
  },
  {
   "cell_type": "markdown",
   "metadata": {},
   "source": [
    "Replace SY1415"
   ]
  },
  {
   "cell_type": "code",
   "execution_count": 12,
   "metadata": {},
   "outputs": [],
   "source": [
    "routes_new = all_routes.query('school_year != \"SY1415\"').copy()\n",
    "routes_new = pd.concat([routes_new, routes_1415], ignore_index=True)\n",
    "del routes_1415\n",
    "del all_routes"
   ]
  },
  {
   "cell_type": "markdown",
   "metadata": {},
   "source": [
    "# Fix route information of treated schools for SY1314/SY1415"
   ]
  },
  {
   "cell_type": "markdown",
   "metadata": {},
   "source": [
    "For all treated schools named in the data provided through the FOIA request, but which can not be matched to the corresponding school years, SY1314/SY1415, take route information from SY1516.\n",
    "\n",
    "Load data on schools with a Safe Passage program provided by FOIA request"
   ]
  },
  {
   "cell_type": "code",
   "execution_count": 13,
   "metadata": {},
   "outputs": [],
   "source": [
    "with (data_path / 'processed/foia_sp.pkl').open('rb') as f:\n",
    "    foia_sp = pickle.load(f)\n",
    "    \n",
    "sy_dict = {'SY14': 'SY1314', 'SY15': 'SY1415'}\n",
    "\n",
    "for sy in ['SY14', 'SY15']:\n",
    "    # Get routes from SY1516 which belong to a school\n",
    "    # which is treated in year \"sy\" but does not have an entry\n",
    "    # yet for that school year (i.e. school year \"sy\")\n",
    "    add_routes_temp = routes_new.loc[\n",
    "        (routes_new['school_year'] == 'SY1516')\n",
    "        & (routes_new['school_name'].isin(foia_sp[sy][sy])) &\n",
    "        (~routes_new['school_name'].isin(\n",
    "            routes_new.loc[routes_new['school_year'] == sy_dict[sy],\n",
    "                           'school_name']))].copy()\n",
    "    assert add_routes_temp.shape[0] > 0\n",
    "    # Add these routes to existing dataset\n",
    "    add_routes_temp['school_year'] = sy_dict[sy]\n",
    "    routes_new = pd.concat(\n",
    "        [routes_new, add_routes_temp], ignore_index=True)"
   ]
  },
  {
   "cell_type": "markdown",
   "metadata": {},
   "source": [
    "# Save"
   ]
  },
  {
   "cell_type": "markdown",
   "metadata": {},
   "source": [
    "First, make sure that only one school id corresponds to each name and other way around."
   ]
  },
  {
   "cell_type": "code",
   "execution_count": 14,
   "metadata": {},
   "outputs": [],
   "source": [
    "check_school_name_id_unique(routes_new)"
   ]
  },
  {
   "cell_type": "markdown",
   "metadata": {},
   "source": [
    "Now save all routes"
   ]
  },
  {
   "cell_type": "code",
   "execution_count": 15,
   "metadata": {},
   "outputs": [],
   "source": [
    "with (data_path / 'processed/routes.pkl').open('wb') as f:\n",
    "    pickle.dump(routes_new, f)"
   ]
  }
 ],
 "metadata": {
  "kernelspec": {
   "display_name": "Python 3",
   "language": "python",
   "name": "python3"
  },
  "language_info": {
   "codemirror_mode": {
    "name": "ipython",
    "version": 3
   },
   "file_extension": ".py",
   "mimetype": "text/x-python",
   "name": "python",
   "nbconvert_exporter": "python",
   "pygments_lexer": "ipython3",
   "version": "3.6.5"
  },
  "toc": {
   "nav_menu": {},
   "number_sections": true,
   "sideBar": true,
   "skip_h1_title": false,
   "title_cell": "Table of Contents",
   "title_sidebar": "Contents",
   "toc_cell": true,
   "toc_position": {
    "height": "calc(100% - 180px)",
    "left": "10px",
    "top": "150px",
    "width": "257px"
   },
   "toc_section_display": true,
   "toc_window_display": true
  }
 },
 "nbformat": 4,
 "nbformat_minor": 2
}
