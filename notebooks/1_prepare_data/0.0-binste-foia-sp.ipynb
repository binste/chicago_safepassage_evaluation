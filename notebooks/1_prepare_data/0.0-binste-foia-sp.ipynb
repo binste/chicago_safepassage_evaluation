{
 "cells": [
  {
   "cell_type": "markdown",
   "metadata": {
    "toc": true
   },
   "source": [
    "<h1>Table of Contents<span class=\"tocSkip\"></span></h1>\n",
    "<div class=\"toc\"><ul class=\"toc-item\"><li><span><a href=\"#Dictionary-of-harmonized-school-names\" data-toc-modified-id=\"Dictionary-of-harmonized-school-names-1\"><span class=\"toc-item-num\">1&nbsp;&nbsp;</span>Dictionary of harmonized school names</a></span></li><li><span><a href=\"#Load-and-prepare-data\" data-toc-modified-id=\"Load-and-prepare-data-2\"><span class=\"toc-item-num\">2&nbsp;&nbsp;</span>Load and prepare data</a></span></li><li><span><a href=\"#Harmonize-school-names\" data-toc-modified-id=\"Harmonize-school-names-3\"><span class=\"toc-item-num\">3&nbsp;&nbsp;</span>Harmonize school names</a></span></li><li><span><a href=\"#Save\" data-toc-modified-id=\"Save-4\"><span class=\"toc-item-num\">4&nbsp;&nbsp;</span>Save</a></span></li></ul></div>"
   ]
  },
  {
   "cell_type": "markdown",
   "metadata": {},
   "source": [
    "**Description**: Loads data on implementation of the Safe Passage program provided through the FOIA request. School names are harmonized according to the conventions used in this project. The processed data is then saved.\n",
    "\n",
    "---"
   ]
  },
  {
   "cell_type": "code",
   "execution_count": 1,
   "metadata": {},
   "outputs": [],
   "source": [
    "import pickle\n",
    "from pathlib import Path\n",
    "\n",
    "import pandas as pd"
   ]
  },
  {
   "cell_type": "code",
   "execution_count": 2,
   "metadata": {},
   "outputs": [],
   "source": [
    "data_path = Path('../../data')"
   ]
  },
  {
   "cell_type": "markdown",
   "metadata": {},
   "source": [
    "# Dictionary of harmonized school names\n",
    "Dictionary with school names as provided by FOIA request as keys and harmonized names as values (manually matched). If multiple entries where found, the CPS website (http://cps.edu/Pages/safepassage.aspx) as well as the CPS school locator (http://cps.edu/ScriptLibrary/Map-SchoolLocator/index.html) were used to verify. \n",
    "\n",
    "The only school which can't be matched is \"Price\"."
   ]
  },
  {
   "cell_type": "code",
   "execution_count": 3,
   "metadata": {},
   "outputs": [],
   "source": [
    "foia_to_harmonized_names = {\n",
    "    'Air Force':\n",
    "    'Air Force HS',\n",
    "    'Alcott':\n",
    "    'Alcott Prep HS',\n",
    "    'Alcott HS':\n",
    "    'Alcott Prep HS',\n",
    "    'Aldridge (Altgeld Gardens)':\n",
    "    'Aldridge/Carver/CICS-Bond/CICS-Hawkins/Dubois',\n",
    "    'CICS - Lloyd Bond (Altgeld Gardens)':\n",
    "    'Aldridge/Carver/CICS-Bond/CICS-Hawkins/Dubois',\n",
    "    'Carver (Altgeld Gardens)':\n",
    "    'Aldridge/Carver/CICS-Bond/CICS-Hawkins/Dubois',\n",
    "    'DuBois (Altgeld Gardens)':\n",
    "    'Aldridge/Carver/CICS-Bond/CICS-Hawkins/Dubois',\n",
    "    'Larry Hawkins (Altgeld Gardens)':\n",
    "    'Aldridge/Carver/CICS-Bond/CICS-Hawkins/Dubois',\n",
    "    'Ames':\n",
    "    'Marine Acad at Ames',\n",
    "    'Austin':\n",
    "    'Austin CCA HS',\n",
    "    'Bogan':\n",
    "    'Bogan HS',\n",
    "    'Bowen':\n",
    "    'Bowen HS',\n",
    "    'Brenneman':\n",
    "    'Brennemann',\n",
    "    'Brooks':\n",
    "    'Brooks HS',\n",
    "    'Back of the Yards':\n",
    "    'Back of the Yards HS',\n",
    "    'Cardenas':\n",
    "    'Cardenas/Castellanos',\n",
    "    'Chicago Military Academy HS':\n",
    "    'Chicago Military Acad HS',\n",
    "    'Clemente':\n",
    "    'Clemente HS',\n",
    "    'Corliss':\n",
    "    'Corliss HS',\n",
    "    'Crane':\n",
    "    'Crane Medical HS',\n",
    "    'CVCA':\n",
    "    'Chicago Vocational HS',\n",
    "    'DePriest':\n",
    "    'De Priest',\n",
    "    'Dusable':\n",
    "    'Shabazz - Dusable HS',\n",
    "    'Dyett':\n",
    "    'Dyett HS',\n",
    "    'Douglass':\n",
    "    'Douglass HS',\n",
    "    'Dunbar':\n",
    "    'Dunbar HS',\n",
    "    'DuSable':\n",
    "    'Shabazz - Dusable HS',\n",
    "    'Farragut':\n",
    "    'Farragut HS',\n",
    "    'Fenger':\n",
    "    'Fenger HS',\n",
    "    'Gage Park':\n",
    "    'Gage Park HS',\n",
    "    'Graham HS':\n",
    "    'Graham, R HS',\n",
    "    'Hamlin':\n",
    "    'Hamline/Chavez',\n",
    "    'Hamline':\n",
    "    'Hamline/Chavez',\n",
    "    'Harlan':\n",
    "    'Harlan HS',\n",
    "    'Harper':\n",
    "    'Harper HS',\n",
    "    'Hirsch':\n",
    "    'Hirsch HS',\n",
    "    'Hope':\n",
    "    'Hope Prep HS',\n",
    "    'Hyde Park':\n",
    "    'Hyde Park HS',\n",
    "    'Hyde Pk':\n",
    "    'Hyde Park HS',\n",
    "    'Julian':\n",
    "    'Julian HS',\n",
    "    'Kelly':\n",
    "    'Kelly HS',\n",
    "    'Gompers':\n",
    "    'Owens',\n",
    "    'Kelvyn Park':\n",
    "    'Kelvyn Park HS',\n",
    "    'Kenwood':\n",
    "    'Kenwood HS',\n",
    "    'Lindblom':\n",
    "    'Lindblom HS',\n",
    "    'Manley':\n",
    "    'Manley HS',\n",
    "    'Marshall':\n",
    "    'Marshall, HS',\n",
    "    'Marshall Middle':\n",
    "    'Marshall, T',\n",
    "    'Michele Clark':\n",
    "    'Clark HS',\n",
    "    'Michelle Clark':\n",
    "    'Clark HS',\n",
    "    'Morgan Park':\n",
    "    'Morgan Park HS',\n",
    "    'Morgan Pk':\n",
    "    'Morgan Park HS',\n",
    "    'Nicholson':\n",
    "    'Nicholson Tech Acad',\n",
    "    'NTA':\n",
    "    'National Teachers',\n",
    "    'Orr':\n",
    "    'Orr HS',\n",
    "    'Phillips':\n",
    "    'Phillips HS',\n",
    "    'Phoenix Military':\n",
    "    'Phoenix Military ACAD',\n",
    "    'Randolph ES':\n",
    "    'Randolph',\n",
    "    'Richards':\n",
    "    'Richards HS',\n",
    "    'Robeson':\n",
    "    'Robeson HS',\n",
    "    'Simeon':\n",
    "    'Simeon HS',\n",
    "    'Solorio':\n",
    "    'Solorio HS',\n",
    "    'Sandoval':\n",
    "    'Hernandez/Sandoval/Solorio HS',\n",
    "    'South Shore ES':\n",
    "    'South Shore',\n",
    "    'South Shore HS':\n",
    "    'South Shore Intl HS',\n",
    "    'S. Shore':\n",
    "    'South Shore Intl HS',\n",
    "    'Spencer':\n",
    "    'Spencer Tech Acad',\n",
    "    'Spry':\n",
    "    'Spry HS',\n",
    "    'Spry Community Links':\n",
    "    'Spry ES/Spry HS/Telpochcalli/Saucedo/Hammond',\n",
    "    'TEAM':\n",
    "    'Team HS',\n",
    "    'TEAM Englewood':\n",
    "    'Team HS',\n",
    "    'Team Englewood':\n",
    "    'Team HS',\n",
    "    'Tilden':\n",
    "    'Tilden HS',\n",
    "    'Uplift':\n",
    "    'Uplift HS',\n",
    "    'Urban Prep':\n",
    "    'Urban Prep Chtr Bronzeville',\n",
    "    'Ward, L.':\n",
    "    'Ward, L',\n",
    "    'Wells':\n",
    "    'Wells HS',\n",
    "    'Wells, I.':\n",
    "    'Wells, I'\n",
    "}"
   ]
  },
  {
   "cell_type": "markdown",
   "metadata": {},
   "source": [
    "# Load and prepare data\n",
    "Read in all school years as a dictionary with an entry per sheet of the excel file (i.e. keys are sheet names and therefore school years)"
   ]
  },
  {
   "cell_type": "code",
   "execution_count": 4,
   "metadata": {},
   "outputs": [],
   "source": [
    "foia_sp = pd.read_excel(\n",
    "    data_path / 'raw/Safe_Passage_Schools_By_Implementation_Year_8.12.16.xlsx',\n",
    "    sheet_name=None)"
   ]
  },
  {
   "cell_type": "markdown",
   "metadata": {},
   "source": [
    "Remove trailing or leading whitespaces"
   ]
  },
  {
   "cell_type": "code",
   "execution_count": 5,
   "metadata": {},
   "outputs": [],
   "source": [
    "for sy in foia_sp.keys():\n",
    "    foia_sp[sy][sy] = foia_sp[sy][sy].str.strip()"
   ]
  },
  {
   "cell_type": "markdown",
   "metadata": {},
   "source": [
    "# Harmonize school names\n",
    "Replace school name by harmonized name if there is one in dictionary, else just leave name as is."
   ]
  },
  {
   "cell_type": "code",
   "execution_count": 6,
   "metadata": {},
   "outputs": [],
   "source": [
    "for sy in foia_sp.keys():\n",
    "    foia_sp[sy][sy] = foia_sp[sy][sy].apply(\n",
    "        lambda x: foia_to_harmonized_names.get(x, x))"
   ]
  },
  {
   "cell_type": "markdown",
   "metadata": {},
   "source": [
    "# Save"
   ]
  },
  {
   "cell_type": "code",
   "execution_count": 7,
   "metadata": {},
   "outputs": [],
   "source": [
    "with (data_path / 'processed/foia_sp.pkl').open('wb') as f:\n",
    "    pickle.dump(foia_sp, f)"
   ]
  },
  {
   "cell_type": "code",
   "execution_count": 8,
   "metadata": {},
   "outputs": [],
   "source": []
  }
 ],
 "metadata": {
  "kernelspec": {
   "display_name": "Python 3",
   "language": "python",
   "name": "python3"
  },
  "language_info": {
   "codemirror_mode": {
    "name": "ipython",
    "version": 3
   },
   "file_extension": ".py",
   "mimetype": "text/x-python",
   "name": "python",
   "nbconvert_exporter": "python",
   "pygments_lexer": "ipython3",
   "version": "3.6.5"
  },
  "toc": {
   "nav_menu": {},
   "number_sections": true,
   "sideBar": true,
   "skip_h1_title": false,
   "title_cell": "Table of Contents",
   "title_sidebar": "Contents",
   "toc_cell": true,
   "toc_position": {
    "height": "calc(100% - 180px)",
    "left": "10px",
    "top": "150px",
    "width": "237px"
   },
   "toc_section_display": true,
   "toc_window_display": true
  }
 },
 "nbformat": 4,
 "nbformat_minor": 2
}
