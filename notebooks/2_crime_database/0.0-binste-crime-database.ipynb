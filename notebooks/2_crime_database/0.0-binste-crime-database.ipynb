{
 "cells": [
  {
   "cell_type": "markdown",
   "metadata": {
    "toc": true
   },
   "source": [
    "<h1>Table of Contents<span class=\"tocSkip\"></span></h1>\n",
    "<div class=\"toc\"><ul class=\"toc-item\"><li><span><a href=\"#Paths\" data-toc-modified-id=\"Paths-1\"><span class=\"toc-item-num\">1&nbsp;&nbsp;</span>Paths</a></span></li><li><span><a href=\"#Prepare-sqlite-database\" data-toc-modified-id=\"Prepare-sqlite-database-2\"><span class=\"toc-item-num\">2&nbsp;&nbsp;</span>Prepare sqlite database</a></span></li><li><span><a href=\"#Iterate-through-crimes-dataset-and-add-to-SQL-database\" data-toc-modified-id=\"Iterate-through-crimes-dataset-and-add-to-SQL-database-3\"><span class=\"toc-item-num\">3&nbsp;&nbsp;</span>Iterate through crimes dataset and add to SQL database</a></span></li></ul></div>"
   ]
  },
  {
   "cell_type": "markdown",
   "metadata": {},
   "source": [
    "**Description**: Reads in raw crimes data contained in a .csv file and puts it\n",
    "into a SQL database.\n",
    "\n",
    "---"
   ]
  },
  {
   "cell_type": "code",
   "execution_count": 1,
   "metadata": {},
   "outputs": [],
   "source": [
    "import sys\n",
    "from datetime import datetime\n",
    "from pathlib import Path\n",
    "\n",
    "import pandas as pd\n",
    "\n",
    "sys.path.append('../..')\n",
    "from src.prepare_data.crime_database import get_engine"
   ]
  },
  {
   "cell_type": "markdown",
   "metadata": {},
   "source": [
    "# Paths"
   ]
  },
  {
   "cell_type": "code",
   "execution_count": null,
   "metadata": {},
   "outputs": [],
   "source": [
    "data_path = Path('../../data')\n",
    "crimescsv_path = data_path / 'raw/Crimes_-_2001_to_present.csv'\n",
    "sqldb_path = data_path / 'processed/crimes.db'"
   ]
  },
  {
   "cell_type": "markdown",
   "metadata": {},
   "source": [
    "# Prepare sqlite database"
   ]
  },
  {
   "cell_type": "markdown",
   "metadata": {},
   "source": [
    "If database already exists delete it"
   ]
  },
  {
   "cell_type": "code",
   "execution_count": null,
   "metadata": {},
   "outputs": [],
   "source": [
    "if sqldb_path.is_file():\n",
    "    sqldb_path.unlink()\n",
    "    assert not sqldb_path.is_file()"
   ]
  },
  {
   "cell_type": "markdown",
   "metadata": {},
   "source": [
    "Initialize engine to database\n",
    "(actual database will be created when adding data to it)"
   ]
  },
  {
   "cell_type": "code",
   "execution_count": null,
   "metadata": {},
   "outputs": [],
   "source": [
    "disk_engine = create_engine('sqlite:///' + str(sqldb_path))"
   ]
  },
  {
   "cell_type": "markdown",
   "metadata": {},
   "source": [
    "# Iterate through crimes dataset and add to SQL database"
   ]
  },
  {
   "cell_type": "markdown",
   "metadata": {},
   "source": [
    "Get \"approximate\" length of crimes dataset without actually loading\n",
    "the datafile into memory. Length may be approximate as\n",
    "if a .csv file contains quoted \"\\n\" etc. which will result in\n",
    "an overestimation of the dataset length. This is not a problem\n",
    "as we only use the length for a convenient print statement.\n",
    "The - 1 subtracts the header row."
   ]
  },
  {
   "cell_type": "code",
   "execution_count": null,
   "metadata": {},
   "outputs": [],
   "source": [
    "with crimescsv_path.open() as f:\n",
    "    number_rows = sum(1 for line in f) - 1"
   ]
  },
  {
   "cell_type": "code",
   "execution_count": null,
   "metadata": {},
   "outputs": [],
   "source": [
    "chunksize = 100000\n",
    "start_time = datetime.now()\n",
    "nrows_processed = 0\n",
    "for i, df in enumerate(\n",
    "        pd.read_csv(crimescsv_path, chunksize=chunksize, iterator=True)):\n",
    "    # Parse dates\n",
    "    df['Date'] = pd.to_datetime(df['Date'], format=\"%m/%d/%Y %I:%M:%S %p\")\n",
    "    # Only keep relevant columns\n",
    "    df.drop(\n",
    "        ['Case Number', 'X Coordinate', 'Y Coordinate'],\n",
    "        axis='columns',\n",
    "        inplace=True)\n",
    "\n",
    "    df.to_sql('crimes', disk_engine, if_exists='append', index=False)\n",
    "\n",
    "    nrows_processed += len(df)\n",
    "    print(\n",
    "        '{} seconds passed: completed {:,}/{:,} rows'.format(\n",
    "            (datetime.now() - start_time).seconds, nrows_processed,\n",
    "            number_rows),\n",
    "        end='\\r',\n",
    "        flush=True)\n",
    "\n",
    "print(\"Total time: {} seconds\".format(\n",
    "    (datetime.now() - start_time).seconds))\n",
    "print(\"Rows processed: {:,}/{:,}\".format(nrows_processed, number_rows))"
   ]
  }
 ],
 "metadata": {
  "kernelspec": {
   "display_name": "Python 3",
   "language": "python",
   "name": "python3"
  },
  "language_info": {
   "codemirror_mode": {
    "name": "ipython",
    "version": 3
   },
   "file_extension": ".py",
   "mimetype": "text/x-python",
   "name": "python",
   "nbconvert_exporter": "python",
   "pygments_lexer": "ipython3",
   "version": "3.6.5"
  },
  "toc": {
   "nav_menu": {},
   "number_sections": true,
   "sideBar": true,
   "skip_h1_title": false,
   "title_cell": "Table of Contents",
   "title_sidebar": "Contents",
   "toc_cell": true,
   "toc_position": {},
   "toc_section_display": true,
   "toc_window_display": false
  }
 },
 "nbformat": 4,
 "nbformat_minor": 2
}
