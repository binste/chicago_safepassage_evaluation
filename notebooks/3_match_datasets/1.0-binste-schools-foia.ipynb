{
 "cells": [
  {
   "cell_type": "markdown",
   "metadata": {
    "toc": true
   },
   "source": [
    "<h1>Table of Contents<span class=\"tocSkip\"></span></h1>\n",
    "<div class=\"toc\"><ul class=\"toc-item\"><li><span><a href=\"#Load-data\" data-toc-modified-id=\"Load-data-1\"><span class=\"toc-item-num\">1&nbsp;&nbsp;</span>Load data</a></span></li><li><span><a href=\"#Match-schools-and-FOIA-data-from-SY1314-onwards\" data-toc-modified-id=\"Match-schools-and-FOIA-data-from-SY1314-onwards-2\"><span class=\"toc-item-num\">2&nbsp;&nbsp;</span>Match schools and FOIA data from SY1314 onwards</a></span></li><li><span><a href=\"#Extend-school-years-back-to-SY0910\" data-toc-modified-id=\"Extend-school-years-back-to-SY0910-3\"><span class=\"toc-item-num\">3&nbsp;&nbsp;</span>Extend school years back to SY0910</a></span></li><li><span><a href=\"#Save\" data-toc-modified-id=\"Save-4\"><span class=\"toc-item-num\">4&nbsp;&nbsp;</span>Save</a></span></li></ul></div>"
   ]
  },
  {
   "cell_type": "markdown",
   "metadata": {},
   "source": [
    "**Description**: Takes preprocessed school data, matches it to\n",
    "FOIA data on SP implementation from SY1314 onwards, extends school years\n",
    "back to SY0910 and saves resulting dataset.\n",
    "\n",
    "---"
   ]
  },
  {
   "cell_type": "code",
   "execution_count": 1,
   "metadata": {},
   "outputs": [],
   "source": [
    "import pickle\n",
    "from pathlib import Path\n",
    "\n",
    "import pandas as pd\n",
    "import numpy as np"
   ]
  },
  {
   "cell_type": "markdown",
   "metadata": {},
   "source": [
    "# Load data"
   ]
  },
  {
   "cell_type": "code",
   "execution_count": 2,
   "metadata": {},
   "outputs": [],
   "source": [
    "data_path = Path('../../data')"
   ]
  },
  {
   "cell_type": "code",
   "execution_count": 3,
   "metadata": {},
   "outputs": [],
   "source": [
    "with (data_path / 'interim/schools.pkl').open('rb') as f:\n",
    "    schools = pickle.load(f)\n",
    "\n",
    "with (data_path / 'processed/foia_sp.pkl').open('rb') as f:\n",
    "    foia_sp = pickle.load(f)"
   ]
  },
  {
   "cell_type": "markdown",
   "metadata": {},
   "source": [
    "# Match schools and FOIA data from SY1314 onwards"
   ]
  },
  {
   "cell_type": "markdown",
   "metadata": {},
   "source": [
    "Dictionary containing foia_sp school year names as keys and\n",
    "corresponding extended school year names, as used in this thesis and in the school\n",
    "data set, as values"
   ]
  },
  {
   "cell_type": "code",
   "execution_count": 4,
   "metadata": {},
   "outputs": [],
   "source": [
    "sy_dict = {\n",
    "    'SY16': 'SY1516',\n",
    "    'SY15': 'SY1415',\n",
    "    'SY14': 'SY1314',\n",
    "    'SY13': 'SY1213',\n",
    "    'SY12': 'SY1112'\n",
    "}"
   ]
  },
  {
   "cell_type": "markdown",
   "metadata": {},
   "source": [
    "Match from SY1314 onwards"
   ]
  },
  {
   "cell_type": "code",
   "execution_count": 5,
   "metadata": {},
   "outputs": [],
   "source": [
    "for sy in ['SY14', 'SY15', 'SY16']:\n",
    "    schools.loc[(schools['school_year'] == sy_dict[sy]) & (\n",
    "        schools['school_name'].isin(foia_sp[sy][sy])), 'treated_foia'] = 1"
   ]
  },
  {
   "cell_type": "markdown",
   "metadata": {},
   "source": [
    "Fill missings with 0, i.e. not treated"
   ]
  },
  {
   "cell_type": "code",
   "execution_count": 6,
   "metadata": {},
   "outputs": [],
   "source": [
    "schools['treated_foia'] = schools['treated_foia'].fillna(0)"
   ]
  },
  {
   "cell_type": "markdown",
   "metadata": {},
   "source": [
    "# Extend school years back to SY0910\n",
    "(only for treated schools, as we don't know if others existed back then)\n",
    "\n",
    "\n",
    "It is assumed that there is no change between SY0910 and SY1112\n",
    "This means that the next change after SY0910 in treatment status of a school\n",
    "can be earliest in SY1213\n",
    "Basis for this assumption: McMillen et al. (2017)\n",
    "\n",
    "Get list of treated schools in SY1112"
   ]
  },
  {
   "cell_type": "code",
   "execution_count": 7,
   "metadata": {},
   "outputs": [],
   "source": [
    "early_treated_schools = foia_sp['SY12']['SY12'].values.tolist()"
   ]
  },
  {
   "cell_type": "markdown",
   "metadata": {},
   "source": [
    "Add treated schools from SY1213 to list"
   ]
  },
  {
   "cell_type": "code",
   "execution_count": 8,
   "metadata": {},
   "outputs": [],
   "source": [
    "early_treated_schools.extend(foia_sp['SY13']['SY13'].values.tolist())"
   ]
  },
  {
   "cell_type": "markdown",
   "metadata": {},
   "source": [
    "Make school names unique"
   ]
  },
  {
   "cell_type": "code",
   "execution_count": 9,
   "metadata": {},
   "outputs": [],
   "source": [
    "early_treated_schools = list(set(early_treated_schools))"
   ]
  },
  {
   "cell_type": "markdown",
   "metadata": {},
   "source": [
    "Make sure  that all schools which are treated in school year SY1112\n",
    "and/or SY1213 also have an observation in SY1314 (do not have to be treated)."
   ]
  },
  {
   "cell_type": "code",
   "execution_count": 10,
   "metadata": {},
   "outputs": [],
   "source": [
    "assert all([\n",
    "    True if school in schools.loc[schools['school_year'] == 'SY1314',\n",
    "                                  'school_name'].values else False\n",
    "    for school in early_treated_schools\n",
    "])"
   ]
  },
  {
   "cell_type": "markdown",
   "metadata": {},
   "source": [
    "For each early treated school take the observation from SY1314"
   ]
  },
  {
   "cell_type": "code",
   "execution_count": 11,
   "metadata": {},
   "outputs": [],
   "source": [
    "early_years = schools.loc[(schools['school_year'] == 'SY1314') & (\n",
    "    schools['school_name'].isin(early_treated_schools))].drop(\n",
    "        'treated_foia', axis='columns')\n",
    "assert not early_years['school_name'].duplicated().any()\n",
    "assert early_years.shape[0] == len(early_treated_schools)"
   ]
  },
  {
   "cell_type": "markdown",
   "metadata": {},
   "source": [
    "Dupliate these observations once for each school year prior to SY1314\n",
    "(i.e. 4 observations per school)."
   ]
  },
  {
   "cell_type": "code",
   "execution_count": 12,
   "metadata": {},
   "outputs": [],
   "source": [
    "sy_to_add = ['SY0910', 'SY1011', 'SY1112', 'SY1213']"
   ]
  },
  {
   "cell_type": "markdown",
   "metadata": {},
   "source": [
    "Iteratively add observations for each school year from list above"
   ]
  },
  {
   "cell_type": "code",
   "execution_count": 13,
   "metadata": {},
   "outputs": [],
   "source": [
    "all_early_years = []\n",
    "for sy in sy_to_add:\n",
    "    early_years_temp = early_years.copy()\n",
    "    early_years_temp['school_year'] = sy\n",
    "    all_early_years.append(early_years_temp)\n",
    "all_early_years = pd.concat(all_early_years, ignore_index=True)\n",
    "assert all_early_years.shape[0] / len(sy_to_add) == early_years.shape[0]"
   ]
  },
  {
   "cell_type": "markdown",
   "metadata": {},
   "source": [
    "Add treatment indicator according to FOIA information"
   ]
  },
  {
   "cell_type": "code",
   "execution_count": 14,
   "metadata": {},
   "outputs": [],
   "source": [
    "for sy_short, sy_long in [('SY12', 'SY0910'), ('SY12', 'SY1011'),\n",
    "                          ('SY12', 'SY1112'), ('SY13', 'SY1213')]:\n",
    "    all_early_years.loc[(all_early_years['school_year'] == sy_long) & (\n",
    "        all_early_years['school_name'].isin(foia_sp[sy_short][sy_short])),\n",
    "                        'treated_foia'] = 1"
   ]
  },
  {
   "cell_type": "markdown",
   "metadata": {},
   "source": [
    "Fill missing values for treatment indicator with 0"
   ]
  },
  {
   "cell_type": "code",
   "execution_count": 15,
   "metadata": {},
   "outputs": [],
   "source": [
    "all_early_years['treated_foia'] = all_early_years['treated_foia'].fillna(0)"
   ]
  },
  {
   "cell_type": "markdown",
   "metadata": {},
   "source": [
    "Set normal treatment indicator to missing"
   ]
  },
  {
   "cell_type": "code",
   "execution_count": 16,
   "metadata": {},
   "outputs": [],
   "source": [
    "all_early_years['treated'] = np.nan"
   ]
  },
  {
   "cell_type": "markdown",
   "metadata": {},
   "source": [
    "Add early years to school dataset"
   ]
  },
  {
   "cell_type": "code",
   "execution_count": 17,
   "metadata": {},
   "outputs": [],
   "source": [
    "schools = pd.concat([schools, all_early_years], ignore_index=True)\n",
    "schools = schools.sort_values(['school_name',\n",
    "                               'school_year']).reset_index(drop=True)"
   ]
  },
  {
   "cell_type": "markdown",
   "metadata": {},
   "source": [
    "# Save\n",
    "School data now contains observations from SY0910 to SY1516 ass well as the FOIA treatment status."
   ]
  },
  {
   "cell_type": "code",
   "execution_count": 18,
   "metadata": {},
   "outputs": [],
   "source": [
    "with (data_path / 'interim/schools_foia.pkl').open('wb') as f:\n",
    "    pickle.dump(schools, f)"
   ]
  }
 ],
 "metadata": {
  "kernelspec": {
   "display_name": "Python 3",
   "language": "python",
   "name": "python3"
  },
  "language_info": {
   "codemirror_mode": {
    "name": "ipython",
    "version": 3
   },
   "file_extension": ".py",
   "mimetype": "text/x-python",
   "name": "python",
   "nbconvert_exporter": "python",
   "pygments_lexer": "ipython3",
   "version": "3.6.6"
  },
  "toc": {
   "nav_menu": {},
   "number_sections": true,
   "sideBar": true,
   "skip_h1_title": false,
   "title_cell": "Table of Contents",
   "title_sidebar": "Contents",
   "toc_cell": true,
   "toc_position": {},
   "toc_section_display": true,
   "toc_window_display": false
  }
 },
 "nbformat": 4,
 "nbformat_minor": 2
}
