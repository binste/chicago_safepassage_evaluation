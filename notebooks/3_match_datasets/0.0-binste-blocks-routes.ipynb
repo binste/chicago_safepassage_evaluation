{
 "cells": [
  {
   "cell_type": "markdown",
   "metadata": {
    "toc": true
   },
   "source": [
    "<h1>Table of Contents<span class=\"tocSkip\"></span></h1>\n",
    "<div class=\"toc\"><ul class=\"toc-item\"><li><span><a href=\"#Load-data\" data-toc-modified-id=\"Load-data-1\"><span class=\"toc-item-num\">1&nbsp;&nbsp;</span>Load data</a></span></li><li><span><a href=\"#Extend-block-dataset-by-school-years-SY1314---SY1516\" data-toc-modified-id=\"Extend-block-dataset-by-school-years-SY1314---SY1516-2\"><span class=\"toc-item-num\">2&nbsp;&nbsp;</span>Extend block dataset by school years SY1314 - SY1516</a></span></li><li><span><a href=\"#Add-earlier-school-years-for-which-no-route-information-exists\" data-toc-modified-id=\"Add-earlier-school-years-for-which-no-route-information-exists-3\"><span class=\"toc-item-num\">3&nbsp;&nbsp;</span>Add earlier school years for which no route information exists</a></span></li><li><span><a href=\"#Aggregate-multiple-routes-per-block\" data-toc-modified-id=\"Aggregate-multiple-routes-per-block-4\"><span class=\"toc-item-num\">4&nbsp;&nbsp;</span>Aggregate multiple routes per block</a></span></li><li><span><a href=\"#Create-treatment-dummy-for-census-blocks\" data-toc-modified-id=\"Create-treatment-dummy-for-census-blocks-5\"><span class=\"toc-item-num\">5&nbsp;&nbsp;</span>Create treatment dummy for census blocks</a></span></li><li><span><a href=\"#Save-all-census-blocks\" data-toc-modified-id=\"Save-all-census-blocks-6\"><span class=\"toc-item-num\">6&nbsp;&nbsp;</span>Save all census blocks</a></span></li></ul></div>"
   ]
  },
  {
   "cell_type": "markdown",
   "metadata": {},
   "source": [
    "**Descriptions**: Extends block dataset to all relevant school years,\n",
    "performs a spatial join of the mentioned block data with the routes data,\n",
    "creates preliminary treatment indicator,\n",
    "and saves the data.\n",
    "\n",
    "---"
   ]
  },
  {
   "cell_type": "code",
   "execution_count": 1,
   "metadata": {},
   "outputs": [],
   "source": [
    "import pickle\n",
    "from pathlib import Path\n",
    "\n",
    "import geopandas as gpd\n",
    "import pandas as pd\n",
    "import numpy as np\n",
    "from tqdm import tqdm, tqdm_notebook\n",
    "\n",
    "tqdm.pandas(tqdm_notebook)"
   ]
  },
  {
   "cell_type": "code",
   "execution_count": 2,
   "metadata": {},
   "outputs": [],
   "source": [
    "def agg_block_schoolyear(group):\n",
    "    \"\"\"Aggregates all observations of a block per school year to one.\n",
    "\n",
    "    Makes list of merged routes and corresponding schools and saves them\n",
    "    as new columns.\n",
    "\n",
    "    Parameters\n",
    "    ----------\n",
    "    group : pandas groupby object\n",
    "\n",
    "    Returns\n",
    "    -------\n",
    "    pandas groupby object\n",
    "        Modified group (1 Observation)\n",
    "    \"\"\"\n",
    "    # Returns one row of the following columns\n",
    "    block_cols = group[[\n",
    "        'statefp10', 'countyfp10', 'tractce10', 'geoid10', 'blockce10',\n",
    "        'name10', 'geometry'\n",
    "    ]].head(1)\n",
    "    assert block_cols.shape == (1, 7)\n",
    "    # Convert to a pandas series\n",
    "    block_cols = block_cols.squeeze()\n",
    "    # Make list of merged routes and corresponding schools\n",
    "    # (the .all() just takes the truth value out of the pandas series)\n",
    "    if group.shape[0] == 1 and pd.isnull(group['route_number']).all():\n",
    "        route_numbers = np.nan\n",
    "    else:\n",
    "        route_numbers = list(group['route_number'])\n",
    "\n",
    "    # Add everything together\n",
    "    # The first parts of the names are shortened to make it better visible\n",
    "    # that these are not the usual 'school_name', etc. columns\n",
    "    group_new = block_cols.append(pd.Series({'r_numbers': route_numbers}))\n",
    "    return group_new"
   ]
  },
  {
   "cell_type": "markdown",
   "metadata": {},
   "source": [
    "# Load data"
   ]
  },
  {
   "cell_type": "code",
   "execution_count": 3,
   "metadata": {},
   "outputs": [],
   "source": [
    "data_path = Path('../../data')"
   ]
  },
  {
   "cell_type": "code",
   "execution_count": 4,
   "metadata": {},
   "outputs": [],
   "source": [
    "with (data_path / 'interim/blocks.pkl').open('rb') as f:\n",
    "    blocks = pickle.load(f)\n",
    "\n",
    "with (data_path / 'processed/routes.pkl').open('rb') as f:\n",
    "    routes = pickle.load(f)"
   ]
  },
  {
   "cell_type": "markdown",
   "metadata": {},
   "source": [
    "# Extend block dataset by school years SY1314 - SY1516\n",
    "These are the school years on which we have information on\n",
    "location of routes."
   ]
  },
  {
   "cell_type": "code",
   "execution_count": 5,
   "metadata": {},
   "outputs": [],
   "source": [
    "school_years = ['SY1314', 'SY1415', 'SY1516']\n",
    "n_blocks_original = blocks.shape[0]\n",
    "blocks = pd.concat([blocks] * len(school_years), ignore_index=True)\n",
    "blocks = blocks.sort_values('tract_bloc').reset_index(drop=True)\n",
    "blocks['school_year'] = school_years * n_blocks_original\n",
    "assert not blocks[['tract_bloc', 'school_year']].duplicated().any()\n",
    "assert (blocks.groupby('tract_bloc').size() == blocks.shape[0] /\n",
    "        blocks['tract_bloc'].nunique()).all()"
   ]
  },
  {
   "cell_type": "markdown",
   "metadata": {},
   "source": [
    "Spatial join of extended block dataset and routes\n",
    "(for each school year separately)"
   ]
  },
  {
   "cell_type": "code",
   "execution_count": 6,
   "metadata": {},
   "outputs": [],
   "source": [
    "bl_ro = []\n",
    "for sy in blocks['school_year'].unique():\n",
    "    blocks_temp = blocks[blocks['school_year'] == sy]\n",
    "    routes_temp = routes[routes['school_year'] == sy].drop(\n",
    "        'school_year', axis='columns')\n",
    "    bl_ro_temp = gpd.sjoin(\n",
    "        # Deep copies should not be needed anymore in\n",
    "        # future version of geopandas (current 0.3.0)\n",
    "        blocks_temp.copy(),\n",
    "        routes_temp.copy(),\n",
    "        how='left',\n",
    "        op='intersects').reset_index(drop=True).drop(\n",
    "            'index_right', axis='columns')\n",
    "    bl_ro.append(bl_ro_temp)\n",
    "bl_ro = pd.concat(bl_ro, ignore_index=True)\n",
    "del blocks\n",
    "del routes"
   ]
  },
  {
   "cell_type": "markdown",
   "metadata": {},
   "source": [
    "# Add earlier school years for which no route information exists\n",
    "From SY0910 - SY1213 the FOIA request provided information on\n",
    "implementation of Safe Passage program\n",
    "Before no Safe Passage program existed in all blocks"
   ]
  },
  {
   "cell_type": "code",
   "execution_count": 7,
   "metadata": {},
   "outputs": [],
   "source": [
    "sy_to_add = [\n",
    "    'SY0506', 'SY0607', 'SY0708', 'SY0809', 'SY0910', 'SY1011', 'SY1112',\n",
    "    'SY1213'\n",
    "]"
   ]
  },
  {
   "cell_type": "markdown",
   "metadata": {},
   "source": [
    "For each block take the observation from SY1314"
   ]
  },
  {
   "cell_type": "code",
   "execution_count": 8,
   "metadata": {},
   "outputs": [],
   "source": [
    "early_blocks = bl_ro.query('school_year == \"SY1314\"').copy()"
   ]
  },
  {
   "cell_type": "markdown",
   "metadata": {},
   "source": [
    "Dupliate these observations once for each school year prior to SY1314\n",
    "(i.e. 4 observations per block)."
   ]
  },
  {
   "cell_type": "code",
   "execution_count": 9,
   "metadata": {},
   "outputs": [
    {
     "data": {
      "text/plain": [
       "array(['SY0506', 'SY0607', 'SY0708', 'SY0809', 'SY0910', 'SY1011',\n",
       "       'SY1112', 'SY1213'], dtype=object)"
      ]
     },
     "execution_count": 9,
     "metadata": {},
     "output_type": "execute_result"
    }
   ],
   "source": [
    "all_early_block_years = []\n",
    "for sy in sy_to_add:\n",
    "    early_blocks_temp = early_blocks.copy()\n",
    "    early_blocks_temp['school_year'] = sy\n",
    "    all_early_block_years.append(early_blocks_temp)\n",
    "all_early_block_years = pd.concat(all_early_block_years, ignore_index=True)\n",
    "assert all_early_block_years.shape[0] / len(\n",
    "    sy_to_add) == early_blocks.shape[0]\n",
    "all_early_block_years['school_year'].unique()"
   ]
  },
  {
   "cell_type": "markdown",
   "metadata": {},
   "source": [
    "Add to existing block data"
   ]
  },
  {
   "cell_type": "code",
   "execution_count": 10,
   "metadata": {},
   "outputs": [],
   "source": [
    "bl_ro = pd.concat([bl_ro, all_early_block_years], ignore_index=True)\n",
    "bl_ro = bl_ro.sort_values(['tract_bloc',\n",
    "                           'school_year']).reset_index(drop=True)"
   ]
  },
  {
   "cell_type": "markdown",
   "metadata": {},
   "source": [
    "# Aggregate multiple routes per block\n",
    "Multiple routes can intersect with a block in a given school year.\n",
    "The following will aggregate these entries such that\n",
    "each block has again one entry per school year."
   ]
  },
  {
   "cell_type": "code",
   "execution_count": 11,
   "metadata": {},
   "outputs": [
    {
     "name": "stderr",
     "output_type": "stream",
     "text": [
      " 36%|███▌      | 181583/509421 [05:07<08:50, 617.60it/s]"
     ]
    }
   ],
   "source": [
    "assert (bl_ro.groupby('tract_bloc').size() >=\n",
    "        len(school_years + sy_to_add)).all()\n",
    "\n",
    "bl_ro = (bl_ro.groupby(['tract_bloc', 'school_year'])\n",
    "         .progress_apply(agg_block_schoolyear).reset_index())"
   ]
  },
  {
   "cell_type": "markdown",
   "metadata": {},
   "source": [
    "Make sure that there is actually for each block for each\n",
    "of the school years one observation"
   ]
  },
  {
   "cell_type": "code",
   "execution_count": 12,
   "metadata": {},
   "outputs": [],
   "source": [
    "assert not bl_ro.duplicated(['tract_bloc', 'school_year']).any()\n",
    "assert bl_ro.shape[0] == bl_ro['tract_bloc'].nunique() * bl_ro[\n",
    "    'school_year'].nunique()"
   ]
  },
  {
   "cell_type": "markdown",
   "metadata": {},
   "source": [
    "# Create treatment dummy for census blocks\n",
    "Treatment is defined as 1 if a Safe Passage route intersects\n",
    "with the census block."
   ]
  },
  {
   "cell_type": "code",
   "execution_count": 13,
   "metadata": {},
   "outputs": [],
   "source": [
    "bl_ro['treated'] = ~bl_ro['r_numbers'].isnull() * 1"
   ]
  },
  {
   "cell_type": "markdown",
   "metadata": {},
   "source": [
    "# Save all census blocks"
   ]
  },
  {
   "cell_type": "markdown",
   "metadata": {},
   "source": [
    "Convert to geopandas dataframe"
   ]
  },
  {
   "cell_type": "code",
   "execution_count": 14,
   "metadata": {},
   "outputs": [],
   "source": [
    "bl_ro = gpd.GeoDataFrame(\n",
    "    data=bl_ro.drop('geometry', axis='columns'),\n",
    "    crs={'init': 'epsg:4326'},\n",
    "    geometry=bl_ro['geometry'])"
   ]
  },
  {
   "cell_type": "markdown",
   "metadata": {},
   "source": [
    "Sort observations and save data"
   ]
  },
  {
   "cell_type": "code",
   "execution_count": 15,
   "metadata": {},
   "outputs": [],
   "source": [
    "bl_ro = bl_ro.sort_values(['tract_bloc',\n",
    "                           'school_year']).reset_index(drop=True)\n",
    "\n"
   ]
  },
  {
   "cell_type": "markdown",
   "metadata": {},
   "source": [
    "Save"
   ]
  },
  {
   "cell_type": "code",
   "execution_count": 16,
   "metadata": {},
   "outputs": [],
   "source": [
    "with (data_path / 'processed/blocks.pkl').open('wb') as f:\n",
    "    pickle.dump(bl_ro, f)"
   ]
  }
 ],
 "metadata": {
  "kernelspec": {
   "display_name": "Python 3",
   "language": "python",
   "name": "python3"
  },
  "language_info": {
   "codemirror_mode": {
    "name": "ipython",
    "version": 3
   },
   "file_extension": ".py",
   "mimetype": "text/x-python",
   "name": "python",
   "nbconvert_exporter": "python",
   "pygments_lexer": "ipython3",
   "version": "3.6.5"
  },
  "toc": {
   "nav_menu": {},
   "number_sections": true,
   "sideBar": true,
   "skip_h1_title": false,
   "title_cell": "Table of Contents",
   "title_sidebar": "Contents",
   "toc_cell": true,
   "toc_position": {},
   "toc_section_display": true,
   "toc_window_display": false
  }
 },
 "nbformat": 4,
 "nbformat_minor": 2
}
