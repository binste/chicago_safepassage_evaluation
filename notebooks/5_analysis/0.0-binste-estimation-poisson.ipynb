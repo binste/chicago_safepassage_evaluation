{
 "cells": [
  {
   "cell_type": "markdown",
   "metadata": {
    "extensions": {
     "jupyter_dashboards": {
      "version": 1,
      "views": {
       "grid_default": {
        "col": 0,
        "height": 19,
        "hidden": true,
        "row": 0,
        "width": 12
       },
       "report_default": {}
      }
     }
    },
    "toc": true
   },
   "source": [
    "<h1>Table of Contents<span class=\"tocSkip\"></span></h1>\n",
    "<div class=\"toc\"><ul class=\"toc-item\"><li><ul class=\"toc-item\"><li><ul class=\"toc-item\"><li><span><a href=\"#Monthly-crime-rates\" data-toc-modified-id=\"Monthly-crime-rates-0.0.1\">Monthly crime rates</a></span><ul class=\"toc-item\"><li><span><a href=\"#Only-blocks-which-are-in-at-least-one-year-treated-or-one,-two,-or-three-cells-over\" data-toc-modified-id=\"Only-blocks-which-are-in-at-least-one-year-treated-or-one,-two,-or-three-cells-over-0.0.1.1\">Only blocks which are in at least one year treated or one, two, or three cells over</a></span></li></ul></li><li><span><a href=\"#Yearly-crime-counts\" data-toc-modified-id=\"Yearly-crime-counts-0.0.2\">Yearly crime counts</a></span></li></ul></li><li><span><a href=\"#Replication-of-descriptives\" data-toc-modified-id=\"Replication-of-descriptives-0.1\">Replication of descriptives</a></span><ul class=\"toc-item\"><li><span><a href=\"#Figure-A.2\" data-toc-modified-id=\"Figure-A.2-0.1.1\">Figure A.2</a></span></li><li><span><a href=\"#Table-1\" data-toc-modified-id=\"Table-1-0.1.2\">Table 1</a></span></li><li><span><a href=\"#Table-2\" data-toc-modified-id=\"Table-2-0.1.3\">Table 2</a></span></li><li><span><a href=\"#Figure-3\" data-toc-modified-id=\"Figure-3-0.1.4\">Figure 3</a></span></li></ul></li><li><span><a href=\"#Estimation\" data-toc-modified-id=\"Estimation-0.2\">Estimation</a></span><ul class=\"toc-item\"><li><ul class=\"toc-item\"><li><span><a href=\"#Empirical-Strategy\" data-toc-modified-id=\"Empirical-Strategy-0.2.0.1\">Empirical Strategy</a></span></li></ul></li></ul></li><li><span><a href=\"#Results\" data-toc-modified-id=\"Results-0.3\">Results</a></span></li></ul></li><li><span><a href=\"#Additional-figures-for-website\" data-toc-modified-id=\"Additional-figures-for-website-1\">Additional figures for website</a></span><ul class=\"toc-item\"><li><span><a href=\"#Load-data\" data-toc-modified-id=\"Load-data-1.1\">Load data</a></span><ul class=\"toc-item\"><li><span><a href=\"#Blocks-with-crimes\" data-toc-modified-id=\"Blocks-with-crimes-1.1.1\">Blocks with crimes</a></span></li><li><span><a href=\"#Routes\" data-toc-modified-id=\"Routes-1.1.2\">Routes</a></span></li><li><span><a href=\"#Hourly-crime-counts\" data-toc-modified-id=\"Hourly-crime-counts-1.1.3\">Hourly crime counts</a></span></li></ul></li><li><span><a href=\"#Plot-blocks-with-dummies\" data-toc-modified-id=\"Plot-blocks-with-dummies-1.2\">Plot blocks with dummies</a></span></li><li><span><a href=\"#Plot-violent-crime-trends\" data-toc-modified-id=\"Plot-violent-crime-trends-1.3\">Plot violent crime trends</a></span><ul class=\"toc-item\"><li><span><a href=\"#Hourly-counts\" data-toc-modified-id=\"Hourly-counts-1.3.1\">Hourly counts</a></span></li></ul></li></ul></li></ul></div>"
   ]
  },
  {
   "cell_type": "markdown",
   "metadata": {
    "extensions": {
     "jupyter_dashboards": {
      "version": 1,
      "views": {
       "grid_default": {
        "col": 0,
        "height": 4,
        "hidden": true,
        "row": 0,
        "width": 4
       },
       "report_default": {}
      }
     }
    }
   },
   "source": [
    "**Description**: This notebook creates all figures and results used on the website [Chicago's Safe Passage Program to Prevent Crime: Is It Worth the Dime?](https://binste.github.io/chicago_safepassage_evaluation/). Some of the figures, descriptive statistics and the main results are a replication of the census block results from [McMillen et al. (2017)](https://ignaciomsarmiento.github.io/assets/Safe_Passage_WP.pdf). Therefore, the first part of the notebook will make direct comparisons to the relevant parts of the beforementioned paper. The second part produces additional figures for the website which are unrelated to McMillen et al. (2017)."
   ]
  },
  {
   "cell_type": "code",
   "execution_count": 1,
   "metadata": {
    "extensions": {
     "jupyter_dashboards": {
      "version": 1,
      "views": {
       "grid_default": {
        "hidden": true
       },
       "report_default": {}
      }
     }
    }
   },
   "outputs": [],
   "source": [
    "import pickle\n",
    "import sys\n",
    "from pathlib import Path\n",
    "\n",
    "import geopandas as gpd\n",
    "import pandas as pd\n",
    "import rpy2.robjects as robjects\n",
    "from rpy2.robjects.packages import importr\n",
    "from rpy2.robjects import pandas2ri"
   ]
  },
  {
   "cell_type": "markdown",
   "metadata": {
    "extensions": {
     "jupyter_dashboards": {
      "version": 1,
      "views": {
       "grid_default": {
        "col": 8,
        "height": 4,
        "hidden": true,
        "row": 0,
        "width": 4
       },
       "report_default": {}
      }
     }
    }
   },
   "source": [
    "Set path to data folder"
   ]
  },
  {
   "cell_type": "code",
   "execution_count": 3,
   "metadata": {
    "extensions": {
     "jupyter_dashboards": {
      "version": 1,
      "views": {
       "grid_default": {
        "hidden": true
       },
       "report_default": {}
      }
     }
    }
   },
   "outputs": [],
   "source": [
    "project_folder = Path('../..')\n",
    "data_path = project_folder / 'data'"
   ]
  },
  {
   "cell_type": "markdown",
   "metadata": {
    "extensions": {
     "jupyter_dashboards": {
      "version": 1,
      "views": {
       "grid_default": {
        "col": 8,
        "height": 4,
        "hidden": true,
        "row": 0,
        "width": 4
       },
       "report_default": {}
      }
     }
    }
   },
   "source": [
    "### Monthly crime rates"
   ]
  },
  {
   "cell_type": "markdown",
   "metadata": {
    "extensions": {
     "jupyter_dashboards": {
      "version": 1,
      "views": {
       "grid_default": {
        "col": 0,
        "height": 4,
        "hidden": true,
        "row": 0,
        "width": 4
       },
       "report_default": {}
      }
     }
    }
   },
   "source": [
    "#### Only blocks which are in at least one year treated or one, two, or three cells over"
   ]
  },
  {
   "cell_type": "code",
   "execution_count": 9,
   "metadata": {
    "extensions": {
     "jupyter_dashboards": {
      "version": 1,
      "views": {
       "grid_default": {
        "col": 0,
        "height": 9,
        "hidden": true,
        "row": 0,
        "width": 12
       },
       "report_default": {}
      }
     }
    }
   },
   "outputs": [
    {
     "data": {
      "text/html": [
       "<div>\n",
       "<style scoped>\n",
       "    .dataframe tbody tr th:only-of-type {\n",
       "        vertical-align: middle;\n",
       "    }\n",
       "\n",
       "    .dataframe tbody tr th {\n",
       "        vertical-align: top;\n",
       "    }\n",
       "\n",
       "    .dataframe thead th {\n",
       "        text-align: right;\n",
       "    }\n",
       "</style>\n",
       "<table border=\"1\" class=\"dataframe\">\n",
       "  <thead>\n",
       "    <tr style=\"text-align: right;\">\n",
       "      <th></th>\n",
       "      <th>tract_bloc</th>\n",
       "      <th>school_year</th>\n",
       "      <th>Date</th>\n",
       "      <th>violent_count</th>\n",
       "      <th>property_count</th>\n",
       "      <th>route_number</th>\n",
       "      <th>school_name</th>\n",
       "      <th>treated</th>\n",
       "      <th>one_over</th>\n",
       "      <th>two_over</th>\n",
       "      <th>three_over</th>\n",
       "      <th>info</th>\n",
       "      <th>time_fe</th>\n",
       "    </tr>\n",
       "  </thead>\n",
       "  <tbody>\n",
       "    <tr>\n",
       "      <th>0</th>\n",
       "      <td>208011000.0</td>\n",
       "      <td>SY0506</td>\n",
       "      <td>2006-01-31</td>\n",
       "      <td>0.0</td>\n",
       "      <td>0.0</td>\n",
       "      <td>NaN</td>\n",
       "      <td>NaN</td>\n",
       "      <td>0.0</td>\n",
       "      <td>0</td>\n",
       "      <td>0</td>\n",
       "      <td>0</td>\n",
       "      <td>-</td>\n",
       "      <td>200601</td>\n",
       "    </tr>\n",
       "    <tr>\n",
       "      <th>1</th>\n",
       "      <td>208011000.0</td>\n",
       "      <td>SY0506</td>\n",
       "      <td>2006-02-28</td>\n",
       "      <td>0.0</td>\n",
       "      <td>0.0</td>\n",
       "      <td>NaN</td>\n",
       "      <td>NaN</td>\n",
       "      <td>0.0</td>\n",
       "      <td>0</td>\n",
       "      <td>0</td>\n",
       "      <td>0</td>\n",
       "      <td>-</td>\n",
       "      <td>200602</td>\n",
       "    </tr>\n",
       "    <tr>\n",
       "      <th>2</th>\n",
       "      <td>208011000.0</td>\n",
       "      <td>SY0506</td>\n",
       "      <td>2006-03-31</td>\n",
       "      <td>0.0</td>\n",
       "      <td>0.0</td>\n",
       "      <td>NaN</td>\n",
       "      <td>NaN</td>\n",
       "      <td>0.0</td>\n",
       "      <td>0</td>\n",
       "      <td>0</td>\n",
       "      <td>0</td>\n",
       "      <td>-</td>\n",
       "      <td>200603</td>\n",
       "    </tr>\n",
       "    <tr>\n",
       "      <th>3</th>\n",
       "      <td>208011000.0</td>\n",
       "      <td>SY0506</td>\n",
       "      <td>2006-04-30</td>\n",
       "      <td>0.0</td>\n",
       "      <td>0.0</td>\n",
       "      <td>NaN</td>\n",
       "      <td>NaN</td>\n",
       "      <td>0.0</td>\n",
       "      <td>0</td>\n",
       "      <td>0</td>\n",
       "      <td>0</td>\n",
       "      <td>-</td>\n",
       "      <td>200604</td>\n",
       "    </tr>\n",
       "    <tr>\n",
       "      <th>4</th>\n",
       "      <td>208011000.0</td>\n",
       "      <td>SY0506</td>\n",
       "      <td>2006-05-31</td>\n",
       "      <td>0.0</td>\n",
       "      <td>1.0</td>\n",
       "      <td>NaN</td>\n",
       "      <td>NaN</td>\n",
       "      <td>0.0</td>\n",
       "      <td>0</td>\n",
       "      <td>0</td>\n",
       "      <td>0</td>\n",
       "      <td>-</td>\n",
       "      <td>200605</td>\n",
       "    </tr>\n",
       "  </tbody>\n",
       "</table>\n",
       "</div>"
      ],
      "text/plain": [
       "    tract_bloc school_year       Date  violent_count  property_count  \\\n",
       "0  208011000.0      SY0506 2006-01-31            0.0             0.0   \n",
       "1  208011000.0      SY0506 2006-02-28            0.0             0.0   \n",
       "2  208011000.0      SY0506 2006-03-31            0.0             0.0   \n",
       "3  208011000.0      SY0506 2006-04-30            0.0             0.0   \n",
       "4  208011000.0      SY0506 2006-05-31            0.0             1.0   \n",
       "\n",
       "   route_number school_name  treated  one_over  two_over  three_over info  \\\n",
       "0           NaN         NaN      0.0         0         0           0    -   \n",
       "1           NaN         NaN      0.0         0         0           0    -   \n",
       "2           NaN         NaN      0.0         0         0           0    -   \n",
       "3           NaN         NaN      0.0         0         0           0    -   \n",
       "4           NaN         NaN      0.0         0         0           0    -   \n",
       "\n",
       "  time_fe  \n",
       "0  200601  \n",
       "1  200602  \n",
       "2  200603  \n",
       "3  200604  \n",
       "4  200605  "
      ]
     },
     "execution_count": 9,
     "metadata": {},
     "output_type": "execute_result"
    }
   ],
   "source": [
    "with (data_path / 'processed/est_df.pkl').open('rb') as f:\n",
    "    est_df = pickle.load(f)\n",
    "est_df.head()"
   ]
  },
  {
   "cell_type": "markdown",
   "metadata": {
    "extensions": {
     "jupyter_dashboards": {
      "version": 1,
      "views": {
       "grid_default": {
        "col": 4,
        "height": 4,
        "hidden": true,
        "row": 0,
        "width": 4
       },
       "report_default": {}
      }
     }
    }
   },
   "source": [
    "According to Table 10 in McMillen et al. (2017), they had a sample size of 783,340 for the main specification. It is unclear, why I got more than double the observations."
   ]
  },
  {
   "cell_type": "code",
   "execution_count": 10,
   "metadata": {
    "extensions": {
     "jupyter_dashboards": {
      "version": 1,
      "views": {
       "grid_default": {
        "col": 8,
        "height": 4,
        "hidden": true,
        "row": 0,
        "width": 4
       },
       "report_default": {}
      }
     }
    }
   },
   "outputs": [
    {
     "data": {
      "text/plain": [
       "array(['SY0506', 'SY0607', 'SY0708', 'SY0809', 'SY0910', 'SY1011',\n",
       "       'SY1112', 'SY1213', 'SY1314', 'SY1415', 'SY1516'], dtype=object)"
      ]
     },
     "execution_count": 10,
     "metadata": {},
     "output_type": "execute_result"
    }
   ],
   "source": [
    "est_df['school_year'].unique()"
   ]
  },
  {
   "cell_type": "markdown",
   "metadata": {
    "extensions": {
     "jupyter_dashboards": {
      "version": 1,
      "views": {
       "grid_default": {
        "col": 0,
        "height": 4,
        "hidden": false,
        "row": 128,
        "width": 12
       },
       "report_default": {}
      }
     }
    }
   },
   "source": [
    "## Estimation"
   ]
  },
  {
   "cell_type": "markdown",
   "metadata": {
    "extensions": {
     "jupyter_dashboards": {
      "version": 1,
      "views": {
       "grid_default": {
        "col": 0,
        "height": 20,
        "hidden": true,
        "row": 5,
        "width": null
       },
       "report_default": {}
      }
     }
    }
   },
   "source": [
    "#### Empirical Strategy\n",
    "$$\n",
    "crimes_{it} = \\beta \\textit{ treated_block}_{it} + \\gamma_1 \\textit{ one_block_over}_{it} + \\gamma_2 \\textit{ two_block_over}_{it} + \\delta_i + \\lambda_t + e_{it}\n",
    "$$\n",
    "\n",
    "* $crimes_{it}$: either the is the monthly violent or the property crime count at school times\n",
    "* $treated\\_block_{it}$ is an indicator variable taking one for blocks in the months that are guarded by Safe Passage personnel\n",
    "* $one\\_block\\_over_{it}$, $two\\_block\\_over_{it}$: indicators for the months after the Safe Passage was enacted if the blocks are one or two blocks over.\n",
    "\n",
    "Fixed effects:\n",
    "\n",
    "* $\\delta_i$: cell fixed effects\n",
    "* $\\lambda_t$: time fixed effects\n",
    "\n",
    "Model:\n",
    "\n",
    "* Poisson regression\n",
    "    * \"The interpretation of a difference-in-difference coefficient from a Poisson regression is $\\exp(9) − 1$. However, note that for small enough $\\beta$, the approximation $\\exp(\\beta) − 1 \\approx \\beta$ is valid.\"\n",
    "    \n",
    "Period of analysis:\n",
    "\n",
    "* January 2006 - August 2016\n",
    "\n",
    "Standard errors clustered by:\n",
    "\n",
    "* Blocks (McMillen et al. cluster at level of Safe Passage routes)"
   ]
  },
  {
   "cell_type": "markdown",
   "metadata": {
    "extensions": {
     "jupyter_dashboards": {
      "version": 1,
      "views": {
       "grid_default": {
        "col": 0,
        "height": 5,
        "hidden": true,
        "row": 5,
        "width": 12
       },
       "report_default": {}
      }
     }
    }
   },
   "source": [
    "The estimation is done using the R package [glmmML](https://cran.r-project.org/web/packages/glmmML/glmmML.pdf). As it takes quite long to fit the models, they are already supplied in the `../../models/` folder. One with violent crime count as dependent variable, and the other one with property crime counts. If you want to rerun the estimation (might not work if you run this notebook on mybinder.org), set the following parameter to `True`."
   ]
  },
  {
   "cell_type": "code",
   "execution_count": 24,
   "metadata": {
    "extensions": {
     "jupyter_dashboards": {
      "version": 1,
      "views": {
       "grid_default": {
        "hidden": true
       },
       "report_default": {}
      }
     }
    }
   },
   "outputs": [],
   "source": [
    "rerun_estimations = False"
   ]
  },
  {
   "cell_type": "code",
   "execution_count": 25,
   "metadata": {
    "extensions": {
     "jupyter_dashboards": {
      "version": 1,
      "views": {
       "grid_default": {
        "col": 4,
        "height": 5,
        "hidden": true,
        "row": 0,
        "width": 4
       },
       "report_default": {}
      }
     }
    }
   },
   "outputs": [],
   "source": [
    "if rerun_estimations:\n",
    "    # Load packages\n",
    "    tidyverse = importr('tidyverse')\n",
    "    glmmML = importr('glmmML')\n",
    "\n",
    "    # Define functions\n",
    "    robjects.r(\"\"\"summary_df <- function(model){\n",
    "      vars <- names(glm_model_violent$coefficients)[1:3]\n",
    "      coef <- as.vector(model$coefficients[1:3])\n",
    "      se <- as.vector(model$sd[1:3])\n",
    "      z <- coef/se\n",
    "      p <- 1 - pchisq((z)^2, 1)\n",
    "      n <- glm_model_violent$n\n",
    "      return(tibble(var = vars, coef = coef, se = se, z = z, p = p, n = n))\n",
    "    }\n",
    "\n",
    "    fit_poisson <- function(df, count_var){\n",
    "      df$count <- df[[count_var]]\n",
    "      # First drop all blocks with constant crime count\n",
    "      # as level would be taken out by tract bloc fixed effects anyway\n",
    "      non_constant <- df %>%\n",
    "        group_by(tract_bloc) %>%\n",
    "        summarize(sd_count = sd(count)) %>%\n",
    "        filter(sd_count > 0)\n",
    "\n",
    "      df_nc <- df %>%\n",
    "        filter(tract_bloc %in% non_constant$tract_bloc) %>%\n",
    "        select(count, treated, one_over, two_over, tract_bloc, time_fe)\n",
    "      df_nc$tract_bloc <- as.factor(df_nc$tract_bloc)\n",
    "\n",
    "      # Fit model\n",
    "      print(paste0(\"Fit model with \", count_var))\n",
    "      poisson_model <- glmmboot(count ~ treated + one_over + two_over + factor(time_fe),\n",
    "                                    family = poisson, data = df_nc, cluster = tract_bloc)\n",
    "      return(poisson_model)\n",
    "    }\n",
    "    \"\"\")\n",
    "\n",
    "    # Load data\n",
    "    print('Convert Python data to R')\n",
    "    pandas2ri.activate()\n",
    "    robjects.globalenv['est_df'] = pandas2ri.py2ri(est_df[[\n",
    "        'tract_bloc', 'violent_count', 'property_count', 'treated', 'one_over',\n",
    "        'two_over', 'three_over', 'time_fe'\n",
    "    ]])\n",
    "    # Fit poisson model for violent count\n",
    "    robjects.r('glm_model_violent <- fit_poisson(est_df, \"violent_count\")')\n",
    "    robjects.r('saveRDS(glm_model_violent, \"../../models/poisson_violent.rds\")')\n",
    "    # Save summary\n",
    "    robjects.r('summary_violent <- summary_df(glm_model_violent)')\n",
    "    robjects.r('write_csv(summary_violent, \"../../models/summary_poisson_violent.csv\")')\n",
    "    # Fit poisson model for property count\n",
    "    robjects.r('glm_model_property <- fit_poisson(est_df, \"property_count\")')\n",
    "    robjects.r('saveRDS(glm_model_property, \"../../models/poisson_property.rds\")')\n",
    "    # Save summary\n",
    "    robjects.r('summary_property <- summary_df(glm_model_property)')\n",
    "    robjects.r('write_csv(summary_property, \"../../models/summary_poisson_property.csv\")')"
   ]
  }
 ],
 "metadata": {
  "extensions": {
   "jupyter_dashboards": {
    "activeView": "grid_default",
    "version": 1,
    "views": {
     "grid_default": {
      "cellMargin": 10,
      "defaultCellHeight": 20,
      "maxColumns": 12,
      "name": "grid",
      "type": "grid"
     },
     "report_default": {
      "name": "report",
      "type": "report"
     }
    }
   }
  },
  "kernelspec": {
   "display_name": "Python 3",
   "language": "python",
   "name": "python3"
  },
  "language_info": {
   "codemirror_mode": {
    "name": "ipython",
    "version": 3
   },
   "file_extension": ".py",
   "mimetype": "text/x-python",
   "name": "python",
   "nbconvert_exporter": "python",
   "pygments_lexer": "ipython3",
   "version": "3.6.5"
  },
  "toc": {
   "nav_menu": {},
   "number_sections": false,
   "sideBar": true,
   "skip_h1_title": false,
   "title_cell": "Table of Contents",
   "title_sidebar": "Contents",
   "toc_cell": true,
   "toc_position": {
    "height": "calc(100% - 180px)",
    "left": "10px",
    "top": "150px",
    "width": "262px"
   },
   "toc_section_display": true,
   "toc_window_display": true
  },
  "varInspector": {
   "cols": {
    "lenName": 16,
    "lenType": 16,
    "lenVar": 40
   },
   "kernels_config": {
    "python": {
     "delete_cmd_postfix": "",
     "delete_cmd_prefix": "del ",
     "library": "var_list.py",
     "varRefreshCmd": "print(var_dic_list())"
    },
    "r": {
     "delete_cmd_postfix": ") ",
     "delete_cmd_prefix": "rm(",
     "library": "var_list.r",
     "varRefreshCmd": "cat(var_dic_list()) "
    }
   },
   "types_to_exclude": [
    "module",
    "function",
    "builtin_function_or_method",
    "instance",
    "_Feature"
   ],
   "window_display": false
  }
 },
 "nbformat": 4,
 "nbformat_minor": 2
}
