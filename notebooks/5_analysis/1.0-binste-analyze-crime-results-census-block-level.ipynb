{
 "cells": [
  {
   "cell_type": "markdown",
   "metadata": {
    "extensions": {
     "jupyter_dashboards": {
      "version": 1,
      "views": {
       "grid_default": {
        "col": 0,
        "height": 19,
        "hidden": true,
        "row": 0,
        "width": 12
       },
       "report_default": {}
      }
     }
    },
    "toc": true
   },
   "source": [
    "<h1>Table of Contents<span class=\"tocSkip\"></span></h1>\n",
    "<div class=\"toc\"><ul class=\"toc-item\"><li><span><a href=\"#Replication-of-McMillen-et-al.-(2017)\" data-toc-modified-id=\"Replication-of-McMillen-et-al.-(2017)-1\">Replication of McMillen et al. (2017)</a></span><ul class=\"toc-item\"><li><span><a href=\"#Load-and-prepare-data\" data-toc-modified-id=\"Load-and-prepare-data-1.1\">Load and prepare data</a></span><ul class=\"toc-item\"><li><span><a href=\"#Schools\" data-toc-modified-id=\"Schools-1.1.1\">Schools</a></span></li><li><span><a href=\"#Routes\" data-toc-modified-id=\"Routes-1.1.2\">Routes</a></span><ul class=\"toc-item\"><li><span><a href=\"#Add-treatment-indicator-from-schools\" data-toc-modified-id=\"Add-treatment-indicator-from-schools-1.1.2.1\">Add treatment indicator from schools</a></span></li></ul></li><li><span><a href=\"#Blocks-with-running-variable-for-Figure-3\" data-toc-modified-id=\"Blocks-with-running-variable-for-Figure-3-1.1.3\">Blocks with running variable for Figure 3</a></span><ul class=\"toc-item\"><li><span><a href=\"#Prepare\" data-toc-modified-id=\"Prepare-1.1.3.1\">Prepare</a></span></li></ul></li><li><span><a href=\"#Yearly-crime-counts\" data-toc-modified-id=\"Yearly-crime-counts-1.1.4\">Yearly crime counts</a></span></li></ul></li><li><span><a href=\"#Replication-of-descriptives\" data-toc-modified-id=\"Replication-of-descriptives-1.2\">Replication of descriptives</a></span><ul class=\"toc-item\"><li><span><a href=\"#Figure-A.2\" data-toc-modified-id=\"Figure-A.2-1.2.1\">Figure A.2</a></span></li><li><span><a href=\"#Table-1\" data-toc-modified-id=\"Table-1-1.2.2\">Table 1</a></span></li><li><span><a href=\"#Figure-3\" data-toc-modified-id=\"Figure-3-1.2.3\">Figure 3</a></span></li></ul></li><li><span><a href=\"#Replication-of-main-results\" data-toc-modified-id=\"Replication-of-main-results-1.3\">Replication of main results</a></span><ul class=\"toc-item\"><li><span><a href=\"#Table-10-(column-3-and-7)\" data-toc-modified-id=\"Table-10-(column-3-and-7)-1.3.1\">Table 10 (column 3 and 7)</a></span><ul class=\"toc-item\"><li><span><a href=\"#Reduced-estimation-dataset\" data-toc-modified-id=\"Reduced-estimation-dataset-1.3.1.1\">Reduced estimation dataset</a></span></li></ul></li></ul></li></ul></li><li><span><a href=\"#Additional-figures-for-website\" data-toc-modified-id=\"Additional-figures-for-website-2\">Additional figures for website</a></span><ul class=\"toc-item\"><li><span><a href=\"#Load-data\" data-toc-modified-id=\"Load-data-2.1\">Load data</a></span><ul class=\"toc-item\"><li><span><a href=\"#Blocks-with-dummies\" data-toc-modified-id=\"Blocks-with-dummies-2.1.1\">Blocks with dummies</a></span></li><li><span><a href=\"#Routes\" data-toc-modified-id=\"Routes-2.1.2\">Routes</a></span></li><li><span><a href=\"#Hourly-crime-counts\" data-toc-modified-id=\"Hourly-crime-counts-2.1.3\">Hourly crime counts</a></span></li></ul></li><li><span><a href=\"#Plot-blocks-with-dummies\" data-toc-modified-id=\"Plot-blocks-with-dummies-2.2\">Plot blocks with dummies</a></span></li><li><span><a href=\"#Plot-violent-crime-trends\" data-toc-modified-id=\"Plot-violent-crime-trends-2.3\">Plot violent crime trends</a></span><ul class=\"toc-item\"><li><span><a href=\"#Hourly-counts\" data-toc-modified-id=\"Hourly-counts-2.3.1\">Hourly counts</a></span></li></ul></li><li><span><a href=\"#Violent-crimes-split-by-FBI-Code\" data-toc-modified-id=\"Violent-crimes-split-by-FBI-Code-2.4\">Violent crimes split by FBI Code</a></span></li><li><span><a href=\"#Illustration-of-difference-in-differences-(DiD)\" data-toc-modified-id=\"Illustration-of-difference-in-differences-(DiD)-2.5\">Illustration of difference in differences (DiD)</a></span></li><li><span><a href=\"#Illustration-of-block-dummies\" data-toc-modified-id=\"Illustration-of-block-dummies-2.6\">Illustration of block dummies</a></span></li></ul></li></ul></div>"
   ]
  },
  {
   "cell_type": "markdown",
   "metadata": {
    "extensions": {
     "jupyter_dashboards": {
      "version": 1,
      "views": {
       "grid_default": {
        "col": 0,
        "height": 4,
        "hidden": true,
        "row": 0,
        "width": 4
       },
       "report_default": {}
      }
     }
    }
   },
   "source": [
    "**Description**: This notebook creates all figures and displays the results used on the website [Chicago's Safe Passage Program to Prevent Crime: Is It Worth the Dime?](https://binste.github.io/chicago_safepassage_evaluation/). Some of the figures, descriptive statistics and the main results are a replication of the census block results from [McMillen et al. (2017)](https://ignaciomsarmiento.github.io/assets/Safe_Passage_WP.pdf). Therefore, the first part of the notebook will make direct comparisons to the relevant parts of the beforementioned paper. The second part produces additional figures for the website which are unrelated to McMillen et al. (2017).\n",
    "\n",
    "**Usage**: Run all cells (Cell -> Run All) to get a correct output of the figures."
   ]
  },
  {
   "cell_type": "code",
   "execution_count": 1,
   "metadata": {
    "extensions": {
     "jupyter_dashboards": {
      "version": 1,
      "views": {
       "grid_default": {
        "hidden": true
       },
       "report_default": {}
      }
     }
    }
   },
   "outputs": [],
   "source": [
    "%matplotlib inline\n",
    "\n",
    "import calendar\n",
    "import pickle\n",
    "import sys\n",
    "from pathlib import Path\n",
    "\n",
    "import altair as alt\n",
    "import geopandas as gpd\n",
    "import pandas as pd\n",
    "import matplotlib.pyplot as plt\n",
    "import numpy as np\n",
    "import ipywidgets as widgets\n",
    "from altair import datum\n",
    "\n",
    "sys.path.append('../..')\n",
    "from src.analysis.figures import format_chart, save_to_jekyll\n",
    "from src.prepare_data.crime_database import load_relevant_crimes\n",
    "\n",
    "plt.style.use('seaborn-white')"
   ]
  },
  {
   "cell_type": "code",
   "execution_count": 2,
   "metadata": {},
   "outputs": [],
   "source": [
    "plt.rcParams['figure.figsize'] = (13, 8)\n",
    "plt.rcParams['font.size'] = 13\n",
    "plt.rcParams['axes.labelsize'] = 13\n",
    "plt.rcParams['axes.labelweight'] = 'bold'\n",
    "plt.rcParams['xtick.labelsize'] = 13\n",
    "plt.rcParams['ytick.labelsize'] = 13\n",
    "plt.rcParams['legend.fontsize'] = 13"
   ]
  },
  {
   "cell_type": "code",
   "execution_count": 3,
   "metadata": {
    "extensions": {
     "jupyter_dashboards": {
      "version": 1,
      "views": {
       "grid_default": {
        "col": 4,
        "height": 4,
        "hidden": true,
        "row": 0,
        "width": 4
       },
       "report_default": {}
      }
     }
    }
   },
   "outputs": [
    {
     "data": {
      "text/plain": [
       "RendererRegistry.enable('notebook')"
      ]
     },
     "execution_count": 3,
     "metadata": {},
     "output_type": "execute_result"
    }
   ],
   "source": [
    "# for the notebook only (not for JupyterLab) run this command once per session\n",
    "alt.renderers.enable('notebook')"
   ]
  },
  {
   "cell_type": "markdown",
   "metadata": {
    "extensions": {
     "jupyter_dashboards": {
      "version": 1,
      "views": {
       "grid_default": {
        "col": 8,
        "height": 4,
        "hidden": true,
        "row": 0,
        "width": 4
       },
       "report_default": {}
      }
     }
    }
   },
   "source": [
    "Set path to data folder"
   ]
  },
  {
   "cell_type": "code",
   "execution_count": 4,
   "metadata": {
    "extensions": {
     "jupyter_dashboards": {
      "version": 1,
      "views": {
       "grid_default": {
        "hidden": true
       },
       "report_default": {}
      }
     }
    }
   },
   "outputs": [],
   "source": [
    "project_folder = Path('../..')\n",
    "data_path = project_folder / 'data'"
   ]
  },
  {
   "cell_type": "markdown",
   "metadata": {},
   "source": [
    "# Replication of McMillen et al. (2017)\n",
    "Only main results of census block specification."
   ]
  },
  {
   "cell_type": "markdown",
   "metadata": {
    "extensions": {
     "jupyter_dashboards": {
      "version": 1,
      "views": {
       "grid_default": {
        "col": 0,
        "height": 4,
        "hidden": true,
        "row": 0,
        "width": 4
       },
       "report_default": {}
      }
     }
    }
   },
   "source": [
    "## Load and prepare data"
   ]
  },
  {
   "cell_type": "markdown",
   "metadata": {
    "extensions": {
     "jupyter_dashboards": {
      "version": 1,
      "views": {
       "grid_default": {
        "col": 4,
        "height": 4,
        "hidden": true,
        "row": 0,
        "width": 4
       },
       "report_default": {}
      }
     }
    }
   },
   "source": [
    "### Schools"
   ]
  },
  {
   "cell_type": "code",
   "execution_count": 5,
   "metadata": {
    "extensions": {
     "jupyter_dashboards": {
      "version": 1,
      "views": {
       "grid_default": {
        "hidden": true
       },
       "report_default": {}
      }
     }
    }
   },
   "outputs": [],
   "source": [
    "with (data_path / 'processed/schools_blocks.pkl').open('rb') as f:\n",
    "    schools = pickle.load(f)\n",
    "schools['treated'] = schools['treated_foia']\n",
    "schools = schools.drop('treated_foia', axis='columns')"
   ]
  },
  {
   "cell_type": "markdown",
   "metadata": {
    "extensions": {
     "jupyter_dashboards": {
      "version": 1,
      "views": {
       "grid_default": {
        "col": 8,
        "height": 4,
        "hidden": true,
        "row": 0,
        "width": 4
       },
       "report_default": {}
      }
     }
    }
   },
   "source": [
    "### Routes"
   ]
  },
  {
   "cell_type": "code",
   "execution_count": 6,
   "metadata": {
    "extensions": {
     "jupyter_dashboards": {
      "version": 1,
      "views": {
       "grid_default": {
        "hidden": true
       },
       "report_default": {}
      }
     }
    }
   },
   "outputs": [],
   "source": [
    "with (data_path / 'processed/routes.pkl').open('rb') as f:\n",
    "    routes = pickle.load(f)"
   ]
  },
  {
   "cell_type": "markdown",
   "metadata": {
    "extensions": {
     "jupyter_dashboards": {
      "version": 1,
      "views": {
       "grid_default": {
        "col": 0,
        "height": 4,
        "hidden": true,
        "row": 0,
        "width": 4
       },
       "report_default": {}
      }
     }
    }
   },
   "source": [
    "#### Add treatment indicator from schools"
   ]
  },
  {
   "cell_type": "markdown",
   "metadata": {
    "extensions": {
     "jupyter_dashboards": {
      "version": 1,
      "views": {
       "grid_default": {
        "col": 4,
        "height": 4,
        "hidden": true,
        "row": 0,
        "width": 4
       },
       "report_default": {}
      }
     }
    }
   },
   "source": [
    "Add earlier school years"
   ]
  },
  {
   "cell_type": "code",
   "execution_count": 7,
   "metadata": {
    "extensions": {
     "jupyter_dashboards": {
      "version": 1,
      "views": {
       "grid_default": {
        "hidden": true
       },
       "report_default": {}
      }
     }
    }
   },
   "outputs": [],
   "source": [
    "school_years = ['SY0910', 'SY1011', 'SY1112', 'SY1213']\n",
    "earlier_routes = []\n",
    "routes_1314 = routes.query('school_year == \"SY1314\"')\n",
    "for sy in school_years:\n",
    "    temp_routes = routes_1314.copy()\n",
    "    temp_routes['school_year'] = sy\n",
    "    earlier_routes.append(temp_routes)\n",
    "\n",
    "routes = pd.concat([routes] + earlier_routes, ignore_index=True)"
   ]
  },
  {
   "cell_type": "code",
   "execution_count": 8,
   "metadata": {
    "extensions": {
     "jupyter_dashboards": {
      "version": 1,
      "views": {
       "grid_default": {
        "hidden": true
       },
       "report_default": {}
      }
     }
    }
   },
   "outputs": [],
   "source": [
    "assert not routes.duplicated(subset=['school_year', 'route_number']).any()"
   ]
  },
  {
   "cell_type": "code",
   "execution_count": 9,
   "metadata": {
    "extensions": {
     "jupyter_dashboards": {
      "version": 1,
      "views": {
       "grid_default": {
        "hidden": true
       },
       "report_default": {}
      }
     }
    }
   },
   "outputs": [],
   "source": [
    "routes = routes.merge(\n",
    "    schools[['school_name', 'school_year', 'treated']],\n",
    "    how='left',\n",
    "    on=['school_name', 'school_year'], validate='m:1')"
   ]
  },
  {
   "cell_type": "markdown",
   "metadata": {
    "extensions": {
     "jupyter_dashboards": {
      "version": 1,
      "views": {
       "grid_default": {
        "col": 0,
        "height": 4,
        "hidden": true,
        "row": 0,
        "width": 4
       },
       "report_default": {}
      }
     }
    }
   },
   "source": [
    "### Blocks with running variable for Figure 3"
   ]
  },
  {
   "cell_type": "code",
   "execution_count": 10,
   "metadata": {
    "extensions": {
     "jupyter_dashboards": {
      "version": 1,
      "views": {
       "grid_default": {
        "hidden": true
       },
       "report_default": {}
      }
     }
    }
   },
   "outputs": [],
   "source": [
    "with (data_path / 'processed/figures/blocks_fig_3.pkl').open('rb') as f:\n",
    "    blocks_fig_3 = pickle.load(f)\n",
    "blocks_fig_3 = blocks_fig_3.query('run_var != 3')"
   ]
  },
  {
   "cell_type": "code",
   "execution_count": 11,
   "metadata": {},
   "outputs": [
    {
     "data": {
      "text/html": [
       "<div>\n",
       "<style scoped>\n",
       "    .dataframe tbody tr th:only-of-type {\n",
       "        vertical-align: middle;\n",
       "    }\n",
       "\n",
       "    .dataframe tbody tr th {\n",
       "        vertical-align: top;\n",
       "    }\n",
       "\n",
       "    .dataframe thead th {\n",
       "        text-align: right;\n",
       "    }\n",
       "</style>\n",
       "<table border=\"1\" class=\"dataframe\">\n",
       "  <thead>\n",
       "    <tr style=\"text-align: right;\">\n",
       "      <th></th>\n",
       "      <th>tract_bloc</th>\n",
       "      <th>school_year</th>\n",
       "      <th>violent_count</th>\n",
       "      <th>property_count</th>\n",
       "      <th>treated</th>\n",
       "      <th>one_over</th>\n",
       "      <th>two_over</th>\n",
       "      <th>three_over</th>\n",
       "      <th>info</th>\n",
       "      <th>run_var_treated</th>\n",
       "      <th>run_var_one</th>\n",
       "      <th>run_var_two</th>\n",
       "      <th>run_var_three</th>\n",
       "      <th>run_var</th>\n",
       "      <th>block_status</th>\n",
       "    </tr>\n",
       "  </thead>\n",
       "  <tbody>\n",
       "    <tr>\n",
       "      <th>3</th>\n",
       "      <td>208011000.0</td>\n",
       "      <td>SY0809</td>\n",
       "      <td>0.0</td>\n",
       "      <td>0.0</td>\n",
       "      <td>0.0</td>\n",
       "      <td>0</td>\n",
       "      <td>0</td>\n",
       "      <td>0</td>\n",
       "      <td>-</td>\n",
       "      <td>NaN</td>\n",
       "      <td>NaN</td>\n",
       "      <td>NaN</td>\n",
       "      <td>-5.0</td>\n",
       "      <td>-5.0</td>\n",
       "      <td>Three over</td>\n",
       "    </tr>\n",
       "    <tr>\n",
       "      <th>4</th>\n",
       "      <td>208011000.0</td>\n",
       "      <td>SY0910</td>\n",
       "      <td>0.0</td>\n",
       "      <td>0.0</td>\n",
       "      <td>0.0</td>\n",
       "      <td>0</td>\n",
       "      <td>0</td>\n",
       "      <td>0</td>\n",
       "      <td>-</td>\n",
       "      <td>NaN</td>\n",
       "      <td>NaN</td>\n",
       "      <td>NaN</td>\n",
       "      <td>-4.0</td>\n",
       "      <td>-4.0</td>\n",
       "      <td>Three over</td>\n",
       "    </tr>\n",
       "    <tr>\n",
       "      <th>5</th>\n",
       "      <td>208011000.0</td>\n",
       "      <td>SY1011</td>\n",
       "      <td>0.0</td>\n",
       "      <td>0.0</td>\n",
       "      <td>0.0</td>\n",
       "      <td>0</td>\n",
       "      <td>0</td>\n",
       "      <td>0</td>\n",
       "      <td>-</td>\n",
       "      <td>NaN</td>\n",
       "      <td>NaN</td>\n",
       "      <td>NaN</td>\n",
       "      <td>-3.0</td>\n",
       "      <td>-3.0</td>\n",
       "      <td>Three over</td>\n",
       "    </tr>\n",
       "    <tr>\n",
       "      <th>6</th>\n",
       "      <td>208011000.0</td>\n",
       "      <td>SY1112</td>\n",
       "      <td>0.0</td>\n",
       "      <td>0.0</td>\n",
       "      <td>0.0</td>\n",
       "      <td>0</td>\n",
       "      <td>0</td>\n",
       "      <td>0</td>\n",
       "      <td>-</td>\n",
       "      <td>NaN</td>\n",
       "      <td>NaN</td>\n",
       "      <td>NaN</td>\n",
       "      <td>-2.0</td>\n",
       "      <td>-2.0</td>\n",
       "      <td>Three over</td>\n",
       "    </tr>\n",
       "    <tr>\n",
       "      <th>7</th>\n",
       "      <td>208011000.0</td>\n",
       "      <td>SY1213</td>\n",
       "      <td>0.0</td>\n",
       "      <td>0.0</td>\n",
       "      <td>0.0</td>\n",
       "      <td>0</td>\n",
       "      <td>0</td>\n",
       "      <td>0</td>\n",
       "      <td>-</td>\n",
       "      <td>NaN</td>\n",
       "      <td>NaN</td>\n",
       "      <td>NaN</td>\n",
       "      <td>-1.0</td>\n",
       "      <td>-1.0</td>\n",
       "      <td>Three over</td>\n",
       "    </tr>\n",
       "  </tbody>\n",
       "</table>\n",
       "</div>"
      ],
      "text/plain": [
       "    tract_bloc school_year  violent_count  property_count  treated  one_over  \\\n",
       "3  208011000.0      SY0809            0.0             0.0      0.0         0   \n",
       "4  208011000.0      SY0910            0.0             0.0      0.0         0   \n",
       "5  208011000.0      SY1011            0.0             0.0      0.0         0   \n",
       "6  208011000.0      SY1112            0.0             0.0      0.0         0   \n",
       "7  208011000.0      SY1213            0.0             0.0      0.0         0   \n",
       "\n",
       "   two_over  three_over info  run_var_treated  run_var_one  run_var_two  \\\n",
       "3         0           0    -              NaN          NaN          NaN   \n",
       "4         0           0    -              NaN          NaN          NaN   \n",
       "5         0           0    -              NaN          NaN          NaN   \n",
       "6         0           0    -              NaN          NaN          NaN   \n",
       "7         0           0    -              NaN          NaN          NaN   \n",
       "\n",
       "   run_var_three  run_var block_status  \n",
       "3           -5.0     -5.0   Three over  \n",
       "4           -4.0     -4.0   Three over  \n",
       "5           -3.0     -3.0   Three over  \n",
       "6           -2.0     -2.0   Three over  \n",
       "7           -1.0     -1.0   Three over  "
      ]
     },
     "execution_count": 11,
     "metadata": {},
     "output_type": "execute_result"
    }
   ],
   "source": [
    "blocks_fig_3.head()"
   ]
  },
  {
   "cell_type": "markdown",
   "metadata": {
    "extensions": {
     "jupyter_dashboards": {
      "version": 1,
      "views": {
       "grid_default": {
        "col": 4,
        "height": 4,
        "hidden": true,
        "row": 0,
        "width": 4
       },
       "report_default": {}
      }
     }
    }
   },
   "source": [
    "#### Prepare"
   ]
  },
  {
   "cell_type": "markdown",
   "metadata": {},
   "source": [
    "First, devide all crime counts by number of weekdays for respective school year. These have to be first calculated:"
   ]
  },
  {
   "cell_type": "code",
   "execution_count": 12,
   "metadata": {},
   "outputs": [],
   "source": [
    "def count_weekdays(year, month):\n",
    "    \"\"\"Counts number of weekdays per given month.\n",
    "    \n",
    "    Parameters\n",
    "    ----------\n",
    "    year : int\n",
    "        Year of month\n",
    "    \n",
    "    month : int\n",
    "    \n",
    "    Returns\n",
    "    -------\n",
    "    int\n",
    "        Number of weekdays in given month\n",
    "    \"\"\"\n",
    "    weekday_count = 0\n",
    "    cal = calendar.Calendar()\n",
    "\n",
    "    for day, wday_number in cal.itermonthdays2(year, month):\n",
    "        # day == 0 would mean that it is not a day of\n",
    "        # this month\n",
    "        # wday_number in (5, 6) -> weekends\n",
    "        if day > 0 and wday_number <= 4:\n",
    "            weekday_count += 1\n",
    "    return weekday_count"
   ]
  },
  {
   "cell_type": "code",
   "execution_count": 13,
   "metadata": {},
   "outputs": [
    {
     "data": {
      "text/plain": [
       "{'SY0607': [(2006, [9, 10, 11, 12]), (2007, [1, 2, 3, 4, 5, 6])],\n",
       " 'SY0708': [(2007, [9, 10, 11, 12]), (2008, [1, 2, 3, 4, 5, 6])],\n",
       " 'SY0809': [(2008, [9, 10, 11, 12]), (2009, [1, 2, 3, 4, 5, 6])],\n",
       " 'SY0910': [(2009, [9, 10, 11, 12]), (2010, [1, 2, 3, 4, 5, 6])],\n",
       " 'SY1011': [(2010, [9, 10, 11, 12]), (2011, [1, 2, 3, 4, 5, 6])],\n",
       " 'SY1112': [(2011, [9, 10, 11, 12]), (2012, [1, 2, 3, 4, 5, 6])],\n",
       " 'SY1213': [(2012, [9, 10, 11, 12]), (2013, [1, 2, 3, 4, 5, 6])],\n",
       " 'SY1314': [(2013, [9, 10, 11, 12]), (2014, [1, 2, 3, 4, 5, 6])],\n",
       " 'SY1415': [(2014, [9, 10, 11, 12]), (2015, [1, 2, 3, 4, 5, 6])],\n",
       " 'SY1516': [(2015, [9, 10, 11, 12]), (2016, [1, 2, 3, 4, 5, 6])],\n",
       " 'SY0506': [(2006, [1, 2, 3, 4, 5, 6])]}"
      ]
     },
     "execution_count": 13,
     "metadata": {},
     "output_type": "execute_result"
    }
   ],
   "source": [
    "sy_range = {\n",
    "    sy: [(int(f'20{sy[2:4]}'), [9, 10, 11, 12]), (int(f'20{sy[4:]}'), [1, 2, 3, 4, 5, 6])]\n",
    "    for sy in [\n",
    "        'SY0607', 'SY0708', 'SY0809', 'SY0910', 'SY1011', 'SY1112',\n",
    "        'SY1213', 'SY1314', 'SY1415', 'SY1516'\n",
    "    ]\n",
    "}\n",
    "# Add SY0506 separate, as I only use data starting from January 2001\n",
    "sy_range['SY0506'] = [(2006, [1, 2, 3, 4, 5, 6])]\n",
    "sy_range"
   ]
  },
  {
   "cell_type": "code",
   "execution_count": 14,
   "metadata": {},
   "outputs": [
    {
     "data": {
      "text/plain": [
       "{'SY0607': 216,\n",
       " 'SY0708': 216,\n",
       " 'SY0809': 217,\n",
       " 'SY0910': 217,\n",
       " 'SY1011': 217,\n",
       " 'SY1112': 217,\n",
       " 'SY1213': 215,\n",
       " 'SY1314': 216,\n",
       " 'SY1415': 217,\n",
       " 'SY1516': 218,\n",
       " 'SY0506': 130}"
      ]
     },
     "execution_count": 14,
     "metadata": {},
     "output_type": "execute_result"
    }
   ],
   "source": [
    "sy_weekdays = {}\n",
    "for sy, year_months in sy_range.items():\n",
    "    sy_counter = 0\n",
    "    for year, months in year_months:\n",
    "        for month in months:\n",
    "            sy_counter += count_weekdays(year, month)\n",
    "    sy_weekdays[sy] = sy_counter\n",
    "sy_weekdays"
   ]
  },
  {
   "cell_type": "code",
   "execution_count": 15,
   "metadata": {},
   "outputs": [
    {
     "data": {
      "text/html": [
       "<div>\n",
       "<style scoped>\n",
       "    .dataframe tbody tr th:only-of-type {\n",
       "        vertical-align: middle;\n",
       "    }\n",
       "\n",
       "    .dataframe tbody tr th {\n",
       "        vertical-align: top;\n",
       "    }\n",
       "\n",
       "    .dataframe thead th {\n",
       "        text-align: right;\n",
       "    }\n",
       "</style>\n",
       "<table border=\"1\" class=\"dataframe\">\n",
       "  <thead>\n",
       "    <tr style=\"text-align: right;\">\n",
       "      <th></th>\n",
       "      <th>tract_bloc</th>\n",
       "      <th>school_year</th>\n",
       "      <th>violent_count</th>\n",
       "      <th>property_count</th>\n",
       "      <th>treated</th>\n",
       "      <th>one_over</th>\n",
       "      <th>two_over</th>\n",
       "      <th>three_over</th>\n",
       "      <th>info</th>\n",
       "      <th>run_var_treated</th>\n",
       "      <th>run_var_one</th>\n",
       "      <th>run_var_two</th>\n",
       "      <th>run_var_three</th>\n",
       "      <th>run_var</th>\n",
       "      <th>block_status</th>\n",
       "      <th>violent_count_per_wday</th>\n",
       "      <th>property_count_per_wday</th>\n",
       "    </tr>\n",
       "  </thead>\n",
       "  <tbody>\n",
       "    <tr>\n",
       "      <th>16</th>\n",
       "      <td>208011015.0</td>\n",
       "      <td>SY1011</td>\n",
       "      <td>1.0</td>\n",
       "      <td>1.0</td>\n",
       "      <td>0.0</td>\n",
       "      <td>0</td>\n",
       "      <td>0</td>\n",
       "      <td>0</td>\n",
       "      <td>-</td>\n",
       "      <td>NaN</td>\n",
       "      <td>NaN</td>\n",
       "      <td>NaN</td>\n",
       "      <td>-3.0</td>\n",
       "      <td>-3.0</td>\n",
       "      <td>Three over</td>\n",
       "      <td>0.004608</td>\n",
       "      <td>0.004608</td>\n",
       "    </tr>\n",
       "    <tr>\n",
       "      <th>21</th>\n",
       "      <td>208011015.0</td>\n",
       "      <td>SY1516</td>\n",
       "      <td>1.0</td>\n",
       "      <td>1.0</td>\n",
       "      <td>0.0</td>\n",
       "      <td>0</td>\n",
       "      <td>0</td>\n",
       "      <td>1</td>\n",
       "      <td>three over</td>\n",
       "      <td>NaN</td>\n",
       "      <td>NaN</td>\n",
       "      <td>NaN</td>\n",
       "      <td>2.0</td>\n",
       "      <td>2.0</td>\n",
       "      <td>Three over</td>\n",
       "      <td>0.004587</td>\n",
       "      <td>0.004587</td>\n",
       "    </tr>\n",
       "    <tr>\n",
       "      <th>26</th>\n",
       "      <td>208014000.0</td>\n",
       "      <td>SY0910</td>\n",
       "      <td>1.0</td>\n",
       "      <td>0.0</td>\n",
       "      <td>0.0</td>\n",
       "      <td>0</td>\n",
       "      <td>0</td>\n",
       "      <td>0</td>\n",
       "      <td>-</td>\n",
       "      <td>NaN</td>\n",
       "      <td>NaN</td>\n",
       "      <td>NaN</td>\n",
       "      <td>-4.0</td>\n",
       "      <td>-4.0</td>\n",
       "      <td>Three over</td>\n",
       "      <td>0.004608</td>\n",
       "      <td>0.000000</td>\n",
       "    </tr>\n",
       "    <tr>\n",
       "      <th>32</th>\n",
       "      <td>208014000.0</td>\n",
       "      <td>SY1516</td>\n",
       "      <td>1.0</td>\n",
       "      <td>0.0</td>\n",
       "      <td>0.0</td>\n",
       "      <td>0</td>\n",
       "      <td>0</td>\n",
       "      <td>1</td>\n",
       "      <td>three over</td>\n",
       "      <td>NaN</td>\n",
       "      <td>NaN</td>\n",
       "      <td>NaN</td>\n",
       "      <td>2.0</td>\n",
       "      <td>2.0</td>\n",
       "      <td>Three over</td>\n",
       "      <td>0.004587</td>\n",
       "      <td>0.000000</td>\n",
       "    </tr>\n",
       "    <tr>\n",
       "      <th>54</th>\n",
       "      <td>208021015.0</td>\n",
       "      <td>SY1516</td>\n",
       "      <td>1.0</td>\n",
       "      <td>0.0</td>\n",
       "      <td>0.0</td>\n",
       "      <td>0</td>\n",
       "      <td>0</td>\n",
       "      <td>1</td>\n",
       "      <td>three over</td>\n",
       "      <td>NaN</td>\n",
       "      <td>NaN</td>\n",
       "      <td>NaN</td>\n",
       "      <td>2.0</td>\n",
       "      <td>2.0</td>\n",
       "      <td>Three over</td>\n",
       "      <td>0.004587</td>\n",
       "      <td>0.000000</td>\n",
       "    </tr>\n",
       "  </tbody>\n",
       "</table>\n",
       "</div>"
      ],
      "text/plain": [
       "     tract_bloc school_year  violent_count  property_count  treated  one_over  \\\n",
       "16  208011015.0      SY1011            1.0             1.0      0.0         0   \n",
       "21  208011015.0      SY1516            1.0             1.0      0.0         0   \n",
       "26  208014000.0      SY0910            1.0             0.0      0.0         0   \n",
       "32  208014000.0      SY1516            1.0             0.0      0.0         0   \n",
       "54  208021015.0      SY1516            1.0             0.0      0.0         0   \n",
       "\n",
       "    two_over  three_over        info  run_var_treated  run_var_one  \\\n",
       "16         0           0           -              NaN          NaN   \n",
       "21         0           1  three over              NaN          NaN   \n",
       "26         0           0           -              NaN          NaN   \n",
       "32         0           1  three over              NaN          NaN   \n",
       "54         0           1  three over              NaN          NaN   \n",
       "\n",
       "    run_var_two  run_var_three  run_var block_status  violent_count_per_wday  \\\n",
       "16          NaN           -3.0     -3.0   Three over                0.004608   \n",
       "21          NaN            2.0      2.0   Three over                0.004587   \n",
       "26          NaN           -4.0     -4.0   Three over                0.004608   \n",
       "32          NaN            2.0      2.0   Three over                0.004587   \n",
       "54          NaN            2.0      2.0   Three over                0.004587   \n",
       "\n",
       "    property_count_per_wday  \n",
       "16                 0.004608  \n",
       "21                 0.004587  \n",
       "26                 0.000000  \n",
       "32                 0.000000  \n",
       "54                 0.000000  "
      ]
     },
     "execution_count": 15,
     "metadata": {},
     "output_type": "execute_result"
    }
   ],
   "source": [
    "blocks_fig_3['violent_count_per_wday'] = blocks_fig_3.apply(\n",
    "    lambda row: row['violent_count'] / sy_weekdays[row['school_year']], axis=1)\n",
    "blocks_fig_3['property_count_per_wday'] = blocks_fig_3.apply(\n",
    "    lambda row: row['property_count'] / sy_weekdays[row['school_year']], axis=1)\n",
    "blocks_fig_3.query('violent_count != 0').head()"
   ]
  },
  {
   "cell_type": "code",
   "execution_count": 16,
   "metadata": {
    "extensions": {
     "jupyter_dashboards": {
      "version": 1,
      "views": {
       "grid_default": {
        "hidden": true
       },
       "report_default": {}
      }
     }
    }
   },
   "outputs": [],
   "source": [
    "blocks_fig_3 = blocks_fig_3.groupby(['run_var', 'block_status']).agg({\n",
    "    'violent_count':\n",
    "    'mean',\n",
    "    'property_count':\n",
    "    'mean',\n",
    "    'violent_count_per_wday':\n",
    "    'mean',\n",
    "    'property_count_per_wday':\n",
    "    'mean'\n",
    "}).reset_index()"
   ]
  },
  {
   "cell_type": "code",
   "execution_count": 17,
   "metadata": {
    "extensions": {
     "jupyter_dashboards": {
      "version": 1,
      "views": {
       "grid_default": {
        "col": 8,
        "height": 8,
        "hidden": true,
        "row": 0,
        "width": 4
       },
       "report_default": {}
      }
     }
    }
   },
   "outputs": [
    {
     "data": {
      "text/html": [
       "<div>\n",
       "<style scoped>\n",
       "    .dataframe tbody tr th:only-of-type {\n",
       "        vertical-align: middle;\n",
       "    }\n",
       "\n",
       "    .dataframe tbody tr th {\n",
       "        vertical-align: top;\n",
       "    }\n",
       "\n",
       "    .dataframe thead th {\n",
       "        text-align: right;\n",
       "    }\n",
       "</style>\n",
       "<table border=\"1\" class=\"dataframe\">\n",
       "  <thead>\n",
       "    <tr style=\"text-align: right;\">\n",
       "      <th></th>\n",
       "      <th>run_var</th>\n",
       "      <th>block_status</th>\n",
       "      <th>violent_count</th>\n",
       "      <th>property_count</th>\n",
       "      <th>violent_count_per_wday</th>\n",
       "      <th>property_count_per_wday</th>\n",
       "    </tr>\n",
       "  </thead>\n",
       "  <tbody>\n",
       "    <tr>\n",
       "      <th>0</th>\n",
       "      <td>-5.0</td>\n",
       "      <td>One over</td>\n",
       "      <td>0.255826</td>\n",
       "      <td>1.123252</td>\n",
       "      <td>0.001179</td>\n",
       "      <td>0.005178</td>\n",
       "    </tr>\n",
       "    <tr>\n",
       "      <th>1</th>\n",
       "      <td>-5.0</td>\n",
       "      <td>Three over</td>\n",
       "      <td>0.205269</td>\n",
       "      <td>0.949273</td>\n",
       "      <td>0.000946</td>\n",
       "      <td>0.004375</td>\n",
       "    </tr>\n",
       "    <tr>\n",
       "      <th>2</th>\n",
       "      <td>-5.0</td>\n",
       "      <td>Treated</td>\n",
       "      <td>0.418735</td>\n",
       "      <td>1.427542</td>\n",
       "      <td>0.001930</td>\n",
       "      <td>0.006580</td>\n",
       "    </tr>\n",
       "    <tr>\n",
       "      <th>3</th>\n",
       "      <td>-5.0</td>\n",
       "      <td>Two over</td>\n",
       "      <td>0.275023</td>\n",
       "      <td>1.078512</td>\n",
       "      <td>0.001268</td>\n",
       "      <td>0.004971</td>\n",
       "    </tr>\n",
       "    <tr>\n",
       "      <th>4</th>\n",
       "      <td>-4.0</td>\n",
       "      <td>One over</td>\n",
       "      <td>0.235654</td>\n",
       "      <td>0.907661</td>\n",
       "      <td>0.001326</td>\n",
       "      <td>0.004986</td>\n",
       "    </tr>\n",
       "  </tbody>\n",
       "</table>\n",
       "</div>"
      ],
      "text/plain": [
       "   run_var block_status  violent_count  property_count  \\\n",
       "0     -5.0     One over       0.255826        1.123252   \n",
       "1     -5.0   Three over       0.205269        0.949273   \n",
       "2     -5.0      Treated       0.418735        1.427542   \n",
       "3     -5.0     Two over       0.275023        1.078512   \n",
       "4     -4.0     One over       0.235654        0.907661   \n",
       "\n",
       "   violent_count_per_wday  property_count_per_wday  \n",
       "0                0.001179                 0.005178  \n",
       "1                0.000946                 0.004375  \n",
       "2                0.001930                 0.006580  \n",
       "3                0.001268                 0.004971  \n",
       "4                0.001326                 0.004986  "
      ]
     },
     "execution_count": 17,
     "metadata": {},
     "output_type": "execute_result"
    }
   ],
   "source": [
    "blocks_fig_3.head()"
   ]
  },
  {
   "cell_type": "markdown",
   "metadata": {
    "extensions": {
     "jupyter_dashboards": {
      "version": 1,
      "views": {
       "grid_default": {
        "col": 0,
        "height": 4,
        "hidden": true,
        "row": 0,
        "width": 4
       },
       "report_default": {}
      }
     }
    }
   },
   "source": [
    "### Yearly crime counts"
   ]
  },
  {
   "cell_type": "code",
   "execution_count": 18,
   "metadata": {
    "extensions": {
     "jupyter_dashboards": {
      "version": 1,
      "views": {
       "grid_default": {
        "hidden": true
       },
       "report_default": {}
      }
     }
    }
   },
   "outputs": [],
   "source": [
    "with (data_path / 'processed/figures/violent_yearly_counts.pkl').open('rb') as f:\n",
    "    yearly_crime_counts = pickle.load(f)\n",
    "yearly_crime_counts['violent'] = yearly_crime_counts['violent'].map({0: 'Property', 1: 'Violent'})"
   ]
  },
  {
   "cell_type": "markdown",
   "metadata": {
    "extensions": {
     "jupyter_dashboards": {
      "version": 1,
      "views": {
       "grid_default": {
        "col": 0,
        "height": 2,
        "hidden": false,
        "row": 0,
        "width": 12
       },
       "report_default": {}
      }
     }
    }
   },
   "source": [
    "## Replication of descriptives"
   ]
  },
  {
   "cell_type": "markdown",
   "metadata": {
    "extensions": {
     "jupyter_dashboards": {
      "version": 1,
      "views": {
       "grid_default": {
        "col": 0,
        "height": 25,
        "hidden": false,
        "row": 2,
        "width": 12
       },
       "report_default": {}
      }
     }
    }
   },
   "source": [
    "### Figure A.2\n",
    "![figure_a2](../../reports/figures/mcmillen_fig_a2.png)"
   ]
  },
  {
   "cell_type": "code",
   "execution_count": 19,
   "metadata": {
    "extensions": {
     "jupyter_dashboards": {
      "version": 1,
      "views": {
       "grid_default": {
        "col": 0,
        "height": 17,
        "hidden": false,
        "row": 27,
        "width": 12
       },
       "report_default": {}
      }
     }
    }
   },
   "outputs": [
    {
     "data": {
      "text/html": [
       "<div class=\"vega-embed\" id=\"b671f102-fc3c-4796-a805-efbc3f62a4e3\"></div>\n",
       "\n",
       "<style>\n",
       ".vega-embed .vega-actions > a {\n",
       "    transition: opacity 200ms ease-in;\n",
       "    opacity: 0.3;\n",
       "    margin-right: 0.6em;\n",
       "    color: #444;\n",
       "    text-decoration: none;\n",
       "}\n",
       "\n",
       ".vega-embed .vega-actions > a:hover {\n",
       "    color: #000;\n",
       "    text-decoration: underline;\n",
       "}\n",
       "\n",
       ".vega-embed:hover .vega-actions > a {\n",
       "    opacity: 1;\n",
       "    transition: 0s;\n",
       "}\n",
       "\n",
       ".vega-embed .error p {\n",
       "    color: firebrick;\n",
       "    font-size: 1.2em;\n",
       "}\n",
       "</style>\n"
      ]
     },
     "metadata": {
      "jupyter-vega3": "#b671f102-fc3c-4796-a805-efbc3f62a4e3"
     },
     "output_type": "display_data"
    },
    {
     "data": {
      "application/javascript": [
       "var spec = {\"config\": {\"view\": {\"width\": 400, \"height\": 300}, \"axis\": {\"labelFontSize\": 12, \"titleFontSize\": 12}, \"legend\": {\"labelFontSize\": 12, \"titleFontSize\": 12}}, \"layer\": [{\"data\": {\"values\": [{\"violent\": \"Property\", \"Date\": 2006, \"count\": 133093}, {\"violent\": \"Property\", \"Date\": 2007, \"count\": 129288}, {\"violent\": \"Property\", \"Date\": 2008, \"count\": 134161}, {\"violent\": \"Property\", \"Date\": 2009, \"count\": 123827}, {\"violent\": \"Property\", \"Date\": 2010, \"count\": 122713}, {\"violent\": \"Property\", \"Date\": 2011, \"count\": 121651}, {\"violent\": \"Property\", \"Date\": 2012, \"count\": 115259}, {\"violent\": \"Property\", \"Date\": 2013, \"count\": 102359}, {\"violent\": \"Property\", \"Date\": 2014, \"count\": 86427}, {\"violent\": \"Property\", \"Date\": 2015, \"count\": 81022}, {\"violent\": \"Property\", \"Date\": 2016, \"count\": 87662}, {\"violent\": \"Property\", \"Date\": 2017, \"count\": 88651}, {\"violent\": \"Violent\", \"Date\": 2006, \"count\": 35806}, {\"violent\": \"Violent\", \"Date\": 2007, \"count\": 35216}, {\"violent\": \"Violent\", \"Date\": 2008, \"count\": 36000}, {\"violent\": \"Violent\", \"Date\": 2009, \"count\": 34198}, {\"violent\": \"Violent\", \"Date\": 2010, \"count\": 30963}, {\"violent\": \"Violent\", \"Date\": 2011, \"count\": 29612}, {\"violent\": \"Violent\", \"Date\": 2012, \"count\": 28430}, {\"violent\": \"Violent\", \"Date\": 2013, \"count\": 24540}, {\"violent\": \"Violent\", \"Date\": 2014, \"count\": 22595}, {\"violent\": \"Violent\", \"Date\": 2015, \"count\": 23145}, {\"violent\": \"Violent\", \"Date\": 2016, \"count\": 28176}, {\"violent\": \"Violent\", \"Date\": 2017, \"count\": 27850}]}, \"mark\": \"line\", \"encoding\": {\"color\": {\"type\": \"nominal\", \"field\": \"violent\", \"legend\": {\"title\": \"Crime category\"}}, \"x\": {\"type\": \"ordinal\", \"axis\": {\"labelAngle\": 0, \"title\": \"Year\"}, \"field\": \"Date\"}, \"y\": {\"type\": \"quantitative\", \"axis\": {\"title\": \"Number of crimes (in thousands)\"}, \"field\": \"count\"}}}, {\"data\": {\"values\": [{\"violent\": \"Property\", \"Date\": 2006, \"count\": 133093}, {\"violent\": \"Property\", \"Date\": 2007, \"count\": 129288}, {\"violent\": \"Property\", \"Date\": 2008, \"count\": 134161}, {\"violent\": \"Property\", \"Date\": 2009, \"count\": 123827}, {\"violent\": \"Property\", \"Date\": 2010, \"count\": 122713}, {\"violent\": \"Property\", \"Date\": 2011, \"count\": 121651}, {\"violent\": \"Property\", \"Date\": 2012, \"count\": 115259}, {\"violent\": \"Property\", \"Date\": 2013, \"count\": 102359}, {\"violent\": \"Property\", \"Date\": 2014, \"count\": 86427}, {\"violent\": \"Property\", \"Date\": 2015, \"count\": 81022}, {\"violent\": \"Property\", \"Date\": 2016, \"count\": 87662}, {\"violent\": \"Property\", \"Date\": 2017, \"count\": 88651}, {\"violent\": \"Violent\", \"Date\": 2006, \"count\": 35806}, {\"violent\": \"Violent\", \"Date\": 2007, \"count\": 35216}, {\"violent\": \"Violent\", \"Date\": 2008, \"count\": 36000}, {\"violent\": \"Violent\", \"Date\": 2009, \"count\": 34198}, {\"violent\": \"Violent\", \"Date\": 2010, \"count\": 30963}, {\"violent\": \"Violent\", \"Date\": 2011, \"count\": 29612}, {\"violent\": \"Violent\", \"Date\": 2012, \"count\": 28430}, {\"violent\": \"Violent\", \"Date\": 2013, \"count\": 24540}, {\"violent\": \"Violent\", \"Date\": 2014, \"count\": 22595}, {\"violent\": \"Violent\", \"Date\": 2015, \"count\": 23145}, {\"violent\": \"Violent\", \"Date\": 2016, \"count\": 28176}, {\"violent\": \"Violent\", \"Date\": 2017, \"count\": 27850}]}, \"mark\": \"point\", \"encoding\": {\"color\": {\"type\": \"nominal\", \"field\": \"violent\", \"legend\": {\"title\": \"Crime category\"}}, \"opacity\": {\"value\": 0}, \"tooltip\": {\"type\": \"quantitative\", \"field\": \"count\"}, \"x\": {\"type\": \"ordinal\", \"axis\": {\"labelAngle\": 0, \"title\": \"Year\"}, \"field\": \"Date\"}, \"y\": {\"type\": \"quantitative\", \"axis\": {\"title\": \"Number of crimes (in thousands)\"}, \"field\": \"count\"}}}], \"height\": 400, \"width\": 600, \"$schema\": \"https://vega.github.io/schema/vega-lite/v2.4.3.json\"};\n",
       "var opt = {};\n",
       "var selector = \"#b671f102-fc3c-4796-a805-efbc3f62a4e3\";\n",
       "var type = \"vega-lite\";\n",
       "\n",
       "var output_area = this;\n",
       "\n",
       "require(['nbextensions/jupyter-vega3/index'], function(vega) {\n",
       "  vega.render(selector, spec, type, opt, output_area);\n",
       "}, function (err) {\n",
       "  if (err.requireType !== 'scripterror') {\n",
       "    throw(err);\n",
       "  }\n",
       "});\n"
      ]
     },
     "metadata": {
      "jupyter-vega3": "#b671f102-fc3c-4796-a805-efbc3f62a4e3"
     },
     "output_type": "display_data"
    },
    {
     "data": {
      "text/plain": []
     },
     "execution_count": 19,
     "metadata": {},
     "output_type": "execute_result"
    },
    {
     "data": {
      "image/png": "[encoded data removed]"
     },
     "metadata": {
      "jupyter-vega3": "#b671f102-fc3c-4796-a805-efbc3f62a4e3"
     },
     "output_type": "display_data"
    }
   ],
   "source": [
    "yearly_violent_trend = alt.Chart(yearly_crime_counts).mark_line().encode(\n",
    "    alt.X('Date:O', axis=alt.Axis(title='Year', labelAngle=0)),\n",
    "    alt.Y('count:Q', axis=alt.Axis(title='Number of crimes (in thousands)')),\n",
    "    alt.Color('violent:N',\n",
    "              legend=alt.Legend(title='Crime category')))\n",
    "tooltips = yearly_violent_trend.mark_point().encode(\n",
    "    opacity=alt.value(0),\n",
    "    tooltip='count'\n",
    ")\n",
    "yearly_violent_trend = format_chart(yearly_violent_trend + tooltips)\n",
    "yearly_violent_trend"
   ]
  },
  {
   "cell_type": "code",
   "execution_count": 20,
   "metadata": {
    "extensions": {
     "jupyter_dashboards": {
      "version": 1,
      "views": {
       "grid_default": {
        "hidden": true
       },
       "report_default": {}
      }
     }
    }
   },
   "outputs": [],
   "source": [
    "save_to_jekyll(yearly_violent_trend, 'yearly_violent_trend')"
   ]
  },
  {
   "cell_type": "markdown",
   "metadata": {
    "extensions": {
     "jupyter_dashboards": {
      "version": 1,
      "views": {
       "grid_default": {
        "col": 0,
        "height": 15,
        "hidden": false,
        "row": 44,
        "width": 6
       },
       "report_default": {}
      }
     }
    }
   },
   "source": [
    "### Table 1\n",
    "![table_1](../../reports/figures/mcmillen_tab_1.png)"
   ]
  },
  {
   "cell_type": "code",
   "execution_count": 21,
   "metadata": {
    "extensions": {
     "jupyter_dashboards": {
      "version": 1,
      "views": {
       "grid_default": {
        "col": 6,
        "height": 12,
        "hidden": false,
        "row": 44,
        "width": 6
       },
       "report_default": {}
      }
     }
    }
   },
   "outputs": [
    {
     "data": {
      "text/html": [
       "<div>\n",
       "<style scoped>\n",
       "    .dataframe tbody tr th:only-of-type {\n",
       "        vertical-align: middle;\n",
       "    }\n",
       "\n",
       "    .dataframe tbody tr th {\n",
       "        vertical-align: top;\n",
       "    }\n",
       "\n",
       "    .dataframe thead th {\n",
       "        text-align: right;\n",
       "    }\n",
       "</style>\n",
       "<table border=\"1\" class=\"dataframe\">\n",
       "  <thead>\n",
       "    <tr style=\"text-align: right;\">\n",
       "      <th></th>\n",
       "      <th>school_year</th>\n",
       "      <th>routes_added</th>\n",
       "      <th>schools_added</th>\n",
       "    </tr>\n",
       "  </thead>\n",
       "  <tbody>\n",
       "    <tr>\n",
       "      <th>0</th>\n",
       "      <td>SY0910</td>\n",
       "      <td>32.0</td>\n",
       "      <td>35.0</td>\n",
       "    </tr>\n",
       "    <tr>\n",
       "      <th>1</th>\n",
       "      <td>SY1011</td>\n",
       "      <td>0.0</td>\n",
       "      <td>0.0</td>\n",
       "    </tr>\n",
       "    <tr>\n",
       "      <th>2</th>\n",
       "      <td>SY1112</td>\n",
       "      <td>0.0</td>\n",
       "      <td>0.0</td>\n",
       "    </tr>\n",
       "    <tr>\n",
       "      <th>3</th>\n",
       "      <td>SY1213</td>\n",
       "      <td>4.0</td>\n",
       "      <td>4.0</td>\n",
       "    </tr>\n",
       "    <tr>\n",
       "      <th>4</th>\n",
       "      <td>SY1314</td>\n",
       "      <td>50.0</td>\n",
       "      <td>53.0</td>\n",
       "    </tr>\n",
       "    <tr>\n",
       "      <th>5</th>\n",
       "      <td>SY1415</td>\n",
       "      <td>34.0</td>\n",
       "      <td>41.0</td>\n",
       "    </tr>\n",
       "    <tr>\n",
       "      <th>6</th>\n",
       "      <td>SY1516</td>\n",
       "      <td>3.0</td>\n",
       "      <td>3.0</td>\n",
       "    </tr>\n",
       "    <tr>\n",
       "      <th>7</th>\n",
       "      <td>total</td>\n",
       "      <td>123.0</td>\n",
       "      <td>136.0</td>\n",
       "    </tr>\n",
       "  </tbody>\n",
       "</table>\n",
       "</div>"
      ],
      "text/plain": [
       "  school_year  routes_added  schools_added\n",
       "0      SY0910          32.0           35.0\n",
       "1      SY1011           0.0            0.0\n",
       "2      SY1112           0.0            0.0\n",
       "3      SY1213           4.0            4.0\n",
       "4      SY1314          50.0           53.0\n",
       "5      SY1415          34.0           41.0\n",
       "6      SY1516           3.0            3.0\n",
       "7       total         123.0          136.0"
      ]
     },
     "execution_count": 21,
     "metadata": {},
     "output_type": "execute_result"
    }
   ],
   "source": [
    "table_1 = schools.groupby('school_year')['treated'].sum().diff().rename(\n",
    "    'schools_added').reset_index()\n",
    "table_1.loc[table_1['school_year'] == 'SY0910', 'schools_added'] = schools.loc[\n",
    "    schools['school_year'] == 'SY0910', 'treated'].sum()\n",
    "table_1_routes = routes.groupby('school_year')['treated'].sum().diff().rename(\n",
    "    'routes_added').reset_index()\n",
    "table_1_routes.loc[table_1_routes['school_year'] == 'SY0910',\n",
    "                   'routes_added'] = routes.loc[routes['school_year'] ==\n",
    "                                                'SY0910', 'treated'].sum()\n",
    "table_1 = pd.merge(table_1_routes, table_1, how='inner', on='school_year')\n",
    "table_1 = pd.concat(\n",
    "    [\n",
    "        table_1,\n",
    "        pd.DataFrame.from_dict([{\n",
    "            'school_year': 'total',\n",
    "            'routes_added': table_1['routes_added'].sum(),\n",
    "            'schools_added': table_1['schools_added'].sum()\n",
    "        }])\n",
    "    ],\n",
    "    sort=True,\n",
    "    ignore_index=True)\n",
    "table_1 = table_1[['school_year', 'routes_added', 'schools_added']]\n",
    "table_1"
   ]
  },
  {
   "cell_type": "markdown",
   "metadata": {
    "extensions": {
     "jupyter_dashboards": {
      "version": 1,
      "views": {
       "grid_default": {
        "col": 0,
        "height": 4,
        "hidden": false,
        "row": 88,
        "width": 12
       },
       "report_default": {}
      }
     }
    }
   },
   "source": [
    "### Figure 3"
   ]
  },
  {
   "cell_type": "markdown",
   "metadata": {
    "extensions": {
     "jupyter_dashboards": {
      "version": 1,
      "views": {
       "grid_default": {
        "col": 0,
        "height": 6,
        "hidden": true,
        "row": 13,
        "width": 12
       },
       "report_default": {}
      }
     }
    }
   },
   "source": [
    ">*\"Given the phased way the program was implemented, we normalize to a common start and show the averages for the five pre-program years and for three post-program years. Figure 3a and 3b show that the program was indeed implemented in areas with higher crime incidents but there are no obvious differences in trends before the program implementation. Furthermore, control cells show no significant differences in levels or trends. What is more, after the implementation in the program there’s a drop in the average number of crimes when compared to control areas.\"* - McMillen et al. (2017), p. 10"
   ]
  },
  {
   "cell_type": "markdown",
   "metadata": {
    "extensions": {
     "jupyter_dashboards": {
      "version": 1,
      "views": {
       "grid_default": {
        "col": 8,
        "height": 4,
        "hidden": true,
        "row": 0,
        "width": 4
       },
       "report_default": {}
      }
     }
    }
   },
   "source": [
    "Assumption: For figure, drop all blocks which switch status."
   ]
  },
  {
   "cell_type": "markdown",
   "metadata": {
    "extensions": {
     "jupyter_dashboards": {
      "version": 1,
      "views": {
       "grid_default": {
        "col": 0,
        "height": 32,
        "hidden": false,
        "row": 92,
        "width": 12
       },
       "report_default": {}
      }
     }
    }
   },
   "source": [
    "![Figure 3](../../reports/figures/mcmillen_fig_3.png)\n",
    "\n",
    ">*\"Note: The figures show average violent and property crime in Safe Passage Cells, One Cell Over, Two Cells Over and Three Cells during week days when school is in session. Given the asynchronicity of the program’s rollover of the program, we normalize to zero the last school year and the first year of the program on each cell. The dotted red line marks the end of the pre Safe Passage years and the start of the program.\"* - McMillen et al. (2017), p. 34"
   ]
  },
  {
   "cell_type": "code",
   "execution_count": 22,
   "metadata": {},
   "outputs": [],
   "source": [
    "text_labels = [f'{i}\\n school\\n years\\n prior' for i in range(2, 6)][::-1]\n",
    "text_labels = text_labels + [\n",
    "    '1\\n school\\n year\\n prior', '1st\\n school\\n year\\n after', '2nd\\n school\\n year\\n after',\n",
    "    '3rd\\n school\\n year\\n after'\n",
    "]"
   ]
  },
  {
   "cell_type": "code",
   "execution_count": 23,
   "metadata": {},
   "outputs": [],
   "source": [
    "def add_block_group(before, after, ax, block_group, color, count_col):\n",
    "    \"\"\"Helper function for plotting the difference in difference graphs.\n",
    "    It adds the pre and post implementation lines for a given block group.\n",
    "    \n",
    "    Parameters\n",
    "    ----------\n",
    "    before : pd.DataFrame\n",
    "        Contains data on years before the implementation\n",
    "        of the program\n",
    "        \n",
    "    after : pd.DataFrame\n",
    "        Contains data on years after the implementation\n",
    "        of the program\n",
    "        \n",
    "    ax : matplotlib.axes._subplots.AxesSubplot\n",
    "        Ax to which lines should be added\n",
    "        \n",
    "    block_group : str\n",
    "        Name of block group\n",
    "        \n",
    "    color : str\n",
    "        Name of color to use for lines\n",
    "        \n",
    "    count_col : str\n",
    "        Name of column which contains y values\n",
    "        \n",
    "    Returns\n",
    "    -------\n",
    "    Nothing    \n",
    "    \"\"\"\n",
    "    before[before['block_status'] == block_group].plot(\n",
    "        'run_var',\n",
    "        count_col,\n",
    "        ax=ax,\n",
    "        color=color,\n",
    "        label=block_group,\n",
    "        alpha=0.5,\n",
    "        linewidth=3)\n",
    "    after[after['block_status'] == block_group].plot(\n",
    "        'run_var',\n",
    "        count_col,\n",
    "        ax=ax,\n",
    "        color=color,\n",
    "        label='',\n",
    "        alpha=0.5,\n",
    "        linewidth=3)"
   ]
  },
  {
   "cell_type": "code",
   "execution_count": 24,
   "metadata": {},
   "outputs": [
    {
     "data": {
      "image/png": "[encoded data removed]",
      "text/plain": [
       "<Figure size 936x576 with 1 Axes>"
      ]
     },
     "metadata": {},
     "output_type": "display_data"
    }
   ],
   "source": [
    "def plot_did(count_col, f_name, ylim):\n",
    "    \"\"\"Plots a difference in difference graph\n",
    "    and saves it.\n",
    "    \n",
    "    Parameters\n",
    "    ----------\n",
    "    count_col : str\n",
    "        Name of column which contains y values\n",
    "        \n",
    "    f_name : str\n",
    "        File name without ending \n",
    "        (used for saving the figure)\n",
    "        \n",
    "    ylim : tuple of floats, (lower limit, upper limit)\n",
    "        Contains the lower and upper y limits\n",
    "        \n",
    "    Returns\n",
    "    -------\n",
    "    Nothing\n",
    "    \"\"\"\n",
    "    fig, ax = plt.subplots()\n",
    "    before = blocks_fig_3.query('run_var < 0')\n",
    "    after = blocks_fig_3.query('run_var >= 0')\n",
    "\n",
    "    add_block_group(before, after, ax, 'Treated', 'blue', count_col)\n",
    "    add_block_group(before, after, ax, 'One over', 'orange', count_col)\n",
    "    add_block_group(before, after, ax, 'Two over', 'red', count_col)\n",
    "    add_block_group(before, after, ax, 'Three over', 'turquoise', count_col)\n",
    "\n",
    "    plt.xticks(range(-5, 4), text_labels)\n",
    "    ax.tick_params(axis='x', which='major', length=6)\n",
    "\n",
    "    ax.set_xlabel('')\n",
    "    ax.set_ylabel('Average crime count per weekday per block')\n",
    "    ax.legend(title='Block status')\n",
    "    ax.set_ylim(*ylim)\n",
    "    \n",
    "    ax.vlines(-0.5, 0, ylim[1], linestyles='dotted', alpha=0.5,\n",
    "        linewidth=3)\n",
    "    plt.figtext(0.66, 0.65, 'Implementation of program', rotation=90)\n",
    "    ax.grid(True)\n",
    "    plt.tight_layout()\n",
    "    plt.savefig(f'../../docs/figures/{f_name}.png', dpi=800, transparent=True)\n",
    "    \n",
    "plot_did('violent_count_per_wday', 'didfigureviolent', (0, 0.0024))"
   ]
  },
  {
   "cell_type": "code",
   "execution_count": 25,
   "metadata": {},
   "outputs": [
    {
     "data": {
      "image/png": "[encoded data removed]",
      "text/plain": [
       "<Figure size 936x576 with 1 Axes>"
      ]
     },
     "metadata": {},
     "output_type": "display_data"
    }
   ],
   "source": [
    "plot_did('property_count_per_wday', 'didfigureproperty', (0, 0.008))"
   ]
  },
  {
   "cell_type": "markdown",
   "metadata": {
    "extensions": {
     "jupyter_dashboards": {
      "version": 1,
      "views": {
       "grid_default": {
        "col": 0,
        "height": 4,
        "hidden": false,
        "row": 128,
        "width": 12
       },
       "report_default": {}
      }
     }
    }
   },
   "source": [
    "## Replication of main results"
   ]
  },
  {
   "cell_type": "markdown",
   "metadata": {
    "extensions": {
     "jupyter_dashboards": {
      "version": 1,
      "views": {
       "grid_default": {
        "col": 0,
        "height": 12,
        "hidden": false,
        "row": 132,
        "width": 7
       },
       "report_default": {}
      }
     }
    }
   },
   "source": [
    "### Table 10 (column 3 and 7)\n",
    "![table_10](../../reports/figures/mcmillen_tab_10.png)"
   ]
  },
  {
   "cell_type": "markdown",
   "metadata": {},
   "source": [
    "The poisson regression is run in `0.0-binste-estimation-poisson.ipynb`. The estimation notebook can NOT be run in mybinder.org due to resource constraints."
   ]
  },
  {
   "cell_type": "code",
   "execution_count": 26,
   "metadata": {},
   "outputs": [
    {
     "data": {
      "text/html": [
       "<div>\n",
       "<style scoped>\n",
       "    .dataframe tbody tr th:only-of-type {\n",
       "        vertical-align: middle;\n",
       "    }\n",
       "\n",
       "    .dataframe tbody tr th {\n",
       "        vertical-align: top;\n",
       "    }\n",
       "\n",
       "    .dataframe thead th {\n",
       "        text-align: right;\n",
       "    }\n",
       "</style>\n",
       "<table border=\"1\" class=\"dataframe\">\n",
       "  <thead>\n",
       "    <tr style=\"text-align: right;\">\n",
       "      <th></th>\n",
       "      <th>var</th>\n",
       "      <th>coef</th>\n",
       "      <th>se</th>\n",
       "      <th>z</th>\n",
       "      <th>p</th>\n",
       "      <th>n</th>\n",
       "    </tr>\n",
       "  </thead>\n",
       "  <tbody>\n",
       "    <tr>\n",
       "      <th>0</th>\n",
       "      <td>treated</td>\n",
       "      <td>-0.133810</td>\n",
       "      <td>0.024804</td>\n",
       "      <td>-5.394745</td>\n",
       "      <td>6.862095e-08</td>\n",
       "      <td>1085334</td>\n",
       "    </tr>\n",
       "    <tr>\n",
       "      <th>1</th>\n",
       "      <td>one_over</td>\n",
       "      <td>0.009624</td>\n",
       "      <td>0.024244</td>\n",
       "      <td>0.396950</td>\n",
       "      <td>6.914045e-01</td>\n",
       "      <td>1085334</td>\n",
       "    </tr>\n",
       "    <tr>\n",
       "      <th>2</th>\n",
       "      <td>two_over</td>\n",
       "      <td>-0.004373</td>\n",
       "      <td>0.024365</td>\n",
       "      <td>-0.179467</td>\n",
       "      <td>8.575707e-01</td>\n",
       "      <td>1085334</td>\n",
       "    </tr>\n",
       "  </tbody>\n",
       "</table>\n",
       "</div>"
      ],
      "text/plain": [
       "        var      coef        se         z             p        n\n",
       "0   treated -0.133810  0.024804 -5.394745  6.862095e-08  1085334\n",
       "1  one_over  0.009624  0.024244  0.396950  6.914045e-01  1085334\n",
       "2  two_over -0.004373  0.024365 -0.179467  8.575707e-01  1085334"
      ]
     },
     "execution_count": 26,
     "metadata": {},
     "output_type": "execute_result"
    }
   ],
   "source": [
    "results_violent = pd.read_csv('../../models/summary_poisson_violent.csv')\n",
    "results_violent"
   ]
  },
  {
   "cell_type": "code",
   "execution_count": 27,
   "metadata": {},
   "outputs": [
    {
     "data": {
      "text/html": [
       "<div>\n",
       "<style scoped>\n",
       "    .dataframe tbody tr th:only-of-type {\n",
       "        vertical-align: middle;\n",
       "    }\n",
       "\n",
       "    .dataframe tbody tr th {\n",
       "        vertical-align: top;\n",
       "    }\n",
       "\n",
       "    .dataframe thead th {\n",
       "        text-align: right;\n",
       "    }\n",
       "</style>\n",
       "<table border=\"1\" class=\"dataframe\">\n",
       "  <thead>\n",
       "    <tr style=\"text-align: right;\">\n",
       "      <th></th>\n",
       "      <th>var</th>\n",
       "      <th>coef</th>\n",
       "      <th>se</th>\n",
       "      <th>z</th>\n",
       "      <th>p</th>\n",
       "      <th>n</th>\n",
       "    </tr>\n",
       "  </thead>\n",
       "  <tbody>\n",
       "    <tr>\n",
       "      <th>0</th>\n",
       "      <td>treated</td>\n",
       "      <td>-0.004190</td>\n",
       "      <td>0.013136</td>\n",
       "      <td>-0.318989</td>\n",
       "      <td>0.749735</td>\n",
       "      <td>1460786</td>\n",
       "    </tr>\n",
       "    <tr>\n",
       "      <th>1</th>\n",
       "      <td>one_over</td>\n",
       "      <td>0.011522</td>\n",
       "      <td>0.012533</td>\n",
       "      <td>0.919355</td>\n",
       "      <td>0.357910</td>\n",
       "      <td>1460786</td>\n",
       "    </tr>\n",
       "    <tr>\n",
       "      <th>2</th>\n",
       "      <td>two_over</td>\n",
       "      <td>0.021531</td>\n",
       "      <td>0.012167</td>\n",
       "      <td>1.769625</td>\n",
       "      <td>0.076790</td>\n",
       "      <td>1460786</td>\n",
       "    </tr>\n",
       "  </tbody>\n",
       "</table>\n",
       "</div>"
      ],
      "text/plain": [
       "        var      coef        se         z         p        n\n",
       "0   treated -0.004190  0.013136 -0.318989  0.749735  1460786\n",
       "1  one_over  0.011522  0.012533  0.919355  0.357910  1460786\n",
       "2  two_over  0.021531  0.012167  1.769625  0.076790  1460786"
      ]
     },
     "execution_count": 27,
     "metadata": {},
     "output_type": "execute_result"
    }
   ],
   "source": [
    "results_property = pd.read_csv('../../models/summary_poisson_property.csv')\n",
    "results_property"
   ]
  },
  {
   "cell_type": "markdown",
   "metadata": {},
   "source": [
    "#### Reduced estimation dataset\n",
    "Basis is the dataset used to obtain the results in the previous section with the additional restriction of only 5 pre-implementation school years and 3 after-implementation school years per block. Figure 3 in McMillen et al. (2017) seem to use this data and it is not clear to me if they also used it for the regressions."
   ]
  },
  {
   "cell_type": "code",
   "execution_count": 28,
   "metadata": {},
   "outputs": [
    {
     "data": {
      "text/html": [
       "<div>\n",
       "<style scoped>\n",
       "    .dataframe tbody tr th:only-of-type {\n",
       "        vertical-align: middle;\n",
       "    }\n",
       "\n",
       "    .dataframe tbody tr th {\n",
       "        vertical-align: top;\n",
       "    }\n",
       "\n",
       "    .dataframe thead th {\n",
       "        text-align: right;\n",
       "    }\n",
       "</style>\n",
       "<table border=\"1\" class=\"dataframe\">\n",
       "  <thead>\n",
       "    <tr style=\"text-align: right;\">\n",
       "      <th></th>\n",
       "      <th>var</th>\n",
       "      <th>coef</th>\n",
       "      <th>se</th>\n",
       "      <th>z</th>\n",
       "      <th>p</th>\n",
       "      <th>n</th>\n",
       "    </tr>\n",
       "  </thead>\n",
       "  <tbody>\n",
       "    <tr>\n",
       "      <th>0</th>\n",
       "      <td>treated</td>\n",
       "      <td>-0.160182</td>\n",
       "      <td>0.032536</td>\n",
       "      <td>-4.923153</td>\n",
       "      <td>8.516074e-07</td>\n",
       "      <td>569482</td>\n",
       "    </tr>\n",
       "    <tr>\n",
       "      <th>1</th>\n",
       "      <td>one_over</td>\n",
       "      <td>0.018498</td>\n",
       "      <td>0.032951</td>\n",
       "      <td>0.561387</td>\n",
       "      <td>5.745339e-01</td>\n",
       "      <td>569482</td>\n",
       "    </tr>\n",
       "    <tr>\n",
       "      <th>2</th>\n",
       "      <td>two_over</td>\n",
       "      <td>-0.031829</td>\n",
       "      <td>0.034025</td>\n",
       "      <td>-0.935453</td>\n",
       "      <td>3.495549e-01</td>\n",
       "      <td>569482</td>\n",
       "    </tr>\n",
       "  </tbody>\n",
       "</table>\n",
       "</div>"
      ],
      "text/plain": [
       "        var      coef        se         z             p       n\n",
       "0   treated -0.160182  0.032536 -4.923153  8.516074e-07  569482\n",
       "1  one_over  0.018498  0.032951  0.561387  5.745339e-01  569482\n",
       "2  two_over -0.031829  0.034025 -0.935453  3.495549e-01  569482"
      ]
     },
     "execution_count": 28,
     "metadata": {},
     "output_type": "execute_result"
    }
   ],
   "source": [
    "results_violent_reduced = pd.read_csv('../../models/summary_poisson_violent_reduced.csv')\n",
    "results_violent_reduced"
   ]
  },
  {
   "cell_type": "code",
   "execution_count": 29,
   "metadata": {},
   "outputs": [
    {
     "data": {
      "text/html": [
       "<div>\n",
       "<style scoped>\n",
       "    .dataframe tbody tr th:only-of-type {\n",
       "        vertical-align: middle;\n",
       "    }\n",
       "\n",
       "    .dataframe tbody tr th {\n",
       "        vertical-align: top;\n",
       "    }\n",
       "\n",
       "    .dataframe thead th {\n",
       "        text-align: right;\n",
       "    }\n",
       "</style>\n",
       "<table border=\"1\" class=\"dataframe\">\n",
       "  <thead>\n",
       "    <tr style=\"text-align: right;\">\n",
       "      <th></th>\n",
       "      <th>var</th>\n",
       "      <th>coef</th>\n",
       "      <th>se</th>\n",
       "      <th>z</th>\n",
       "      <th>p</th>\n",
       "      <th>n</th>\n",
       "    </tr>\n",
       "  </thead>\n",
       "  <tbody>\n",
       "    <tr>\n",
       "      <th>0</th>\n",
       "      <td>treated</td>\n",
       "      <td>0.005035</td>\n",
       "      <td>0.016859</td>\n",
       "      <td>0.298674</td>\n",
       "      <td>0.765189</td>\n",
       "      <td>844310</td>\n",
       "    </tr>\n",
       "    <tr>\n",
       "      <th>1</th>\n",
       "      <td>one_over</td>\n",
       "      <td>-0.000997</td>\n",
       "      <td>0.016790</td>\n",
       "      <td>-0.059357</td>\n",
       "      <td>0.952668</td>\n",
       "      <td>844310</td>\n",
       "    </tr>\n",
       "    <tr>\n",
       "      <th>2</th>\n",
       "      <td>two_over</td>\n",
       "      <td>0.038549</td>\n",
       "      <td>0.016628</td>\n",
       "      <td>2.318407</td>\n",
       "      <td>0.020427</td>\n",
       "      <td>844310</td>\n",
       "    </tr>\n",
       "  </tbody>\n",
       "</table>\n",
       "</div>"
      ],
      "text/plain": [
       "        var      coef        se         z         p       n\n",
       "0   treated  0.005035  0.016859  0.298674  0.765189  844310\n",
       "1  one_over -0.000997  0.016790 -0.059357  0.952668  844310\n",
       "2  two_over  0.038549  0.016628  2.318407  0.020427  844310"
      ]
     },
     "execution_count": 29,
     "metadata": {},
     "output_type": "execute_result"
    }
   ],
   "source": [
    "results_property_reduced = pd.read_csv('../../models/summary_poisson_property_reduced.csv')\n",
    "results_property_reduced"
   ]
  },
  {
   "cell_type": "markdown",
   "metadata": {},
   "source": [
    "# Additional figures for website\n",
    "The figures in the following are for the website only and do not directly belong to the replication.\n",
    "\n",
    "Care with this setting. `max_rows=None` should only be used when exporting to html. Don't display large figures in this notebook!"
   ]
  },
  {
   "cell_type": "code",
   "execution_count": 30,
   "metadata": {},
   "outputs": [
    {
     "data": {
      "text/plain": [
       "DataTransformerRegistry.enable('default')"
      ]
     },
     "execution_count": 30,
     "metadata": {},
     "output_type": "execute_result"
    }
   ],
   "source": [
    "alt.data_transformers.enable('default', max_rows=None)"
   ]
  },
  {
   "cell_type": "markdown",
   "metadata": {},
   "source": [
    "## Load data"
   ]
  },
  {
   "cell_type": "markdown",
   "metadata": {},
   "source": [
    "### Blocks with dummies\n",
    "This dataset contains an observation per block per school year"
   ]
  },
  {
   "cell_type": "code",
   "execution_count": 31,
   "metadata": {},
   "outputs": [
    {
     "data": {
      "text/html": [
       "<div>\n",
       "<style scoped>\n",
       "    .dataframe tbody tr th:only-of-type {\n",
       "        vertical-align: middle;\n",
       "    }\n",
       "\n",
       "    .dataframe tbody tr th {\n",
       "        vertical-align: top;\n",
       "    }\n",
       "\n",
       "    .dataframe thead th {\n",
       "        text-align: right;\n",
       "    }\n",
       "</style>\n",
       "<table border=\"1\" class=\"dataframe\">\n",
       "  <thead>\n",
       "    <tr style=\"text-align: right;\">\n",
       "      <th></th>\n",
       "      <th>tract_bloc</th>\n",
       "      <th>school_year</th>\n",
       "      <th>info</th>\n",
       "    </tr>\n",
       "  </thead>\n",
       "  <tbody>\n",
       "    <tr>\n",
       "      <th>0</th>\n",
       "      <td>101001000</td>\n",
       "      <td>SY0506</td>\n",
       "      <td>-</td>\n",
       "    </tr>\n",
       "    <tr>\n",
       "      <th>1</th>\n",
       "      <td>101001001</td>\n",
       "      <td>SY0506</td>\n",
       "      <td>-</td>\n",
       "    </tr>\n",
       "    <tr>\n",
       "      <th>2</th>\n",
       "      <td>101001002</td>\n",
       "      <td>SY0506</td>\n",
       "      <td>-</td>\n",
       "    </tr>\n",
       "    <tr>\n",
       "      <th>3</th>\n",
       "      <td>101001003</td>\n",
       "      <td>SY0506</td>\n",
       "      <td>-</td>\n",
       "    </tr>\n",
       "    <tr>\n",
       "      <th>4</th>\n",
       "      <td>101002000</td>\n",
       "      <td>SY0506</td>\n",
       "      <td>-</td>\n",
       "    </tr>\n",
       "  </tbody>\n",
       "</table>\n",
       "</div>"
      ],
      "text/plain": [
       "   tract_bloc school_year info\n",
       "0   101001000      SY0506    -\n",
       "1   101001001      SY0506    -\n",
       "2   101001002      SY0506    -\n",
       "3   101001003      SY0506    -\n",
       "4   101002000      SY0506    -"
      ]
     },
     "execution_count": 31,
     "metadata": {},
     "output_type": "execute_result"
    }
   ],
   "source": [
    "with (data_path / 'processed/figures/blocks_with_dummies.pkl').open('rb') as f:\n",
    "    blocks_dummies = pickle.load(f)\n",
    "blocks_full = blocks_dummies.copy()\n",
    "blocks_dummies = blocks_dummies[['tract_bloc', 'school_year', 'info']]\n",
    "assert not blocks_dummies.duplicated(subset=['tract_bloc', 'school_year']).any()\n",
    "blocks_dummies.head()"
   ]
  },
  {
   "cell_type": "markdown",
   "metadata": {},
   "source": [
    "### Routes"
   ]
  },
  {
   "cell_type": "code",
   "execution_count": 32,
   "metadata": {},
   "outputs": [
    {
     "data": {
      "text/html": [
       "<div>\n",
       "<style scoped>\n",
       "    .dataframe tbody tr th:only-of-type {\n",
       "        vertical-align: middle;\n",
       "    }\n",
       "\n",
       "    .dataframe tbody tr th {\n",
       "        vertical-align: top;\n",
       "    }\n",
       "\n",
       "    .dataframe thead th {\n",
       "        text-align: right;\n",
       "    }\n",
       "</style>\n",
       "<table border=\"1\" class=\"dataframe\">\n",
       "  <thead>\n",
       "    <tr style=\"text-align: right;\">\n",
       "      <th></th>\n",
       "      <th>school_name</th>\n",
       "      <th>school_id</th>\n",
       "      <th>school_year</th>\n",
       "      <th>route_number</th>\n",
       "      <th>geometry</th>\n",
       "    </tr>\n",
       "  </thead>\n",
       "  <tbody>\n",
       "    <tr>\n",
       "      <th>0</th>\n",
       "      <td>Bass</td>\n",
       "      <td>609791</td>\n",
       "      <td>SY1516</td>\n",
       "      <td>26</td>\n",
       "      <td>(LINESTRING (-87.65435458421847 41.77415375372...</td>\n",
       "    </tr>\n",
       "    <tr>\n",
       "      <th>1</th>\n",
       "      <td>Haley</td>\n",
       "      <td>609808</td>\n",
       "      <td>SY1516</td>\n",
       "      <td>21</td>\n",
       "      <td>(LINESTRING (-87.63829660445114 41.67785424533...</td>\n",
       "    </tr>\n",
       "    <tr>\n",
       "      <th>2</th>\n",
       "      <td>Wentworth</td>\n",
       "      <td>610223</td>\n",
       "      <td>SY1516</td>\n",
       "      <td>22</td>\n",
       "      <td>(LINESTRING (-87.66139078533355 41.76494287260...</td>\n",
       "    </tr>\n",
       "    <tr>\n",
       "      <th>3</th>\n",
       "      <td>Mays</td>\n",
       "      <td>610290</td>\n",
       "      <td>SY1516</td>\n",
       "      <td>23</td>\n",
       "      <td>(LINESTRING (-87.64702376241898 41.77243973026...</td>\n",
       "    </tr>\n",
       "    <tr>\n",
       "      <th>4</th>\n",
       "      <td>Nicholson Tech Acad</td>\n",
       "      <td>609793</td>\n",
       "      <td>SY1516</td>\n",
       "      <td>24</td>\n",
       "      <td>(LINESTRING (-87.65473745700072 41.78870650844...</td>\n",
       "    </tr>\n",
       "  </tbody>\n",
       "</table>\n",
       "</div>"
      ],
      "text/plain": [
       "           school_name  school_id school_year  route_number  \\\n",
       "0                 Bass     609791      SY1516            26   \n",
       "1                Haley     609808      SY1516            21   \n",
       "2            Wentworth     610223      SY1516            22   \n",
       "3                 Mays     610290      SY1516            23   \n",
       "4  Nicholson Tech Acad     609793      SY1516            24   \n",
       "\n",
       "                                            geometry  \n",
       "0  (LINESTRING (-87.65435458421847 41.77415375372...  \n",
       "1  (LINESTRING (-87.63829660445114 41.67785424533...  \n",
       "2  (LINESTRING (-87.66139078533355 41.76494287260...  \n",
       "3  (LINESTRING (-87.64702376241898 41.77243973026...  \n",
       "4  (LINESTRING (-87.65473745700072 41.78870650844...  "
      ]
     },
     "execution_count": 32,
     "metadata": {},
     "output_type": "execute_result"
    }
   ],
   "source": [
    "with (data_path / 'processed/routes.pkl').open('rb') as f:\n",
    "    routes = pickle.load(f)\n",
    "routes.head()"
   ]
  },
  {
   "cell_type": "markdown",
   "metadata": {},
   "source": [
    "### Hourly crime counts"
   ]
  },
  {
   "cell_type": "code",
   "execution_count": 33,
   "metadata": {},
   "outputs": [],
   "source": [
    "with (data_path / 'processed/figures/violent_hourly_counts.pkl').open('rb') as f:\n",
    "    hourly_counts = pickle.load(f)"
   ]
  },
  {
   "cell_type": "markdown",
   "metadata": {},
   "source": [
    "## Plot blocks with dummies"
   ]
  },
  {
   "cell_type": "code",
   "execution_count": 34,
   "metadata": {},
   "outputs": [],
   "source": [
    "dummy_trend = blocks_dummies.groupby('school_year')['info'].apply(\n",
    "    lambda x: x.value_counts()).reset_index().rename(\n",
    "        {\n",
    "            'level_1': 'block_status',\n",
    "            'info': 'count'\n",
    "        }, axis='columns').query('block_status != \"-\"')\n",
    "\n",
    "dummy_trend['block_status'] = dummy_trend['block_status'].map({\n",
    "    'treated':\n",
    "    'Treated',\n",
    "    'one over':\n",
    "    'One over',\n",
    "    'two over':\n",
    "    'Two over',\n",
    "    'three over':\n",
    "    'Three over'\n",
    "})"
   ]
  },
  {
   "cell_type": "code",
   "execution_count": 35,
   "metadata": {},
   "outputs": [
    {
     "data": {
      "text/html": [
       "<div>\n",
       "<style scoped>\n",
       "    .dataframe tbody tr th:only-of-type {\n",
       "        vertical-align: middle;\n",
       "    }\n",
       "\n",
       "    .dataframe tbody tr th {\n",
       "        vertical-align: top;\n",
       "    }\n",
       "\n",
       "    .dataframe thead th {\n",
       "        text-align: right;\n",
       "    }\n",
       "</style>\n",
       "<table border=\"1\" class=\"dataframe\">\n",
       "  <thead>\n",
       "    <tr style=\"text-align: right;\">\n",
       "      <th></th>\n",
       "      <th>school_year</th>\n",
       "      <th>block_status</th>\n",
       "      <th>count</th>\n",
       "    </tr>\n",
       "  </thead>\n",
       "  <tbody>\n",
       "    <tr>\n",
       "      <th>5</th>\n",
       "      <td>SY0910</td>\n",
       "      <td>Three over</td>\n",
       "      <td>2279</td>\n",
       "    </tr>\n",
       "    <tr>\n",
       "      <th>6</th>\n",
       "      <td>SY0910</td>\n",
       "      <td>Two over</td>\n",
       "      <td>1977</td>\n",
       "    </tr>\n",
       "    <tr>\n",
       "      <th>7</th>\n",
       "      <td>SY0910</td>\n",
       "      <td>One over</td>\n",
       "      <td>1661</td>\n",
       "    </tr>\n",
       "    <tr>\n",
       "      <th>8</th>\n",
       "      <td>SY0910</td>\n",
       "      <td>Treated</td>\n",
       "      <td>935</td>\n",
       "    </tr>\n",
       "    <tr>\n",
       "      <th>10</th>\n",
       "      <td>SY1011</td>\n",
       "      <td>Three over</td>\n",
       "      <td>2279</td>\n",
       "    </tr>\n",
       "  </tbody>\n",
       "</table>\n",
       "</div>"
      ],
      "text/plain": [
       "   school_year block_status  count\n",
       "5       SY0910   Three over   2279\n",
       "6       SY0910     Two over   1977\n",
       "7       SY0910     One over   1661\n",
       "8       SY0910      Treated    935\n",
       "10      SY1011   Three over   2279"
      ]
     },
     "execution_count": 35,
     "metadata": {},
     "output_type": "execute_result"
    }
   ],
   "source": [
    "dummy_trend.head()"
   ]
  },
  {
   "cell_type": "code",
   "execution_count": 36,
   "metadata": {},
   "outputs": [],
   "source": [
    "def add_block_group_2(dummy_trend, ax, block_group, color):\n",
    "    \"\"\"Helper function for plotting the trends of the block status\n",
    "    \n",
    "    Parameters\n",
    "    ----------\n",
    "    dummy_trend : pd.DataFrame\n",
    "        Contains number of blocks for each block group\n",
    "        for each school year\n",
    "        \n",
    "    ax : matplotlib.axes._subplots.AxesSubplot\n",
    "        Ax to which lines should be added\n",
    "    \n",
    "    block_group : str\n",
    "        Name of block group which should be plotted\n",
    "        \n",
    "    color : str\n",
    "        Name of color which should be used for the lines\n",
    "        \n",
    "    Returns\n",
    "    -------\n",
    "    Nothing\n",
    "    \"\"\"\n",
    "    ax.plot(\n",
    "        sorted(dummy_trend['school_year'].unique()),\n",
    "        dummy_trend.loc[dummy_trend['block_status'] == block_group, 'count']\n",
    "        .values,\n",
    "        label=block_group,\n",
    "        color=color,\n",
    "        alpha=0.5,\n",
    "        linewidth=3)"
   ]
  },
  {
   "cell_type": "code",
   "execution_count": 37,
   "metadata": {},
   "outputs": [
    {
     "data": {
      "image/png": "[encoded data removed]",
      "text/plain": [
       "<Figure size 936x576 with 1 Axes>"
      ]
     },
     "metadata": {},
     "output_type": "display_data"
    }
   ],
   "source": [
    "fig, ax = plt.subplots()\n",
    "add_block_group_2(dummy_trend, ax, 'Treated', 'blue')\n",
    "add_block_group_2(dummy_trend, ax, 'One over', 'orange')\n",
    "add_block_group_2(dummy_trend, ax, 'Two over', 'red')\n",
    "add_block_group_2(dummy_trend, ax, 'Three over', 'turquoise')\n",
    "\n",
    "ax.grid(True)\n",
    "ax.set_ylim(0, 4500)\n",
    "ax.set_xlabel('')\n",
    "ax.set_ylabel('Number of blocks')\n",
    "\n",
    "ax.tick_params(axis='x', length=6, which='major')\n",
    "ax.legend(title='Block status', loc='upper left')\n",
    "plt.tight_layout()\n",
    "plt.savefig('../../docs/figures/blocktrend.png', dpi=800, transparent=True);"
   ]
  },
  {
   "cell_type": "markdown",
   "metadata": {},
   "source": [
    "## Plot violent crime trends"
   ]
  },
  {
   "cell_type": "markdown",
   "metadata": {},
   "source": [
    "### Hourly counts"
   ]
  },
  {
   "cell_type": "markdown",
   "metadata": {},
   "source": [
    "Color scheme will be reversed by `save_to_jekyll` function."
   ]
  },
  {
   "cell_type": "code",
   "execution_count": 38,
   "metadata": {},
   "outputs": [],
   "source": [
    "def plot_violent_trends():\n",
    "    \"\"\"Plots the heatmaps of the violent crimes\n",
    "    \n",
    "    Parameters\n",
    "    ----------\n",
    "    Nothing\n",
    "    \n",
    "    Returns\n",
    "    -------\n",
    "    alt.vconcat Chart\n",
    "    \"\"\"\n",
    "    single = alt.selection_single(on='click', encodings=['x'])\n",
    "\n",
    "    month = alt.Chart().mark_rect().encode(\n",
    "        x=alt.X(\n",
    "            'Date:O', timeUnit='year', axis=alt.Axis(title='Year',\n",
    "                                                     labelAngle=-60)),\n",
    "        y=alt.Y('Date:O', timeUnit='month', axis=alt.Axis(title='Month')),\n",
    "        color=alt.condition(\n",
    "            single,\n",
    "            alt.Color(\n",
    "                'mean(count):Q',\n",
    "                legend=alt.Legend(title=\"Mean violent crime count\"),\n",
    "                scale=alt.Scale(scheme='redyellowgreen')),\n",
    "            alt.value('lightgray'))).properties(selection=single)\n",
    "\n",
    "    hours = alt.Chart().mark_rect().encode(\n",
    "        x=alt.X(\n",
    "            'Date:O',\n",
    "            timeUnit='hours',\n",
    "            axis=alt.Axis(title='Hour of Day', labelAngle=-60)),\n",
    "        y=alt.Y('Date:O', timeUnit='month', axis=alt.Axis(title='Month')),\n",
    "        color=alt.Color(\n",
    "            'mean(count):Q',\n",
    "            legend=alt.Legend(title=\"Mean violent crime count\"),\n",
    "            scale=alt.Scale(scheme='redyellowgreen')),\n",
    "    ).transform_filter(single)\n",
    "\n",
    "    return alt.vconcat(\n",
    "        month,\n",
    "        hours,\n",
    "        data=hourly_counts.query('violent == 1'),\n",
    "        resolve=alt.Resolve(\n",
    "            scale=alt.LegendResolveMap(color=alt.ResolveMode('independent'))))"
   ]
  },
  {
   "cell_type": "markdown",
   "metadata": {},
   "source": [
    "We won't display the figure as it is too large for the notebook. We will only use this one for exporting it for the website. On the website you can find it as the two interactive heatmaps of the mean violent crime count (first page)."
   ]
  },
  {
   "cell_type": "code",
   "execution_count": 39,
   "metadata": {},
   "outputs": [],
   "source": [
    "violent_trend = plot_violent_trends()"
   ]
  },
  {
   "cell_type": "code",
   "execution_count": 40,
   "metadata": {},
   "outputs": [],
   "source": [
    "save_to_jekyll(violent_trend, 'violent_trend', reverse_colors=True)"
   ]
  },
  {
   "cell_type": "markdown",
   "metadata": {},
   "source": [
    "## Violent crimes split by FBI Code"
   ]
  },
  {
   "cell_type": "code",
   "execution_count": 41,
   "metadata": {},
   "outputs": [
    {
     "data": {
      "text/html": [
       "<div>\n",
       "<style scoped>\n",
       "    .dataframe tbody tr th:only-of-type {\n",
       "        vertical-align: middle;\n",
       "    }\n",
       "\n",
       "    .dataframe tbody tr th {\n",
       "        vertical-align: top;\n",
       "    }\n",
       "\n",
       "    .dataframe thead th {\n",
       "        text-align: right;\n",
       "    }\n",
       "</style>\n",
       "<table border=\"1\" class=\"dataframe\">\n",
       "  <thead>\n",
       "    <tr style=\"text-align: right;\">\n",
       "      <th></th>\n",
       "      <th>FBI Code</th>\n",
       "      <th>Date</th>\n",
       "      <th>count</th>\n",
       "    </tr>\n",
       "  </thead>\n",
       "  <tbody>\n",
       "    <tr>\n",
       "      <th>0</th>\n",
       "      <td>01A</td>\n",
       "      <td>2006</td>\n",
       "      <td>471</td>\n",
       "    </tr>\n",
       "    <tr>\n",
       "      <th>1</th>\n",
       "      <td>01A</td>\n",
       "      <td>2007</td>\n",
       "      <td>447</td>\n",
       "    </tr>\n",
       "    <tr>\n",
       "      <th>2</th>\n",
       "      <td>01A</td>\n",
       "      <td>2008</td>\n",
       "      <td>513</td>\n",
       "    </tr>\n",
       "    <tr>\n",
       "      <th>3</th>\n",
       "      <td>01A</td>\n",
       "      <td>2009</td>\n",
       "      <td>460</td>\n",
       "    </tr>\n",
       "    <tr>\n",
       "      <th>4</th>\n",
       "      <td>01A</td>\n",
       "      <td>2010</td>\n",
       "      <td>438</td>\n",
       "    </tr>\n",
       "  </tbody>\n",
       "</table>\n",
       "</div>"
      ],
      "text/plain": [
       "  FBI Code  Date  count\n",
       "0      01A  2006    471\n",
       "1      01A  2007    447\n",
       "2      01A  2008    513\n",
       "3      01A  2009    460\n",
       "4      01A  2010    438"
      ]
     },
     "execution_count": 41,
     "metadata": {},
     "output_type": "execute_result"
    }
   ],
   "source": [
    "with (data_path / 'processed/figures/yearly_violent_FBI.pkl').open('rb') as f:\n",
    "    yearly_violent_FBI = pickle.load(f)\n",
    "yearly_violent_FBI.head()"
   ]
  },
  {
   "cell_type": "code",
   "execution_count": 42,
   "metadata": {},
   "outputs": [],
   "source": [
    "yearly_violent_FBI['FBI Code'] = yearly_violent_FBI['FBI Code'].map({\n",
    "    '01A': 'Homicide 1st & 2nd degree',\n",
    "    '02': 'Criminal sexual assault',\n",
    "    '03': 'Robbery',\n",
    "    '04A': 'Aggravated assault',\n",
    "    '04B': 'Aggravated battery'\n",
    "})"
   ]
  },
  {
   "cell_type": "code",
   "execution_count": 43,
   "metadata": {},
   "outputs": [
    {
     "data": {
      "text/html": [
       "<div class=\"vega-embed\" id=\"1350bab6-d890-449b-a5bd-6caacd2b7d31\"></div>\n",
       "\n",
       "<style>\n",
       ".vega-embed .vega-actions > a {\n",
       "    transition: opacity 200ms ease-in;\n",
       "    opacity: 0.3;\n",
       "    margin-right: 0.6em;\n",
       "    color: #444;\n",
       "    text-decoration: none;\n",
       "}\n",
       "\n",
       ".vega-embed .vega-actions > a:hover {\n",
       "    color: #000;\n",
       "    text-decoration: underline;\n",
       "}\n",
       "\n",
       ".vega-embed:hover .vega-actions > a {\n",
       "    opacity: 1;\n",
       "    transition: 0s;\n",
       "}\n",
       "\n",
       ".vega-embed .error p {\n",
       "    color: firebrick;\n",
       "    font-size: 1.2em;\n",
       "}\n",
       "</style>\n"
      ]
     },
     "metadata": {
      "jupyter-vega3": "#1350bab6-d890-449b-a5bd-6caacd2b7d31"
     },
     "output_type": "display_data"
    },
    {
     "data": {
      "application/javascript": [
       "var spec = {\"config\": {\"view\": {\"width\": 400, \"height\": 300}, \"axis\": {\"labelFontSize\": 12, \"titleFontSize\": 12}, \"legend\": {\"labelFontSize\": 12, \"titleFontSize\": 12}}, \"data\": {\"values\": [{\"FBI Code\": \"Homicide 1st & 2nd degree\", \"Date\": 2006, \"count\": 471}, {\"FBI Code\": \"Homicide 1st & 2nd degree\", \"Date\": 2007, \"count\": 447}, {\"FBI Code\": \"Homicide 1st & 2nd degree\", \"Date\": 2008, \"count\": 513}, {\"FBI Code\": \"Homicide 1st & 2nd degree\", \"Date\": 2009, \"count\": 460}, {\"FBI Code\": \"Homicide 1st & 2nd degree\", \"Date\": 2010, \"count\": 438}, {\"FBI Code\": \"Homicide 1st & 2nd degree\", \"Date\": 2011, \"count\": 436}, {\"FBI Code\": \"Homicide 1st & 2nd degree\", \"Date\": 2012, \"count\": 504}, {\"FBI Code\": \"Homicide 1st & 2nd degree\", \"Date\": 2013, \"count\": 421}, {\"FBI Code\": \"Homicide 1st & 2nd degree\", \"Date\": 2014, \"count\": 424}, {\"FBI Code\": \"Homicide 1st & 2nd degree\", \"Date\": 2015, \"count\": 493}, {\"FBI Code\": \"Homicide 1st & 2nd degree\", \"Date\": 2016, \"count\": 777}, {\"FBI Code\": \"Homicide 1st & 2nd degree\", \"Date\": 2017, \"count\": 665}, {\"FBI Code\": \"Criminal sexual assault\", \"Date\": 2006, \"count\": 1763}, {\"FBI Code\": \"Criminal sexual assault\", \"Date\": 2007, \"count\": 1830}, {\"FBI Code\": \"Criminal sexual assault\", \"Date\": 2008, \"count\": 1731}, {\"FBI Code\": \"Criminal sexual assault\", \"Date\": 2009, \"count\": 1612}, {\"FBI Code\": \"Criminal sexual assault\", \"Date\": 2010, \"count\": 1539}, {\"FBI Code\": \"Criminal sexual assault\", \"Date\": 2011, \"count\": 1634}, {\"FBI Code\": \"Criminal sexual assault\", \"Date\": 2012, \"count\": 1559}, {\"FBI Code\": \"Criminal sexual assault\", \"Date\": 2013, \"count\": 1400}, {\"FBI Code\": \"Criminal sexual assault\", \"Date\": 2014, \"count\": 1458}, {\"FBI Code\": \"Criminal sexual assault\", \"Date\": 2015, \"count\": 1515}, {\"FBI Code\": \"Criminal sexual assault\", \"Date\": 2016, \"count\": 1644}, {\"FBI Code\": \"Criminal sexual assault\", \"Date\": 2017, \"count\": 1732}, {\"FBI Code\": \"Robbery\", \"Date\": 2006, \"count\": 15968}, {\"FBI Code\": \"Robbery\", \"Date\": 2007, \"count\": 15450}, {\"FBI Code\": \"Robbery\", \"Date\": 2008, \"count\": 16703}, {\"FBI Code\": \"Robbery\", \"Date\": 2009, \"count\": 15980}, {\"FBI Code\": \"Robbery\", \"Date\": 2010, \"count\": 14274}, {\"FBI Code\": \"Robbery\", \"Date\": 2011, \"count\": 13982}, {\"FBI Code\": \"Robbery\", \"Date\": 2012, \"count\": 13485}, {\"FBI Code\": \"Robbery\", \"Date\": 2013, \"count\": 11820}, {\"FBI Code\": \"Robbery\", \"Date\": 2014, \"count\": 9799}, {\"FBI Code\": \"Robbery\", \"Date\": 2015, \"count\": 9638}, {\"FBI Code\": \"Robbery\", \"Date\": 2016, \"count\": 11959}, {\"FBI Code\": \"Robbery\", \"Date\": 2017, \"count\": 11848}, {\"FBI Code\": \"Aggravated assault\", \"Date\": 2006, \"count\": 6597}, {\"FBI Code\": \"Aggravated assault\", \"Date\": 2007, \"count\": 6335}, {\"FBI Code\": \"Aggravated assault\", \"Date\": 2008, \"count\": 6250}, {\"FBI Code\": \"Aggravated assault\", \"Date\": 2009, \"count\": 6000}, {\"FBI Code\": \"Aggravated assault\", \"Date\": 2010, \"count\": 5277}, {\"FBI Code\": \"Aggravated assault\", \"Date\": 2011, \"count\": 5157}, {\"FBI Code\": \"Aggravated assault\", \"Date\": 2012, \"count\": 4873}, {\"FBI Code\": \"Aggravated assault\", \"Date\": 2013, \"count\": 4268}, {\"FBI Code\": \"Aggravated assault\", \"Date\": 2014, \"count\": 4337}, {\"FBI Code\": \"Aggravated assault\", \"Date\": 2015, \"count\": 4479}, {\"FBI Code\": \"Aggravated assault\", \"Date\": 2016, \"count\": 5709}, {\"FBI Code\": \"Aggravated assault\", \"Date\": 2017, \"count\": 5777}, {\"FBI Code\": \"Aggravated battery\", \"Date\": 2006, \"count\": 11007}, {\"FBI Code\": \"Aggravated battery\", \"Date\": 2007, \"count\": 11154}, {\"FBI Code\": \"Aggravated battery\", \"Date\": 2008, \"count\": 10803}, {\"FBI Code\": \"Aggravated battery\", \"Date\": 2009, \"count\": 10146}, {\"FBI Code\": \"Aggravated battery\", \"Date\": 2010, \"count\": 9435}, {\"FBI Code\": \"Aggravated battery\", \"Date\": 2011, \"count\": 8403}, {\"FBI Code\": \"Aggravated battery\", \"Date\": 2012, \"count\": 8009}, {\"FBI Code\": \"Aggravated battery\", \"Date\": 2013, \"count\": 6631}, {\"FBI Code\": \"Aggravated battery\", \"Date\": 2014, \"count\": 6577}, {\"FBI Code\": \"Aggravated battery\", \"Date\": 2015, \"count\": 7020}, {\"FBI Code\": \"Aggravated battery\", \"Date\": 2016, \"count\": 8087}, {\"FBI Code\": \"Aggravated battery\", \"Date\": 2017, \"count\": 7828}]}, \"mark\": \"bar\", \"encoding\": {\"color\": {\"type\": \"nominal\", \"field\": \"FBI Code\", \"title\": \"UCR categorization\"}, \"tooltip\": {\"type\": \"quantitative\", \"field\": \"count\"}, \"x\": {\"type\": \"ordinal\", \"axis\": {\"labelAngle\": 0, \"title\": \"Year\"}, \"field\": \"Date\"}, \"y\": {\"type\": \"quantitative\", \"axis\": {\"title\": \"Number of crimes\"}, \"field\": \"count\"}}, \"height\": 400, \"width\": 600, \"$schema\": \"https://vega.github.io/schema/vega-lite/v2.4.3.json\"};\n",
       "var opt = {};\n",
       "var selector = \"#1350bab6-d890-449b-a5bd-6caacd2b7d31\";\n",
       "var type = \"vega-lite\";\n",
       "\n",
       "var output_area = this;\n",
       "\n",
       "require(['nbextensions/jupyter-vega3/index'], function(vega) {\n",
       "  vega.render(selector, spec, type, opt, output_area);\n",
       "}, function (err) {\n",
       "  if (err.requireType !== 'scripterror') {\n",
       "    throw(err);\n",
       "  }\n",
       "});\n"
      ]
     },
     "metadata": {
      "jupyter-vega3": "#1350bab6-d890-449b-a5bd-6caacd2b7d31"
     },
     "output_type": "display_data"
    },
    {
     "data": {
      "text/plain": []
     },
     "execution_count": 43,
     "metadata": {},
     "output_type": "execute_result"
    },
    {
     "data": {
      "image/png": "[encoded data removed]"
     },
     "metadata": {
      "jupyter-vega3": "#1350bab6-d890-449b-a5bd-6caacd2b7d31"
     },
     "output_type": "display_data"
    }
   ],
   "source": [
    "violent_FBI = format_chart(\n",
    "    alt.Chart(yearly_violent_FBI).mark_bar().encode(\n",
    "        alt.X('Date:O', axis=alt.Axis(title='Year', labelAngle=0)), \n",
    "        alt.Y('count', axis=alt.Axis(title='Number of crimes')),\n",
    "        alt.Color(\n",
    "            'FBI Code:N',\n",
    "            title='UCR categorization'\n",
    "            ),\n",
    "        tooltip='count'))\n",
    "violent_FBI"
   ]
  },
  {
   "cell_type": "code",
   "execution_count": 44,
   "metadata": {},
   "outputs": [],
   "source": [
    "save_to_jekyll(violent_FBI, 'violent_FBI')"
   ]
  },
  {
   "cell_type": "markdown",
   "metadata": {},
   "source": [
    "## Illustration of difference in differences (DiD)"
   ]
  },
  {
   "cell_type": "code",
   "execution_count": 45,
   "metadata": {},
   "outputs": [
    {
     "data": {
      "image/png": "[encoded data removed]",
      "text/plain": [
       "<Figure size 936x576 with 1 Axes>"
      ]
     },
     "metadata": {},
     "output_type": "display_data"
    }
   ],
   "source": [
    "x_labels = ['Before implementation', 'After implementation']\n",
    "fig, ax = plt.subplots()\n",
    "\n",
    "# fig.subplots_adjust(left=0.1)\n",
    "ax.plot(x_labels, [5, 3], color='blue', label='Treated block', alpha=0.5,\n",
    "        linewidth=3)\n",
    "ax.plot(x_labels, [2, 1], color='red', label='Control block', alpha=0.5,\n",
    "        linewidth=3)\n",
    "\n",
    "# Add estimated counterfactual\n",
    "ax.plot(x_labels, [5, 4], color='red', linestyle='dashed', label='Assumed counterfactual', alpha=0.5,\n",
    "        linewidth=3)\n",
    "\n",
    "# Add treatment effect\n",
    "ax.vlines('After implementation', 3, 4, colors='black', alpha=0.5,\n",
    "        linewidth=3)\n",
    "plt.figtext(0.934, 0.623, 'Effect\\n of program', rotation=90, horizontalalignment='center')\n",
    "\n",
    "# Add share which is attributable to other factors\n",
    "ax.vlines('After implementation', 4, 5, colors='black', linestyles='dotted', alpha=0.5,\n",
    "        linewidth=3)\n",
    "plt.figtext(0.93, 0.842, 'Other factors', rotation=90)\n",
    "\n",
    "ax.legend(loc='lower left')\n",
    "ax.set_ylim((0.5, 5.5))\n",
    "ax.set_ylabel('Average monthly crime count')\n",
    "ax.yaxis.grid(True)\n",
    "ax.tick_params(axis='x', which='major', pad=15)\n",
    "plt.tight_layout()\n",
    "plt.savefig('../../docs/figures/didfigure.png', dpi=800, transparent=True);"
   ]
  },
  {
   "cell_type": "markdown",
   "metadata": {},
   "source": [
    "## Illustration of block dummies\n",
    "Use Bogan HS for the school year 2013-2014 as an example."
   ]
  },
  {
   "cell_type": "markdown",
   "metadata": {},
   "source": [
    "Find the corresponding blocks"
   ]
  },
  {
   "cell_type": "code",
   "execution_count": 46,
   "metadata": {},
   "outputs": [],
   "source": [
    "ill_blocks = blocks_full[blocks_full['school_year'] == 'SY1314'].cx[-87.825:-87.615, 41.6425:41.8525]"
   ]
  },
  {
   "cell_type": "code",
   "execution_count": 47,
   "metadata": {},
   "outputs": [],
   "source": [
    "ill_route = routes[(routes['route_number'] == 75) & (routes['school_year'] == 'SY1314')]"
   ]
  },
  {
   "cell_type": "code",
   "execution_count": 48,
   "metadata": {},
   "outputs": [],
   "source": [
    "ill_blocks['info'] = ill_blocks['info'].map({\n",
    "    'treated':\n",
    "    'Treated',\n",
    "    'one over':\n",
    "    'One over',\n",
    "    'two over':\n",
    "    'Two over',\n",
    "    'three over':\n",
    "    'Three over',\n",
    "    '-':\n",
    "    '-'\n",
    "})"
   ]
  },
  {
   "cell_type": "code",
   "execution_count": 49,
   "metadata": {},
   "outputs": [],
   "source": [
    "ill_blocks = ill_blocks.query('info != \"-\"')"
   ]
  },
  {
   "cell_type": "code",
   "execution_count": 50,
   "metadata": {},
   "outputs": [
    {
     "data": {
      "text/html": [
       "<div>\n",
       "<style scoped>\n",
       "    .dataframe tbody tr th:only-of-type {\n",
       "        vertical-align: middle;\n",
       "    }\n",
       "\n",
       "    .dataframe tbody tr th {\n",
       "        vertical-align: top;\n",
       "    }\n",
       "\n",
       "    .dataframe thead th {\n",
       "        text-align: right;\n",
       "    }\n",
       "</style>\n",
       "<table border=\"1\" class=\"dataframe\">\n",
       "  <thead>\n",
       "    <tr style=\"text-align: right;\">\n",
       "      <th></th>\n",
       "      <th>school_name</th>\n",
       "      <th>school_id</th>\n",
       "      <th>school_year</th>\n",
       "      <th>route_number</th>\n",
       "      <th>geometry</th>\n",
       "    </tr>\n",
       "  </thead>\n",
       "  <tbody>\n",
       "    <tr>\n",
       "      <th>270</th>\n",
       "      <td>Bogan HS</td>\n",
       "      <td>609698</td>\n",
       "      <td>SY1314</td>\n",
       "      <td>75</td>\n",
       "      <td>LINESTRING (-87.72190928731953 41.749438459237...</td>\n",
       "    </tr>\n",
       "  </tbody>\n",
       "</table>\n",
       "</div>"
      ],
      "text/plain": [
       "    school_name  school_id school_year  route_number  \\\n",
       "270    Bogan HS     609698      SY1314            75   \n",
       "\n",
       "                                              geometry  \n",
       "270  LINESTRING (-87.72190928731953 41.749438459237...  "
      ]
     },
     "execution_count": 50,
     "metadata": {},
     "output_type": "execute_result"
    }
   ],
   "source": [
    "ill_route.head()"
   ]
  },
  {
   "cell_type": "code",
   "execution_count": 51,
   "metadata": {},
   "outputs": [
    {
     "data": {
      "image/png": "[encoded data removed]",
      "text/plain": [
       "<Figure size 936x576 with 1 Axes>"
      ]
     },
     "metadata": {},
     "output_type": "display_data"
    }
   ],
   "source": [
    "fig, ax = plt.subplots()\n",
    "ill_blocks.query('info == \"Treated\"').plot(ax=ax, color='blue', alpha=0.5, edgecolor='grey')\n",
    "ill_blocks.query('info == \"One over\"').plot(ax=ax, color='orange', alpha=0.5, edgecolor='grey')\n",
    "ill_blocks.query('info == \"Two over\"').plot(ax=ax, color='red', alpha=0.5, edgecolor='grey')\n",
    "ill_blocks.query('info == \"Three over\"').plot(ax=ax, color='turquoise', alpha=0.5, edgecolor='grey')\n",
    "ill_route.plot(ax=ax, color='black', linewidth=3)\n",
    "\n",
    "# Plot empty points to create legend\n",
    "plt.scatter([], [], color='blue', alpha=0.5, label='Treated block')\n",
    "plt.scatter([], [], color='orange', alpha=0.5, label='One block over')\n",
    "plt.scatter([], [], color='red', alpha=0.5, label='Two blocks over')\n",
    "plt.scatter([], [], color='turquoise', alpha=0.5, label='Three blocks over')\n",
    "plt.plot([], [], color='black', linewidth=3, label='Safe Passage route')\n",
    "\n",
    "ax.legend(loc='upper right', bbox_to_anchor=(1.3, 1))\n",
    "ax.set_xlim(-87.730, -87.714)\n",
    "ax.set_ylim(41.742, 41.753)\n",
    "plt.tight_layout()\n",
    "plt.savefig('../../docs/figures/blockgroups.png', dpi=800, transparent=True);"
   ]
  }
 ],
 "metadata": {
  "extensions": {
   "jupyter_dashboards": {
    "activeView": "grid_default",
    "version": 1,
    "views": {
     "grid_default": {
      "cellMargin": 10,
      "defaultCellHeight": 20,
      "maxColumns": 12,
      "name": "grid",
      "type": "grid"
     },
     "report_default": {
      "name": "report",
      "type": "report"
     }
    }
   }
  },
  "kernelspec": {
   "display_name": "Python 3",
   "language": "python",
   "name": "python3"
  },
  "language_info": {
   "codemirror_mode": {
    "name": "ipython",
    "version": 3
   },
   "file_extension": ".py",
   "mimetype": "text/x-python",
   "name": "python",
   "nbconvert_exporter": "python",
   "pygments_lexer": "ipython3",
   "version": "3.6.5"
  },
  "toc": {
   "nav_menu": {},
   "number_sections": false,
   "sideBar": true,
   "skip_h1_title": false,
   "title_cell": "Table of Contents",
   "title_sidebar": "Contents",
   "toc_cell": true,
   "toc_position": {
    "height": "calc(100% - 180px)",
    "left": "10px",
    "top": "150px",
    "width": "211px"
   },
   "toc_section_display": true,
   "toc_window_display": true
  },
  "varInspector": {
   "cols": {
    "lenName": 16,
    "lenType": 16,
    "lenVar": 40
   },
   "kernels_config": {
    "python": {
     "delete_cmd_postfix": "",
     "delete_cmd_prefix": "del ",
     "library": "var_list.py",
     "varRefreshCmd": "print(var_dic_list())"
    },
    "r": {
     "delete_cmd_postfix": ") ",
     "delete_cmd_prefix": "rm(",
     "library": "var_list.r",
     "varRefreshCmd": "cat(var_dic_list()) "
    }
   },
   "types_to_exclude": [
    "module",
    "function",
    "builtin_function_or_method",
    "instance",
    "_Feature"
   ],
   "window_display": false
  }
 },
 "nbformat": 4,
 "nbformat_minor": 2
}
