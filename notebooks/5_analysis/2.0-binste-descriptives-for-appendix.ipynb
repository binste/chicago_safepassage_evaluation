{
 "cells": [
  {
   "cell_type": "markdown",
   "metadata": {
    "toc": true
   },
   "source": [
    "<h1>Table of Contents<span class=\"tocSkip\"></span></h1>\n",
    "<div class=\"toc\"><ul class=\"toc-item\"><li><span><a href=\"#Load-data\" data-toc-modified-id=\"Load-data-1\"><span class=\"toc-item-num\">1&nbsp;&nbsp;</span>Load data</a></span><ul class=\"toc-item\"><li><span><a href=\"#Crimes\" data-toc-modified-id=\"Crimes-1.1\"><span class=\"toc-item-num\">1.1&nbsp;&nbsp;</span>Crimes</a></span></li><li><span><a href=\"#Blocks\" data-toc-modified-id=\"Blocks-1.2\"><span class=\"toc-item-num\">1.2&nbsp;&nbsp;</span>Blocks</a></span></li></ul></li><li><span><a href=\"#Selection-of-crimes\" data-toc-modified-id=\"Selection-of-crimes-2\"><span class=\"toc-item-num\">2&nbsp;&nbsp;</span>Selection of crimes</a></span><ul class=\"toc-item\"><li><span><a href=\"#Plot-missing\" data-toc-modified-id=\"Plot-missing-2.1\"><span class=\"toc-item-num\">2.1&nbsp;&nbsp;</span>Plot missing</a></span></li></ul></li><li><span><a href=\"#Average-area-per-block\" data-toc-modified-id=\"Average-area-per-block-3\"><span class=\"toc-item-num\">3&nbsp;&nbsp;</span>Average area per block</a></span></li></ul></div>"
   ]
  },
  {
   "cell_type": "markdown",
   "metadata": {},
   "source": [
    "**Description**: This notebook contains code to reproduce some of the numbers and figures from the Appendix."
   ]
  },
  {
   "cell_type": "code",
   "execution_count": 1,
   "metadata": {},
   "outputs": [],
   "source": [
    "import pickle\n",
    "import sys\n",
    "from pathlib import Path\n",
    "\n",
    "import altair as alt\n",
    "import pandas as pd\n",
    "\n",
    "sys.path.append('../..')\n",
    "from src.prepare_data.crime_database import load_crimes\n",
    "from src.analysis.figures import format_chart"
   ]
  },
  {
   "cell_type": "code",
   "execution_count": 2,
   "metadata": {},
   "outputs": [],
   "source": [
    "project_root = Path('../..')\n",
    "data_path = (project_root / 'data')"
   ]
  },
  {
   "cell_type": "code",
   "execution_count": 3,
   "metadata": {},
   "outputs": [
    {
     "data": {
      "text/plain": [
       "RendererRegistry.enable('notebook')"
      ]
     },
     "execution_count": 3,
     "metadata": {},
     "output_type": "execute_result"
    }
   ],
   "source": [
    "alt.renderers.enable('notebook')"
   ]
  },
  {
   "cell_type": "code",
   "execution_count": 4,
   "metadata": {},
   "outputs": [],
   "source": [
    "def n_rows(df):\n",
    "    \"\"\"Prints number of rows with a ',' as a thousand separator\n",
    "    \n",
    "    Parameters\n",
    "    ----------\n",
    "    df : pd.DataFrame\n",
    "        Dataframe of which number of rows should be printed\n",
    "        \n",
    "    Returns\n",
    "    -------\n",
    "    Nothing\n",
    "    \"\"\"\n",
    "    print(format(df.shape[0], ','))\n",
    "    return"
   ]
  },
  {
   "cell_type": "code",
   "execution_count": 5,
   "metadata": {},
   "outputs": [],
   "source": [
    "project_folder = Path('../..')"
   ]
  },
  {
   "cell_type": "markdown",
   "metadata": {},
   "source": [
    "# Load data\n",
    "## Crimes\n",
    "The loaded dataset contains all the crimes from the raw dataset for the period of the analysis."
   ]
  },
  {
   "cell_type": "code",
   "execution_count": 6,
   "metadata": {},
   "outputs": [],
   "source": [
    "query = \"\"\"select ID, Date, \"Primary Type\", Latitude, Longitude, \"FBI Code\"\n",
    "from crimes\n",
    "where Date between '2006-01-01' and '2016-06-30'\"\"\"\n",
    "crimes = load_crimes(query, sqldb_path=str(data_path / 'processed/crimes.db'))"
   ]
  },
  {
   "cell_type": "code",
   "execution_count": 7,
   "metadata": {},
   "outputs": [
    {
     "name": "stdout",
     "output_type": "stream",
     "text": [
      "3,736,428\n"
     ]
    }
   ],
   "source": [
    "n_rows(crimes)"
   ]
  },
  {
   "cell_type": "markdown",
   "metadata": {},
   "source": [
    "# Selection of crimes"
   ]
  },
  {
   "cell_type": "code",
   "execution_count": 8,
   "metadata": {},
   "outputs": [
    {
     "data": {
      "text/html": [
       "<div>\n",
       "<style scoped>\n",
       "    .dataframe tbody tr th:only-of-type {\n",
       "        vertical-align: middle;\n",
       "    }\n",
       "\n",
       "    .dataframe tbody tr th {\n",
       "        vertical-align: top;\n",
       "    }\n",
       "\n",
       "    .dataframe thead th {\n",
       "        text-align: right;\n",
       "    }\n",
       "</style>\n",
       "<table border=\"1\" class=\"dataframe\">\n",
       "  <thead>\n",
       "    <tr style=\"text-align: right;\">\n",
       "      <th></th>\n",
       "      <th>tract_bloc</th>\n",
       "      <th>school_year</th>\n",
       "      <th>statefp10</th>\n",
       "      <th>countyfp10</th>\n",
       "      <th>tractce10</th>\n",
       "      <th>geoid10</th>\n",
       "      <th>blockce10</th>\n",
       "      <th>name10</th>\n",
       "      <th>r_numbers</th>\n",
       "      <th>treated_backup</th>\n",
       "      <th>geometry</th>\n",
       "      <th>route_number</th>\n",
       "      <th>school_name</th>\n",
       "      <th>treated</th>\n",
       "      <th>one_over</th>\n",
       "      <th>two_over</th>\n",
       "      <th>three_over</th>\n",
       "      <th>info</th>\n",
       "    </tr>\n",
       "  </thead>\n",
       "  <tbody>\n",
       "    <tr>\n",
       "      <th>0</th>\n",
       "      <td>101001000</td>\n",
       "      <td>SY0506</td>\n",
       "      <td>17</td>\n",
       "      <td>31</td>\n",
       "      <td>10100</td>\n",
       "      <td>170310101001000</td>\n",
       "      <td>1000</td>\n",
       "      <td>Block 1000</td>\n",
       "      <td>NaN</td>\n",
       "      <td>0</td>\n",
       "      <td>POLYGON ((-87.66635499979151 42.02252199950325...</td>\n",
       "      <td>NaN</td>\n",
       "      <td>NaN</td>\n",
       "      <td>0.0</td>\n",
       "      <td>0</td>\n",
       "      <td>0</td>\n",
       "      <td>0</td>\n",
       "      <td>-</td>\n",
       "    </tr>\n",
       "    <tr>\n",
       "      <th>1</th>\n",
       "      <td>101001001</td>\n",
       "      <td>SY0506</td>\n",
       "      <td>17</td>\n",
       "      <td>31</td>\n",
       "      <td>10100</td>\n",
       "      <td>170310101001001</td>\n",
       "      <td>1001</td>\n",
       "      <td>Block 1001</td>\n",
       "      <td>NaN</td>\n",
       "      <td>0</td>\n",
       "      <td>POLYGON ((-87.66753999955125 42.02223700032794...</td>\n",
       "      <td>NaN</td>\n",
       "      <td>NaN</td>\n",
       "      <td>0.0</td>\n",
       "      <td>0</td>\n",
       "      <td>0</td>\n",
       "      <td>0</td>\n",
       "      <td>-</td>\n",
       "    </tr>\n",
       "    <tr>\n",
       "      <th>2</th>\n",
       "      <td>101001002</td>\n",
       "      <td>SY0506</td>\n",
       "      <td>17</td>\n",
       "      <td>31</td>\n",
       "      <td>10100</td>\n",
       "      <td>170310101001002</td>\n",
       "      <td>1002</td>\n",
       "      <td>Block 1002</td>\n",
       "      <td>NaN</td>\n",
       "      <td>0</td>\n",
       "      <td>POLYGON ((-87.67008600039445 42.02226200030603...</td>\n",
       "      <td>NaN</td>\n",
       "      <td>NaN</td>\n",
       "      <td>0.0</td>\n",
       "      <td>0</td>\n",
       "      <td>0</td>\n",
       "      <td>0</td>\n",
       "      <td>-</td>\n",
       "    </tr>\n",
       "    <tr>\n",
       "      <th>3</th>\n",
       "      <td>101001003</td>\n",
       "      <td>SY0506</td>\n",
       "      <td>17</td>\n",
       "      <td>31</td>\n",
       "      <td>10100</td>\n",
       "      <td>170310101001003</td>\n",
       "      <td>1003</td>\n",
       "      <td>Block 1003</td>\n",
       "      <td>NaN</td>\n",
       "      <td>0</td>\n",
       "      <td>POLYGON ((-87.67009499920478 42.0211490002601,...</td>\n",
       "      <td>NaN</td>\n",
       "      <td>NaN</td>\n",
       "      <td>0.0</td>\n",
       "      <td>0</td>\n",
       "      <td>0</td>\n",
       "      <td>0</td>\n",
       "      <td>-</td>\n",
       "    </tr>\n",
       "    <tr>\n",
       "      <th>4</th>\n",
       "      <td>101002000</td>\n",
       "      <td>SY0506</td>\n",
       "      <td>17</td>\n",
       "      <td>31</td>\n",
       "      <td>10100</td>\n",
       "      <td>170310101002000</td>\n",
       "      <td>2000</td>\n",
       "      <td>Block 2000</td>\n",
       "      <td>NaN</td>\n",
       "      <td>0</td>\n",
       "      <td>POLYGON ((-87.67188399967968 42.02298600014132...</td>\n",
       "      <td>NaN</td>\n",
       "      <td>NaN</td>\n",
       "      <td>0.0</td>\n",
       "      <td>0</td>\n",
       "      <td>0</td>\n",
       "      <td>0</td>\n",
       "      <td>-</td>\n",
       "    </tr>\n",
       "  </tbody>\n",
       "</table>\n",
       "</div>"
      ],
      "text/plain": [
       "   tract_bloc school_year  statefp10  countyfp10  tractce10          geoid10  \\\n",
       "0   101001000      SY0506         17          31      10100  170310101001000   \n",
       "1   101001001      SY0506         17          31      10100  170310101001001   \n",
       "2   101001002      SY0506         17          31      10100  170310101001002   \n",
       "3   101001003      SY0506         17          31      10100  170310101001003   \n",
       "4   101002000      SY0506         17          31      10100  170310101002000   \n",
       "\n",
       "   blockce10      name10 r_numbers  treated_backup  \\\n",
       "0       1000  Block 1000       NaN               0   \n",
       "1       1001  Block 1001       NaN               0   \n",
       "2       1002  Block 1002       NaN               0   \n",
       "3       1003  Block 1003       NaN               0   \n",
       "4       2000  Block 2000       NaN               0   \n",
       "\n",
       "                                            geometry  route_number  \\\n",
       "0  POLYGON ((-87.66635499979151 42.02252199950325...           NaN   \n",
       "1  POLYGON ((-87.66753999955125 42.02223700032794...           NaN   \n",
       "2  POLYGON ((-87.67008600039445 42.02226200030603...           NaN   \n",
       "3  POLYGON ((-87.67009499920478 42.0211490002601,...           NaN   \n",
       "4  POLYGON ((-87.67188399967968 42.02298600014132...           NaN   \n",
       "\n",
       "  school_name  treated  one_over  two_over  three_over info  \n",
       "0         NaN      0.0         0         0           0    -  \n",
       "1         NaN      0.0         0         0           0    -  \n",
       "2         NaN      0.0         0         0           0    -  \n",
       "3         NaN      0.0         0         0           0    -  \n",
       "4         NaN      0.0         0         0           0    -  "
      ]
     },
     "execution_count": 8,
     "metadata": {},
     "output_type": "execute_result"
    }
   ],
   "source": [
    "with (data_path / 'processed/figures/blocks_with_dummies.pkl').open('rb') as f:\n",
    "    blocks = pickle.load(f)\n",
    "blocks.head()"
   ]
  },
  {
   "cell_type": "code",
   "execution_count": 9,
   "metadata": {},
   "outputs": [],
   "source": [
    "violent_crime = {\n",
    "    '01A': 'Homicide 1st & 2nd Degree',\n",
    "    '02': 'Criminal Sexual Assault',\n",
    "    '03': 'Robbery',\n",
    "    '04A': 'Aggravated Assault',\n",
    "    '04B': 'Aggravated Battery'\n",
    "}\n",
    "property_crime = {\n",
    "    '05': 'Burglary',\n",
    "    '06': 'Larceny',\n",
    "    '07': 'Motor Vehicle Theft',\n",
    "    '09': 'Arson'\n",
    "}\n",
    "\n",
    "crime_categories = list(violent_crime.keys()) + list(property_crime.keys())"
   ]
  },
  {
   "cell_type": "code",
   "execution_count": 10,
   "metadata": {},
   "outputs": [],
   "source": [
    "crimes = crimes[crimes['FBI Code'].isin(crime_categories)]\n",
    "crimes['violent'] = crimes['FBI Code'].isin(list(violent_crime.keys())) * 1"
   ]
  },
  {
   "cell_type": "code",
   "execution_count": 11,
   "metadata": {},
   "outputs": [
    {
     "name": "stdout",
     "output_type": "stream",
     "text": [
      "1,502,468\n"
     ]
    }
   ],
   "source": [
    "n_rows(crimes)"
   ]
  },
  {
   "cell_type": "markdown",
   "metadata": {},
   "source": [
    "Number of violent crimes:"
   ]
  },
  {
   "cell_type": "code",
   "execution_count": 12,
   "metadata": {},
   "outputs": [
    {
     "data": {
      "text/plain": [
       "'313,250'"
      ]
     },
     "execution_count": 12,
     "metadata": {},
     "output_type": "execute_result"
    }
   ],
   "source": [
    "format(crimes['violent'].sum(), ',')"
   ]
  },
  {
   "cell_type": "markdown",
   "metadata": {},
   "source": [
    "Number of property crimes:"
   ]
  },
  {
   "cell_type": "code",
   "execution_count": 13,
   "metadata": {},
   "outputs": [
    {
     "data": {
      "text/plain": [
       "'1,189,218'"
      ]
     },
     "execution_count": 13,
     "metadata": {},
     "output_type": "execute_result"
    }
   ],
   "source": [
    "format(crimes.shape[0] - crimes['violent'].sum(), ',')"
   ]
  },
  {
   "cell_type": "code",
   "execution_count": 14,
   "metadata": {},
   "outputs": [
    {
     "data": {
      "text/plain": [
       "ID                  0\n",
       "Date                0\n",
       "Primary Type        0\n",
       "Latitude        14661\n",
       "Longitude       14661\n",
       "FBI Code            0\n",
       "violent             0\n",
       "dtype: int64"
      ]
     },
     "execution_count": 14,
     "metadata": {},
     "output_type": "execute_result"
    }
   ],
   "source": [
    "crimes.isnull().sum()"
   ]
  },
  {
   "cell_type": "code",
   "execution_count": null,
   "metadata": {},
   "outputs": [],
   "source": []
  }
 ],
 "metadata": {
  "kernelspec": {
   "display_name": "Python 3",
   "language": "python",
   "name": "python3"
  },
  "language_info": {
   "codemirror_mode": {
    "name": "ipython",
    "version": 3
   },
   "file_extension": ".py",
   "mimetype": "text/x-python",
   "name": "python",
   "nbconvert_exporter": "python",
   "pygments_lexer": "ipython3",
   "version": "3.6.5"
  },
  "toc": {
   "nav_menu": {},
   "number_sections": true,
   "sideBar": true,
   "skip_h1_title": false,
   "title_cell": "Table of Contents",
   "title_sidebar": "Contents",
   "toc_cell": true,
   "toc_position": {},
   "toc_section_display": true,
   "toc_window_display": false
  }
 },
 "nbformat": 4,
 "nbformat_minor": 2
}
