{
 "cells": [
  {
   "cell_type": "markdown",
   "metadata": {
    "toc": true
   },
   "source": [
    "<h1>Table of Contents<span class=\"tocSkip\"></span></h1>\n",
    "<div class=\"toc\"><ul class=\"toc-item\"><li><span><a href=\"#Load-data\" data-toc-modified-id=\"Load-data-1\"><span class=\"toc-item-num\">1&nbsp;&nbsp;</span>Load data</a></span><ul class=\"toc-item\"><li><span><a href=\"#Crimes\" data-toc-modified-id=\"Crimes-1.1\"><span class=\"toc-item-num\">1.1&nbsp;&nbsp;</span>Crimes</a></span></li></ul></li><li><span><a href=\"#Selection-of-crimes\" data-toc-modified-id=\"Selection-of-crimes-2\"><span class=\"toc-item-num\">2&nbsp;&nbsp;</span>Selection of crimes</a></span><ul class=\"toc-item\"><li><span><a href=\"#Plot-missing\" data-toc-modified-id=\"Plot-missing-2.1\"><span class=\"toc-item-num\">2.1&nbsp;&nbsp;</span>Plot missing</a></span></li></ul></li></ul></div>"
   ]
  },
  {
   "cell_type": "markdown",
   "metadata": {},
   "source": [
    "**Description**: This notebook contains code to reproduce some of the numbers and figures from the Appendix."
   ]
  },
  {
   "cell_type": "code",
   "execution_count": 1,
   "metadata": {},
   "outputs": [],
   "source": [
    "import pickle\n",
    "import sys\n",
    "from pathlib import Path\n",
    "\n",
    "import altair as alt\n",
    "import pandas as pd\n",
    "\n",
    "sys.path.append('../..')\n",
    "from src.prepare_data.crime_database import load_crimes\n",
    "from src.analysis.figures import format_chart"
   ]
  },
  {
   "cell_type": "code",
   "execution_count": 2,
   "metadata": {},
   "outputs": [],
   "source": [
    "project_root = Path('../..')\n",
    "data_path = (project_root / 'data')"
   ]
  },
  {
   "cell_type": "code",
   "execution_count": 3,
   "metadata": {},
   "outputs": [
    {
     "data": {
      "text/plain": [
       "RendererRegistry.enable('notebook')"
      ]
     },
     "execution_count": 3,
     "metadata": {},
     "output_type": "execute_result"
    }
   ],
   "source": [
    "alt.renderers.enable('notebook')"
   ]
  },
  {
   "cell_type": "code",
   "execution_count": 4,
   "metadata": {},
   "outputs": [],
   "source": [
    "def n_rows(df):\n",
    "    \"\"\"Prints number of rows with a ',' as a thousand separator\n",
    "    \n",
    "    Parameters\n",
    "    ----------\n",
    "    df : pd.DataFrame\n",
    "        Dataframe of which number of rows should be printed\n",
    "        \n",
    "    Returns\n",
    "    -------\n",
    "    Nothing\n",
    "    \"\"\"\n",
    "    print(format(df.shape[0], ','))\n",
    "    return"
   ]
  },
  {
   "cell_type": "code",
   "execution_count": 5,
   "metadata": {},
   "outputs": [],
   "source": [
    "project_folder = Path('../..')"
   ]
  },
  {
   "cell_type": "markdown",
   "metadata": {},
   "source": [
    "# Load data\n",
    "## Crimes\n",
    "The loaded dataset contains all the crimes from the raw dataset for the period of the analysis."
   ]
  },
  {
   "cell_type": "code",
   "execution_count": 6,
   "metadata": {},
   "outputs": [],
   "source": [
    "query = \"\"\"select ID, Date, \"Primary Type\", Latitude, Longitude, \"FBI Code\"\n",
    "from crimes\n",
    "where Date between '2006-01-01' and '2016-06-30'\"\"\"\n",
    "crimes = load_crimes(query, sqldb_path=str(data_path / 'processed/crimes.db'))"
   ]
  },
  {
   "cell_type": "code",
   "execution_count": 7,
   "metadata": {},
   "outputs": [
    {
     "name": "stdout",
     "output_type": "stream",
     "text": [
      "3,736,428\n"
     ]
    }
   ],
   "source": [
    "n_rows(crimes)"
   ]
  },
  {
   "cell_type": "markdown",
   "metadata": {},
   "source": [
    "# Selection of crimes"
   ]
  },
  {
   "cell_type": "code",
   "execution_count": 8,
   "metadata": {},
   "outputs": [],
   "source": [
    "violent_crime = {\n",
    "    '01A': 'Homicide 1st & 2nd Degree',\n",
    "    '02': 'Criminal Sexual Assault',\n",
    "    '03': 'Robbery',\n",
    "    '04A': 'Aggravated Assault',\n",
    "    '04B': 'Aggravated Battery'\n",
    "}\n",
    "property_crime = {\n",
    "    '05': 'Burglary',\n",
    "    '06': 'Larceny',\n",
    "    '07': 'Motor Vehicle Theft',\n",
    "    '09': 'Arson'\n",
    "}\n",
    "\n",
    "crime_categories = list(violent_crime.keys()) + list(property_crime.keys())"
   ]
  },
  {
   "cell_type": "code",
   "execution_count": 9,
   "metadata": {},
   "outputs": [],
   "source": [
    "crimes = crimes[crimes['FBI Code'].isin(crime_categories)]\n",
    "crimes['violent'] = crimes['FBI Code'].isin(list(violent_crime.keys())) * 1"
   ]
  },
  {
   "cell_type": "code",
   "execution_count": 10,
   "metadata": {},
   "outputs": [
    {
     "name": "stdout",
     "output_type": "stream",
     "text": [
      "1,502,468\n"
     ]
    }
   ],
   "source": [
    "n_rows(crimes)"
   ]
  },
  {
   "cell_type": "markdown",
   "metadata": {},
   "source": [
    "Number of violent crimes:"
   ]
  },
  {
   "cell_type": "code",
   "execution_count": 11,
   "metadata": {},
   "outputs": [
    {
     "data": {
      "text/plain": [
       "'313,250'"
      ]
     },
     "execution_count": 11,
     "metadata": {},
     "output_type": "execute_result"
    }
   ],
   "source": [
    "format(crimes['violent'].sum(), ',')"
   ]
  },
  {
   "cell_type": "markdown",
   "metadata": {},
   "source": [
    "Number of property crimes:"
   ]
  },
  {
   "cell_type": "code",
   "execution_count": 12,
   "metadata": {},
   "outputs": [
    {
     "data": {
      "text/plain": [
       "'1,189,218'"
      ]
     },
     "execution_count": 12,
     "metadata": {},
     "output_type": "execute_result"
    }
   ],
   "source": [
    "format(crimes.shape[0] - crimes['violent'].sum(), ',')"
   ]
  },
  {
   "cell_type": "code",
   "execution_count": 13,
   "metadata": {},
   "outputs": [
    {
     "data": {
      "text/plain": [
       "ID                  0\n",
       "Date                0\n",
       "Primary Type        0\n",
       "Latitude        14661\n",
       "Longitude       14661\n",
       "FBI Code            0\n",
       "violent             0\n",
       "dtype: int64"
      ]
     },
     "execution_count": 13,
     "metadata": {},
     "output_type": "execute_result"
    }
   ],
   "source": [
    "crimes.isnull().sum()"
   ]
  },
  {
   "cell_type": "markdown",
   "metadata": {},
   "source": [
    "## Plot missing"
   ]
  },
  {
   "cell_type": "code",
   "execution_count": 14,
   "metadata": {},
   "outputs": [
    {
     "data": {
      "text/html": [
       "<div>\n",
       "<style scoped>\n",
       "    .dataframe tbody tr th:only-of-type {\n",
       "        vertical-align: middle;\n",
       "    }\n",
       "\n",
       "    .dataframe tbody tr th {\n",
       "        vertical-align: top;\n",
       "    }\n",
       "\n",
       "    .dataframe thead th {\n",
       "        text-align: right;\n",
       "    }\n",
       "</style>\n",
       "<table border=\"1\" class=\"dataframe\">\n",
       "  <thead>\n",
       "    <tr style=\"text-align: right;\">\n",
       "      <th></th>\n",
       "      <th>Date</th>\n",
       "      <th>Crime category</th>\n",
       "      <th>n_missing</th>\n",
       "    </tr>\n",
       "  </thead>\n",
       "  <tbody>\n",
       "    <tr>\n",
       "      <th>0</th>\n",
       "      <td>2006</td>\n",
       "      <td>Property</td>\n",
       "      <td>1060</td>\n",
       "    </tr>\n",
       "    <tr>\n",
       "      <th>1</th>\n",
       "      <td>2006</td>\n",
       "      <td>Violent</td>\n",
       "      <td>198</td>\n",
       "    </tr>\n",
       "    <tr>\n",
       "      <th>2</th>\n",
       "      <td>2007</td>\n",
       "      <td>Property</td>\n",
       "      <td>598</td>\n",
       "    </tr>\n",
       "    <tr>\n",
       "      <th>3</th>\n",
       "      <td>2007</td>\n",
       "      <td>Violent</td>\n",
       "      <td>136</td>\n",
       "    </tr>\n",
       "    <tr>\n",
       "      <th>4</th>\n",
       "      <td>2008</td>\n",
       "      <td>Property</td>\n",
       "      <td>2485</td>\n",
       "    </tr>\n",
       "    <tr>\n",
       "      <th>5</th>\n",
       "      <td>2008</td>\n",
       "      <td>Violent</td>\n",
       "      <td>353</td>\n",
       "    </tr>\n",
       "    <tr>\n",
       "      <th>6</th>\n",
       "      <td>2009</td>\n",
       "      <td>Property</td>\n",
       "      <td>2111</td>\n",
       "    </tr>\n",
       "    <tr>\n",
       "      <th>7</th>\n",
       "      <td>2009</td>\n",
       "      <td>Violent</td>\n",
       "      <td>467</td>\n",
       "    </tr>\n",
       "    <tr>\n",
       "      <th>8</th>\n",
       "      <td>2010</td>\n",
       "      <td>Property</td>\n",
       "      <td>405</td>\n",
       "    </tr>\n",
       "    <tr>\n",
       "      <th>9</th>\n",
       "      <td>2010</td>\n",
       "      <td>Violent</td>\n",
       "      <td>174</td>\n",
       "    </tr>\n",
       "    <tr>\n",
       "      <th>10</th>\n",
       "      <td>2011</td>\n",
       "      <td>Property</td>\n",
       "      <td>58</td>\n",
       "    </tr>\n",
       "    <tr>\n",
       "      <th>11</th>\n",
       "      <td>2011</td>\n",
       "      <td>Violent</td>\n",
       "      <td>81</td>\n",
       "    </tr>\n",
       "    <tr>\n",
       "      <th>12</th>\n",
       "      <td>2012</td>\n",
       "      <td>Property</td>\n",
       "      <td>93</td>\n",
       "    </tr>\n",
       "    <tr>\n",
       "      <th>13</th>\n",
       "      <td>2012</td>\n",
       "      <td>Violent</td>\n",
       "      <td>102</td>\n",
       "    </tr>\n",
       "    <tr>\n",
       "      <th>14</th>\n",
       "      <td>2013</td>\n",
       "      <td>Property</td>\n",
       "      <td>475</td>\n",
       "    </tr>\n",
       "    <tr>\n",
       "      <th>15</th>\n",
       "      <td>2013</td>\n",
       "      <td>Violent</td>\n",
       "      <td>222</td>\n",
       "    </tr>\n",
       "    <tr>\n",
       "      <th>16</th>\n",
       "      <td>2014</td>\n",
       "      <td>Property</td>\n",
       "      <td>1214</td>\n",
       "    </tr>\n",
       "    <tr>\n",
       "      <th>17</th>\n",
       "      <td>2014</td>\n",
       "      <td>Violent</td>\n",
       "      <td>480</td>\n",
       "    </tr>\n",
       "    <tr>\n",
       "      <th>18</th>\n",
       "      <td>2015</td>\n",
       "      <td>Property</td>\n",
       "      <td>634</td>\n",
       "    </tr>\n",
       "    <tr>\n",
       "      <th>19</th>\n",
       "      <td>2015</td>\n",
       "      <td>Violent</td>\n",
       "      <td>280</td>\n",
       "    </tr>\n",
       "    <tr>\n",
       "      <th>20</th>\n",
       "      <td>2016</td>\n",
       "      <td>Property</td>\n",
       "      <td>2351</td>\n",
       "    </tr>\n",
       "    <tr>\n",
       "      <th>21</th>\n",
       "      <td>2016</td>\n",
       "      <td>Violent</td>\n",
       "      <td>684</td>\n",
       "    </tr>\n",
       "  </tbody>\n",
       "</table>\n",
       "</div>"
      ],
      "text/plain": [
       "    Date Crime category  n_missing\n",
       "0   2006       Property       1060\n",
       "1   2006        Violent        198\n",
       "2   2007       Property        598\n",
       "3   2007        Violent        136\n",
       "4   2008       Property       2485\n",
       "5   2008        Violent        353\n",
       "6   2009       Property       2111\n",
       "7   2009        Violent        467\n",
       "8   2010       Property        405\n",
       "9   2010        Violent        174\n",
       "10  2011       Property         58\n",
       "11  2011        Violent         81\n",
       "12  2012       Property         93\n",
       "13  2012        Violent        102\n",
       "14  2013       Property        475\n",
       "15  2013        Violent        222\n",
       "16  2014       Property       1214\n",
       "17  2014        Violent        480\n",
       "18  2015       Property        634\n",
       "19  2015        Violent        280\n",
       "20  2016       Property       2351\n",
       "21  2016        Violent        684"
      ]
     },
     "execution_count": 14,
     "metadata": {},
     "output_type": "execute_result"
    }
   ],
   "source": [
    "missing_df = crimes.groupby(\n",
    "    [crimes['Date'].dt.year,\n",
    "     'violent']).apply(lambda x: x['Latitude'].isnull().sum()).rename(\n",
    "         'n_missing').reset_index().rename({\n",
    "             'violent': 'Crime category'\n",
    "         }, axis='columns')\n",
    "missing_df['Crime category'] = missing_df['Crime category'].map({0: 'Property', 1: 'Violent'})\n",
    "missing_df"
   ]
  },
  {
   "cell_type": "code",
   "execution_count": 15,
   "metadata": {},
   "outputs": [
    {
     "data": {
      "text/html": [
       "<div class=\"vega-embed\" id=\"791db2a1-fff3-49d1-9148-7cc93c6c5703\"></div>\n",
       "\n",
       "<style>\n",
       ".vega-embed .vega-actions > a {\n",
       "    transition: opacity 200ms ease-in;\n",
       "    opacity: 0.3;\n",
       "    margin-right: 0.6em;\n",
       "    color: #444;\n",
       "    text-decoration: none;\n",
       "}\n",
       "\n",
       ".vega-embed .vega-actions > a:hover {\n",
       "    color: #000;\n",
       "    text-decoration: underline;\n",
       "}\n",
       "\n",
       ".vega-embed:hover .vega-actions > a {\n",
       "    opacity: 1;\n",
       "    transition: 0s;\n",
       "}\n",
       "\n",
       ".vega-embed .error p {\n",
       "    color: firebrick;\n",
       "    font-size: 1.2em;\n",
       "}\n",
       "</style>\n"
      ]
     },
     "metadata": {
      "jupyter-vega3": "#791db2a1-fff3-49d1-9148-7cc93c6c5703"
     },
     "output_type": "display_data"
    },
    {
     "data": {
      "application/javascript": [
       "var spec = {\"config\": {\"view\": {\"width\": 400, \"height\": 300}, \"axis\": {\"labelFontSize\": 12, \"titleFontSize\": 12}, \"legend\": {\"labelFontSize\": 12, \"titleFontSize\": 12}}, \"data\": {\"values\": [{\"Date\": 2006, \"Crime category\": \"Property\", \"n_missing\": 1060}, {\"Date\": 2006, \"Crime category\": \"Violent\", \"n_missing\": 198}, {\"Date\": 2007, \"Crime category\": \"Property\", \"n_missing\": 598}, {\"Date\": 2007, \"Crime category\": \"Violent\", \"n_missing\": 136}, {\"Date\": 2008, \"Crime category\": \"Property\", \"n_missing\": 2485}, {\"Date\": 2008, \"Crime category\": \"Violent\", \"n_missing\": 353}, {\"Date\": 2009, \"Crime category\": \"Property\", \"n_missing\": 2111}, {\"Date\": 2009, \"Crime category\": \"Violent\", \"n_missing\": 467}, {\"Date\": 2010, \"Crime category\": \"Property\", \"n_missing\": 405}, {\"Date\": 2010, \"Crime category\": \"Violent\", \"n_missing\": 174}, {\"Date\": 2011, \"Crime category\": \"Property\", \"n_missing\": 58}, {\"Date\": 2011, \"Crime category\": \"Violent\", \"n_missing\": 81}, {\"Date\": 2012, \"Crime category\": \"Property\", \"n_missing\": 93}, {\"Date\": 2012, \"Crime category\": \"Violent\", \"n_missing\": 102}, {\"Date\": 2013, \"Crime category\": \"Property\", \"n_missing\": 475}, {\"Date\": 2013, \"Crime category\": \"Violent\", \"n_missing\": 222}, {\"Date\": 2014, \"Crime category\": \"Property\", \"n_missing\": 1214}, {\"Date\": 2014, \"Crime category\": \"Violent\", \"n_missing\": 480}, {\"Date\": 2015, \"Crime category\": \"Property\", \"n_missing\": 634}, {\"Date\": 2015, \"Crime category\": \"Violent\", \"n_missing\": 280}, {\"Date\": 2016, \"Crime category\": \"Property\", \"n_missing\": 2351}, {\"Date\": 2016, \"Crime category\": \"Violent\", \"n_missing\": 684}]}, \"mark\": \"line\", \"encoding\": {\"color\": {\"type\": \"nominal\", \"field\": \"Crime category\"}, \"x\": {\"type\": \"ordinal\", \"axis\": {\"labelAngle\": 0, \"title\": \"Year\"}, \"field\": \"Date\"}, \"y\": {\"type\": \"quantitative\", \"axis\": {\"title\": \"Number of crimes\"}, \"field\": \"n_missing\"}}, \"height\": 400, \"width\": 600, \"$schema\": \"https://vega.github.io/schema/vega-lite/v2.4.3.json\"};\n",
       "var opt = {};\n",
       "var selector = \"#791db2a1-fff3-49d1-9148-7cc93c6c5703\";\n",
       "var type = \"vega-lite\";\n",
       "\n",
       "var output_area = this;\n",
       "\n",
       "require(['nbextensions/jupyter-vega3/index'], function(vega) {\n",
       "  vega.render(selector, spec, type, opt, output_area);\n",
       "}, function (err) {\n",
       "  if (err.requireType !== 'scripterror') {\n",
       "    throw(err);\n",
       "  }\n",
       "});\n"
      ]
     },
     "metadata": {
      "jupyter-vega3": "#791db2a1-fff3-49d1-9148-7cc93c6c5703"
     },
     "output_type": "display_data"
    },
    {
     "data": {
      "text/plain": []
     },
     "execution_count": 15,
     "metadata": {},
     "output_type": "execute_result"
    },
    {
     "data": {
      "image/png": "[encoded data removed]"
     },
     "metadata": {
      "jupyter-vega3": "#791db2a1-fff3-49d1-9148-7cc93c6c5703"
     },
     "output_type": "display_data"
    }
   ],
   "source": [
    "plot_missing = format_chart(alt.Chart(missing_df).mark_line().encode(\n",
    "    alt.X('Date:O', axis=alt.Axis(labelAngle=0, title='Year')),\n",
    "    alt.Y('n_missing:Q', axis=alt.Axis(title='Number of crimes')),\n",
    "    alt.Color('Crime category:N')))\n",
    "plot_missing"
   ]
  },
  {
   "cell_type": "markdown",
   "metadata": {},
   "source": [
    "Should the following save command not work, you need to first install `selenium` and a corresponding driver for your web browser. Visit [the selenium documentation](http://selenium-python.readthedocs.io/installation.html) for more information."
   ]
  },
  {
   "cell_type": "code",
   "execution_count": 19,
   "metadata": {},
   "outputs": [],
   "source": [
    "plot_missing.save(str(project_root / 'reports/appendix/figures/plot_missing.png'), scale_factor=5)"
   ]
  },
  {
   "cell_type": "code",
   "execution_count": null,
   "metadata": {},
   "outputs": [],
   "source": []
  }
 ],
 "metadata": {
  "kernelspec": {
   "display_name": "Python 3",
   "language": "python",
   "name": "python3"
  },
  "language_info": {
   "codemirror_mode": {
    "name": "ipython",
    "version": 3
   },
   "file_extension": ".py",
   "mimetype": "text/x-python",
   "name": "python",
   "nbconvert_exporter": "python",
   "pygments_lexer": "ipython3",
   "version": "3.6.5"
  },
  "toc": {
   "nav_menu": {},
   "number_sections": true,
   "sideBar": true,
   "skip_h1_title": false,
   "title_cell": "Table of Contents",
   "title_sidebar": "Contents",
   "toc_cell": true,
   "toc_position": {},
   "toc_section_display": true,
   "toc_window_display": false
  }
 },
 "nbformat": 4,
 "nbformat_minor": 2
}
