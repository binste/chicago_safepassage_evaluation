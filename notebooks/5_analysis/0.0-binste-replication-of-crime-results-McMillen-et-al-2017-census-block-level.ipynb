{
 "cells": [
  {
   "cell_type": "markdown",
   "metadata": {
    "extensions": {
     "jupyter_dashboards": {
      "version": 1,
      "views": {
       "grid_default": {
        "col": 0,
        "height": 19,
        "hidden": true,
        "row": 0,
        "width": 12
       },
       "report_default": {}
      }
     }
    },
    "toc": true
   },
   "source": [
    "<h1>Table of Contents<span class=\"tocSkip\"></span></h1>\n",
    "<div class=\"toc\"><ul class=\"toc-item\"><li><span><a href=\"#Load-and-prepare-data\" data-toc-modified-id=\"Load-and-prepare-data-1\">Load and prepare data</a></span><ul class=\"toc-item\"><li><span><a href=\"#Schools\" data-toc-modified-id=\"Schools-1.1\">Schools</a></span></li><li><span><a href=\"#Routes\" data-toc-modified-id=\"Routes-1.2\">Routes</a></span><ul class=\"toc-item\"><li><span><a href=\"#Add-treatment-indicator-from-schools\" data-toc-modified-id=\"Add-treatment-indicator-from-schools-1.2.1\">Add treatment indicator from schools</a></span></li></ul></li><li><span><a href=\"#Monthly-crime-rates\" data-toc-modified-id=\"Monthly-crime-rates-1.3\">Monthly crime rates</a></span><ul class=\"toc-item\"><li><span><a href=\"#Only-blocks-which-are-in-at-least-one-year-treated-or-one,-two,-or-three-cells-over\" data-toc-modified-id=\"Only-blocks-which-are-in-at-least-one-year-treated-or-one,-two,-or-three-cells-over-1.3.1\">Only blocks which are in at least one year treated or one, two, or three cells over</a></span></li></ul></li><li><span><a href=\"#Blocks-with-running-variable-for-Figure-3\" data-toc-modified-id=\"Blocks-with-running-variable-for-Figure-3-1.4\">Blocks with running variable for Figure 3</a></span><ul class=\"toc-item\"><li><span><a href=\"#Aggregate\" data-toc-modified-id=\"Aggregate-1.4.1\">Aggregate</a></span></li></ul></li><li><span><a href=\"#Yearly-crime-counts\" data-toc-modified-id=\"Yearly-crime-counts-1.5\">Yearly crime counts</a></span></li></ul></li><li><span><a href=\"#Analysis-of-estimation-dataset\" data-toc-modified-id=\"Analysis-of-estimation-dataset-2\">Analysis of estimation dataset</a></span></li><li><span><a href=\"#Replication-of-descriptives\" data-toc-modified-id=\"Replication-of-descriptives-3\">Replication of descriptives</a></span><ul class=\"toc-item\"><li><span><a href=\"#Figure-A.2\" data-toc-modified-id=\"Figure-A.2-3.1\">Figure A.2</a></span></li><li><span><a href=\"#Table-1\" data-toc-modified-id=\"Table-1-3.2\">Table 1</a></span></li><li><span><a href=\"#Table-2\" data-toc-modified-id=\"Table-2-3.3\">Table 2</a></span></li><li><span><a href=\"#Figure-3\" data-toc-modified-id=\"Figure-3-3.4\">Figure 3</a></span></li></ul></li><li><span><a href=\"#Replication-of-main-results\" data-toc-modified-id=\"Replication-of-main-results-4\">Replication of main results</a></span><ul class=\"toc-item\"><li><span><a href=\"#Table-10-(column-3-and-7)\" data-toc-modified-id=\"Table-10-(column-3-and-7)-4.1\">Table 10 (column 3 and 7)</a></span><ul class=\"toc-item\"><li><span><a href=\"#Empirical-Strategy\" data-toc-modified-id=\"Empirical-Strategy-4.1.1\">Empirical Strategy</a></span></li><li><span><a href=\"#Estimation\" data-toc-modified-id=\"Estimation-4.1.2\">Estimation</a></span></li></ul></li></ul></li><li><span><a href=\"#Results\" data-toc-modified-id=\"Results-5\">Results</a></span></li></ul></div>"
   ]
  },
  {
   "cell_type": "raw",
   "metadata": {
    "extensions": {
     "jupyter_dashboards": {
      "version": 1,
      "views": {
       "grid_default": {
        "hidden": true
       },
       "report_default": {}
      }
     }
    }
   },
   "source": [
    "<script>\n",
    "  function code_toggle() {\n",
    "    if (code_shown){\n",
    "      $('div.input').hide('500');\n",
    "      $('#toggleButton').val('Show Code')\n",
    "    } else {\n",
    "      $('div.input').show('500');\n",
    "      $('#toggleButton').val('Hide Code')\n",
    "    }\n",
    "    code_shown = !code_shown\n",
    "  }\n",
    "  $( document ).ready(function(){\n",
    "    code_shown=false;\n",
    "    $('div.input').hide()\n",
    "  });\n",
    "</script>\n",
    "<form action=\"javascript:code_toggle()\"><input type=\"submit\" id=\"toggleButton\" value=\"Show Code\"></form>"
   ]
  },
  {
   "cell_type": "markdown",
   "metadata": {
    "extensions": {
     "jupyter_dashboards": {
      "version": 1,
      "views": {
       "grid_default": {
        "col": 0,
        "height": 4,
        "hidden": true,
        "row": 0,
        "width": 4
       },
       "report_default": {}
      }
     }
    }
   },
   "source": [
    "**Description**: Replicate census block results (crime) for [Mc Millen et al. (2017)](https://ignaciomsarmiento.github.io/assets/Safe_Passage_WP.pdf) as well as some descriptive statistics."
   ]
  },
  {
   "cell_type": "code",
   "execution_count": 1,
   "metadata": {
    "extensions": {
     "jupyter_dashboards": {
      "version": 1,
      "views": {
       "grid_default": {
        "hidden": true
       },
       "report_default": {}
      }
     }
    }
   },
   "outputs": [],
   "source": [
    "import pickle\n",
    "import sys\n",
    "from pathlib import Path\n",
    "\n",
    "import altair as alt\n",
    "import geopandas as gpd\n",
    "import pandas as pd\n",
    "import numpy as np\n",
    "import ipywidgets as widgets\n",
    "import rpy2.robjects as robjects\n",
    "from rpy2.robjects.packages import importr\n",
    "from rpy2.robjects import pandas2ri\n",
    "\n",
    "sys.path.append('../..')\n",
    "from src.analysis.figures import format_chart, save_to_jekyll"
   ]
  },
  {
   "cell_type": "code",
   "execution_count": 2,
   "metadata": {
    "extensions": {
     "jupyter_dashboards": {
      "version": 1,
      "views": {
       "grid_default": {
        "col": 4,
        "height": 4,
        "hidden": true,
        "row": 0,
        "width": 4
       },
       "report_default": {}
      }
     }
    }
   },
   "outputs": [
    {
     "data": {
      "text/plain": [
       "RendererRegistry.enable('notebook')"
      ]
     },
     "execution_count": 2,
     "metadata": {},
     "output_type": "execute_result"
    }
   ],
   "source": [
    "# for the notebook only (not for JupyterLab) run this command once per session\n",
    "alt.renderers.enable('notebook')"
   ]
  },
  {
   "cell_type": "markdown",
   "metadata": {
    "extensions": {
     "jupyter_dashboards": {
      "version": 1,
      "views": {
       "grid_default": {
        "col": 8,
        "height": 4,
        "hidden": true,
        "row": 0,
        "width": 4
       },
       "report_default": {}
      }
     }
    }
   },
   "source": [
    "Set path to data folder"
   ]
  },
  {
   "cell_type": "code",
   "execution_count": 3,
   "metadata": {
    "extensions": {
     "jupyter_dashboards": {
      "version": 1,
      "views": {
       "grid_default": {
        "hidden": true
       },
       "report_default": {}
      }
     }
    }
   },
   "outputs": [],
   "source": [
    "project_folder = Path('../..')\n",
    "data_path = project_folder / 'data'"
   ]
  },
  {
   "cell_type": "markdown",
   "metadata": {
    "extensions": {
     "jupyter_dashboards": {
      "version": 1,
      "views": {
       "grid_default": {
        "col": 0,
        "height": 4,
        "hidden": true,
        "row": 0,
        "width": 4
       },
       "report_default": {}
      }
     }
    }
   },
   "source": [
    "# Load and prepare data"
   ]
  },
  {
   "cell_type": "markdown",
   "metadata": {
    "extensions": {
     "jupyter_dashboards": {
      "version": 1,
      "views": {
       "grid_default": {
        "col": 4,
        "height": 4,
        "hidden": true,
        "row": 0,
        "width": 4
       },
       "report_default": {}
      }
     }
    }
   },
   "source": [
    "## Schools"
   ]
  },
  {
   "cell_type": "code",
   "execution_count": 4,
   "metadata": {
    "extensions": {
     "jupyter_dashboards": {
      "version": 1,
      "views": {
       "grid_default": {
        "hidden": true
       },
       "report_default": {}
      }
     }
    }
   },
   "outputs": [],
   "source": [
    "with (data_path / 'processed/schools_blocks.pkl').open('rb') as f:\n",
    "    schools = pickle.load(f)\n",
    "schools['treated'] = schools['treated_foia']\n",
    "schools = schools.drop('treated_foia', axis='columns')"
   ]
  },
  {
   "cell_type": "markdown",
   "metadata": {
    "extensions": {
     "jupyter_dashboards": {
      "version": 1,
      "views": {
       "grid_default": {
        "col": 8,
        "height": 4,
        "hidden": true,
        "row": 0,
        "width": 4
       },
       "report_default": {}
      }
     }
    }
   },
   "source": [
    "## Routes"
   ]
  },
  {
   "cell_type": "code",
   "execution_count": 5,
   "metadata": {
    "extensions": {
     "jupyter_dashboards": {
      "version": 1,
      "views": {
       "grid_default": {
        "hidden": true
       },
       "report_default": {}
      }
     }
    }
   },
   "outputs": [],
   "source": [
    "with (data_path / 'processed/routes.pkl').open('rb') as f:\n",
    "    routes = pickle.load(f)"
   ]
  },
  {
   "cell_type": "markdown",
   "metadata": {
    "extensions": {
     "jupyter_dashboards": {
      "version": 1,
      "views": {
       "grid_default": {
        "col": 0,
        "height": 4,
        "hidden": true,
        "row": 0,
        "width": 4
       },
       "report_default": {}
      }
     }
    }
   },
   "source": [
    "### Add treatment indicator from schools"
   ]
  },
  {
   "cell_type": "markdown",
   "metadata": {
    "extensions": {
     "jupyter_dashboards": {
      "version": 1,
      "views": {
       "grid_default": {
        "col": 4,
        "height": 4,
        "hidden": true,
        "row": 0,
        "width": 4
       },
       "report_default": {}
      }
     }
    }
   },
   "source": [
    "Add earlier school years"
   ]
  },
  {
   "cell_type": "code",
   "execution_count": 6,
   "metadata": {
    "extensions": {
     "jupyter_dashboards": {
      "version": 1,
      "views": {
       "grid_default": {
        "hidden": true
       },
       "report_default": {}
      }
     }
    }
   },
   "outputs": [],
   "source": [
    "school_years = ['SY0910', 'SY1011', 'SY1112', 'SY1213']\n",
    "earlier_routes = []\n",
    "routes_1314 = routes.query('school_year == \"SY1314\"')\n",
    "for sy in school_years:\n",
    "    temp_routes = routes_1314.copy()\n",
    "    temp_routes['school_year'] = sy\n",
    "    earlier_routes.append(temp_routes)\n",
    "\n",
    "routes = pd.concat([routes] + earlier_routes, ignore_index=True)"
   ]
  },
  {
   "cell_type": "code",
   "execution_count": 7,
   "metadata": {
    "extensions": {
     "jupyter_dashboards": {
      "version": 1,
      "views": {
       "grid_default": {
        "hidden": true
       },
       "report_default": {}
      }
     }
    }
   },
   "outputs": [],
   "source": [
    "assert not routes.duplicated(subset=['school_year', 'route_number']).any()"
   ]
  },
  {
   "cell_type": "code",
   "execution_count": 8,
   "metadata": {
    "extensions": {
     "jupyter_dashboards": {
      "version": 1,
      "views": {
       "grid_default": {
        "hidden": true
       },
       "report_default": {}
      }
     }
    }
   },
   "outputs": [],
   "source": [
    "routes = routes.merge(\n",
    "    schools[['school_name', 'school_year', 'treated']],\n",
    "    how='left',\n",
    "    on=['school_name', 'school_year'], validate='m:1')"
   ]
  },
  {
   "cell_type": "markdown",
   "metadata": {
    "extensions": {
     "jupyter_dashboards": {
      "version": 1,
      "views": {
       "grid_default": {
        "col": 8,
        "height": 4,
        "hidden": true,
        "row": 0,
        "width": 4
       },
       "report_default": {}
      }
     }
    }
   },
   "source": [
    "## Monthly crime rates"
   ]
  },
  {
   "cell_type": "markdown",
   "metadata": {
    "extensions": {
     "jupyter_dashboards": {
      "version": 1,
      "views": {
       "grid_default": {
        "col": 0,
        "height": 4,
        "hidden": true,
        "row": 0,
        "width": 4
       },
       "report_default": {}
      }
     }
    }
   },
   "source": [
    "### Only blocks which are in at least one year treated or one, two, or three cells over"
   ]
  },
  {
   "cell_type": "code",
   "execution_count": 10,
   "metadata": {
    "extensions": {
     "jupyter_dashboards": {
      "version": 1,
      "views": {
       "grid_default": {
        "col": 0,
        "height": 9,
        "hidden": true,
        "row": 0,
        "width": 12
       },
       "report_default": {}
      }
     }
    }
   },
   "outputs": [
    {
     "data": {
      "text/html": [
       "<div>\n",
       "<style scoped>\n",
       "    .dataframe tbody tr th:only-of-type {\n",
       "        vertical-align: middle;\n",
       "    }\n",
       "\n",
       "    .dataframe tbody tr th {\n",
       "        vertical-align: top;\n",
       "    }\n",
       "\n",
       "    .dataframe thead th {\n",
       "        text-align: right;\n",
       "    }\n",
       "</style>\n",
       "<table border=\"1\" class=\"dataframe\">\n",
       "  <thead>\n",
       "    <tr style=\"text-align: right;\">\n",
       "      <th></th>\n",
       "      <th>tract_bloc</th>\n",
       "      <th>school_year</th>\n",
       "      <th>Date</th>\n",
       "      <th>violent_count</th>\n",
       "      <th>property_count</th>\n",
       "      <th>route_number</th>\n",
       "      <th>school_name</th>\n",
       "      <th>treated</th>\n",
       "      <th>one_over</th>\n",
       "      <th>two_over</th>\n",
       "      <th>three_over</th>\n",
       "      <th>info</th>\n",
       "      <th>tb_sy</th>\n",
       "      <th>time_fe</th>\n",
       "    </tr>\n",
       "  </thead>\n",
       "  <tbody>\n",
       "    <tr>\n",
       "      <th>0</th>\n",
       "      <td>208011000.0</td>\n",
       "      <td>SY0506</td>\n",
       "      <td>2006-01-31</td>\n",
       "      <td>0.0</td>\n",
       "      <td>0.0</td>\n",
       "      <td>NaN</td>\n",
       "      <td>NaN</td>\n",
       "      <td>0.0</td>\n",
       "      <td>0</td>\n",
       "      <td>0</td>\n",
       "      <td>0</td>\n",
       "      <td>-</td>\n",
       "      <td>208011000.0SY0506</td>\n",
       "      <td>200601</td>\n",
       "    </tr>\n",
       "    <tr>\n",
       "      <th>1</th>\n",
       "      <td>208011000.0</td>\n",
       "      <td>SY0506</td>\n",
       "      <td>2006-02-28</td>\n",
       "      <td>0.0</td>\n",
       "      <td>0.0</td>\n",
       "      <td>NaN</td>\n",
       "      <td>NaN</td>\n",
       "      <td>0.0</td>\n",
       "      <td>0</td>\n",
       "      <td>0</td>\n",
       "      <td>0</td>\n",
       "      <td>-</td>\n",
       "      <td>208011000.0SY0506</td>\n",
       "      <td>200602</td>\n",
       "    </tr>\n",
       "    <tr>\n",
       "      <th>2</th>\n",
       "      <td>208011000.0</td>\n",
       "      <td>SY0506</td>\n",
       "      <td>2006-03-31</td>\n",
       "      <td>0.0</td>\n",
       "      <td>0.0</td>\n",
       "      <td>NaN</td>\n",
       "      <td>NaN</td>\n",
       "      <td>0.0</td>\n",
       "      <td>0</td>\n",
       "      <td>0</td>\n",
       "      <td>0</td>\n",
       "      <td>-</td>\n",
       "      <td>208011000.0SY0506</td>\n",
       "      <td>200603</td>\n",
       "    </tr>\n",
       "    <tr>\n",
       "      <th>3</th>\n",
       "      <td>208011000.0</td>\n",
       "      <td>SY0506</td>\n",
       "      <td>2006-04-30</td>\n",
       "      <td>0.0</td>\n",
       "      <td>0.0</td>\n",
       "      <td>NaN</td>\n",
       "      <td>NaN</td>\n",
       "      <td>0.0</td>\n",
       "      <td>0</td>\n",
       "      <td>0</td>\n",
       "      <td>0</td>\n",
       "      <td>-</td>\n",
       "      <td>208011000.0SY0506</td>\n",
       "      <td>200604</td>\n",
       "    </tr>\n",
       "    <tr>\n",
       "      <th>4</th>\n",
       "      <td>208011000.0</td>\n",
       "      <td>SY0506</td>\n",
       "      <td>2006-05-31</td>\n",
       "      <td>0.0</td>\n",
       "      <td>1.0</td>\n",
       "      <td>NaN</td>\n",
       "      <td>NaN</td>\n",
       "      <td>0.0</td>\n",
       "      <td>0</td>\n",
       "      <td>0</td>\n",
       "      <td>0</td>\n",
       "      <td>-</td>\n",
       "      <td>208011000.0SY0506</td>\n",
       "      <td>200605</td>\n",
       "    </tr>\n",
       "  </tbody>\n",
       "</table>\n",
       "</div>"
      ],
      "text/plain": [
       "    tract_bloc school_year       Date  violent_count  property_count  \\\n",
       "0  208011000.0      SY0506 2006-01-31            0.0             0.0   \n",
       "1  208011000.0      SY0506 2006-02-28            0.0             0.0   \n",
       "2  208011000.0      SY0506 2006-03-31            0.0             0.0   \n",
       "3  208011000.0      SY0506 2006-04-30            0.0             0.0   \n",
       "4  208011000.0      SY0506 2006-05-31            0.0             1.0   \n",
       "\n",
       "   route_number school_name  treated  one_over  two_over  three_over info  \\\n",
       "0           NaN         NaN      0.0         0         0           0    -   \n",
       "1           NaN         NaN      0.0         0         0           0    -   \n",
       "2           NaN         NaN      0.0         0         0           0    -   \n",
       "3           NaN         NaN      0.0         0         0           0    -   \n",
       "4           NaN         NaN      0.0         0         0           0    -   \n",
       "\n",
       "               tb_sy time_fe  \n",
       "0  208011000.0SY0506  200601  \n",
       "1  208011000.0SY0506  200602  \n",
       "2  208011000.0SY0506  200603  \n",
       "3  208011000.0SY0506  200604  \n",
       "4  208011000.0SY0506  200605  "
      ]
     },
     "execution_count": 10,
     "metadata": {},
     "output_type": "execute_result"
    }
   ],
   "source": [
    "with (data_path / 'processed/est_df.pkl').open('rb') as f:\n",
    "    est_df = pickle.load(f)\n",
    "est_df.head()"
   ]
  },
  {
   "cell_type": "markdown",
   "metadata": {
    "extensions": {
     "jupyter_dashboards": {
      "version": 1,
      "views": {
       "grid_default": {
        "col": 4,
        "height": 4,
        "hidden": true,
        "row": 0,
        "width": 4
       },
       "report_default": {}
      }
     }
    }
   },
   "source": [
    "According to Table 10 in McMillen et al. (2017), they had a sample size of 783,340 for the main specification. It is unclear, why I got more than double the observations."
   ]
  },
  {
   "cell_type": "code",
   "execution_count": 11,
   "metadata": {
    "extensions": {
     "jupyter_dashboards": {
      "version": 1,
      "views": {
       "grid_default": {
        "col": 8,
        "height": 4,
        "hidden": true,
        "row": 0,
        "width": 4
       },
       "report_default": {}
      }
     }
    }
   },
   "outputs": [
    {
     "data": {
      "text/plain": [
       "array(['SY0506', 'SY0607', 'SY0708', 'SY0809', 'SY0910', 'SY1011',\n",
       "       'SY1112', 'SY1213', 'SY1314', 'SY1415', 'SY1516'], dtype=object)"
      ]
     },
     "execution_count": 11,
     "metadata": {},
     "output_type": "execute_result"
    }
   ],
   "source": [
    "est_df['school_year'].unique()"
   ]
  },
  {
   "cell_type": "markdown",
   "metadata": {
    "extensions": {
     "jupyter_dashboards": {
      "version": 1,
      "views": {
       "grid_default": {
        "col": 0,
        "height": 4,
        "hidden": true,
        "row": 0,
        "width": 4
       },
       "report_default": {}
      }
     }
    }
   },
   "source": [
    "## Blocks with running variable for Figure 3"
   ]
  },
  {
   "cell_type": "code",
   "execution_count": 12,
   "metadata": {
    "extensions": {
     "jupyter_dashboards": {
      "version": 1,
      "views": {
       "grid_default": {
        "hidden": true
       },
       "report_default": {}
      }
     }
    }
   },
   "outputs": [],
   "source": [
    "with (data_path / 'processed/figures/blocks_fig_3.pkl').open('rb') as f:\n",
    "    blocks_fig_3 = pickle.load(f)"
   ]
  },
  {
   "cell_type": "markdown",
   "metadata": {
    "extensions": {
     "jupyter_dashboards": {
      "version": 1,
      "views": {
       "grid_default": {
        "col": 4,
        "height": 4,
        "hidden": true,
        "row": 0,
        "width": 4
       },
       "report_default": {}
      }
     }
    }
   },
   "source": [
    "### Aggregate"
   ]
  },
  {
   "cell_type": "code",
   "execution_count": 13,
   "metadata": {},
   "outputs": [
    {
     "data": {
      "text/html": [
       "<div>\n",
       "<style scoped>\n",
       "    .dataframe tbody tr th:only-of-type {\n",
       "        vertical-align: middle;\n",
       "    }\n",
       "\n",
       "    .dataframe tbody tr th {\n",
       "        vertical-align: top;\n",
       "    }\n",
       "\n",
       "    .dataframe thead th {\n",
       "        text-align: right;\n",
       "    }\n",
       "</style>\n",
       "<table border=\"1\" class=\"dataframe\">\n",
       "  <thead>\n",
       "    <tr style=\"text-align: right;\">\n",
       "      <th></th>\n",
       "      <th>tract_bloc</th>\n",
       "      <th>school_year</th>\n",
       "      <th>violent_count</th>\n",
       "      <th>property_count</th>\n",
       "      <th>treated</th>\n",
       "      <th>one_over</th>\n",
       "      <th>two_over</th>\n",
       "      <th>three_over</th>\n",
       "      <th>info</th>\n",
       "      <th>run_var_treated</th>\n",
       "      <th>run_var_one</th>\n",
       "      <th>run_var_two</th>\n",
       "      <th>run_var_three</th>\n",
       "      <th>run_var</th>\n",
       "      <th>block_status</th>\n",
       "    </tr>\n",
       "  </thead>\n",
       "  <tbody>\n",
       "    <tr>\n",
       "      <th>3</th>\n",
       "      <td>208011000.0</td>\n",
       "      <td>SY0809</td>\n",
       "      <td>0.0</td>\n",
       "      <td>0.0</td>\n",
       "      <td>0.0</td>\n",
       "      <td>0</td>\n",
       "      <td>0</td>\n",
       "      <td>0</td>\n",
       "      <td>-</td>\n",
       "      <td>NaN</td>\n",
       "      <td>NaN</td>\n",
       "      <td>NaN</td>\n",
       "      <td>-5.0</td>\n",
       "      <td>-5.0</td>\n",
       "      <td>Three over</td>\n",
       "    </tr>\n",
       "    <tr>\n",
       "      <th>4</th>\n",
       "      <td>208011000.0</td>\n",
       "      <td>SY0910</td>\n",
       "      <td>0.0</td>\n",
       "      <td>0.0</td>\n",
       "      <td>0.0</td>\n",
       "      <td>0</td>\n",
       "      <td>0</td>\n",
       "      <td>0</td>\n",
       "      <td>-</td>\n",
       "      <td>NaN</td>\n",
       "      <td>NaN</td>\n",
       "      <td>NaN</td>\n",
       "      <td>-4.0</td>\n",
       "      <td>-4.0</td>\n",
       "      <td>Three over</td>\n",
       "    </tr>\n",
       "    <tr>\n",
       "      <th>5</th>\n",
       "      <td>208011000.0</td>\n",
       "      <td>SY1011</td>\n",
       "      <td>0.0</td>\n",
       "      <td>0.0</td>\n",
       "      <td>0.0</td>\n",
       "      <td>0</td>\n",
       "      <td>0</td>\n",
       "      <td>0</td>\n",
       "      <td>-</td>\n",
       "      <td>NaN</td>\n",
       "      <td>NaN</td>\n",
       "      <td>NaN</td>\n",
       "      <td>-3.0</td>\n",
       "      <td>-3.0</td>\n",
       "      <td>Three over</td>\n",
       "    </tr>\n",
       "    <tr>\n",
       "      <th>6</th>\n",
       "      <td>208011000.0</td>\n",
       "      <td>SY1112</td>\n",
       "      <td>0.0</td>\n",
       "      <td>0.0</td>\n",
       "      <td>0.0</td>\n",
       "      <td>0</td>\n",
       "      <td>0</td>\n",
       "      <td>0</td>\n",
       "      <td>-</td>\n",
       "      <td>NaN</td>\n",
       "      <td>NaN</td>\n",
       "      <td>NaN</td>\n",
       "      <td>-2.0</td>\n",
       "      <td>-2.0</td>\n",
       "      <td>Three over</td>\n",
       "    </tr>\n",
       "    <tr>\n",
       "      <th>7</th>\n",
       "      <td>208011000.0</td>\n",
       "      <td>SY1213</td>\n",
       "      <td>0.0</td>\n",
       "      <td>0.0</td>\n",
       "      <td>0.0</td>\n",
       "      <td>0</td>\n",
       "      <td>0</td>\n",
       "      <td>0</td>\n",
       "      <td>-</td>\n",
       "      <td>NaN</td>\n",
       "      <td>NaN</td>\n",
       "      <td>NaN</td>\n",
       "      <td>-1.0</td>\n",
       "      <td>-1.0</td>\n",
       "      <td>Three over</td>\n",
       "    </tr>\n",
       "  </tbody>\n",
       "</table>\n",
       "</div>"
      ],
      "text/plain": [
       "    tract_bloc school_year  violent_count  property_count  treated  one_over  \\\n",
       "3  208011000.0      SY0809            0.0             0.0      0.0         0   \n",
       "4  208011000.0      SY0910            0.0             0.0      0.0         0   \n",
       "5  208011000.0      SY1011            0.0             0.0      0.0         0   \n",
       "6  208011000.0      SY1112            0.0             0.0      0.0         0   \n",
       "7  208011000.0      SY1213            0.0             0.0      0.0         0   \n",
       "\n",
       "   two_over  three_over info  run_var_treated  run_var_one  run_var_two  \\\n",
       "3         0           0    -              NaN          NaN          NaN   \n",
       "4         0           0    -              NaN          NaN          NaN   \n",
       "5         0           0    -              NaN          NaN          NaN   \n",
       "6         0           0    -              NaN          NaN          NaN   \n",
       "7         0           0    -              NaN          NaN          NaN   \n",
       "\n",
       "   run_var_three  run_var block_status  \n",
       "3           -5.0     -5.0   Three over  \n",
       "4           -4.0     -4.0   Three over  \n",
       "5           -3.0     -3.0   Three over  \n",
       "6           -2.0     -2.0   Three over  \n",
       "7           -1.0     -1.0   Three over  "
      ]
     },
     "execution_count": 13,
     "metadata": {},
     "output_type": "execute_result"
    }
   ],
   "source": [
    "blocks_fig_3.head()"
   ]
  },
  {
   "cell_type": "code",
   "execution_count": 14,
   "metadata": {
    "extensions": {
     "jupyter_dashboards": {
      "version": 1,
      "views": {
       "grid_default": {
        "hidden": true
       },
       "report_default": {}
      }
     }
    }
   },
   "outputs": [],
   "source": [
    "blocks_fig_3 = blocks_fig_3.groupby(['run_var', 'block_status']).agg({\n",
    "    'violent_count':\n",
    "    'mean',\n",
    "    'property_count':\n",
    "    'mean'\n",
    "}).reset_index()"
   ]
  },
  {
   "cell_type": "code",
   "execution_count": 15,
   "metadata": {
    "extensions": {
     "jupyter_dashboards": {
      "version": 1,
      "views": {
       "grid_default": {
        "col": 8,
        "height": 8,
        "hidden": true,
        "row": 0,
        "width": 4
       },
       "report_default": {}
      }
     }
    }
   },
   "outputs": [
    {
     "data": {
      "text/html": [
       "<div>\n",
       "<style scoped>\n",
       "    .dataframe tbody tr th:only-of-type {\n",
       "        vertical-align: middle;\n",
       "    }\n",
       "\n",
       "    .dataframe tbody tr th {\n",
       "        vertical-align: top;\n",
       "    }\n",
       "\n",
       "    .dataframe thead th {\n",
       "        text-align: right;\n",
       "    }\n",
       "</style>\n",
       "<table border=\"1\" class=\"dataframe\">\n",
       "  <thead>\n",
       "    <tr style=\"text-align: right;\">\n",
       "      <th></th>\n",
       "      <th>run_var</th>\n",
       "      <th>block_status</th>\n",
       "      <th>violent_count</th>\n",
       "      <th>property_count</th>\n",
       "    </tr>\n",
       "  </thead>\n",
       "  <tbody>\n",
       "    <tr>\n",
       "      <th>0</th>\n",
       "      <td>-5.0</td>\n",
       "      <td>One over</td>\n",
       "      <td>0.255826</td>\n",
       "      <td>1.123252</td>\n",
       "    </tr>\n",
       "    <tr>\n",
       "      <th>1</th>\n",
       "      <td>-5.0</td>\n",
       "      <td>Three over</td>\n",
       "      <td>0.205269</td>\n",
       "      <td>0.949273</td>\n",
       "    </tr>\n",
       "    <tr>\n",
       "      <th>2</th>\n",
       "      <td>-5.0</td>\n",
       "      <td>Treated</td>\n",
       "      <td>0.418735</td>\n",
       "      <td>1.427542</td>\n",
       "    </tr>\n",
       "    <tr>\n",
       "      <th>3</th>\n",
       "      <td>-5.0</td>\n",
       "      <td>Two over</td>\n",
       "      <td>0.275023</td>\n",
       "      <td>1.078512</td>\n",
       "    </tr>\n",
       "    <tr>\n",
       "      <th>4</th>\n",
       "      <td>-4.0</td>\n",
       "      <td>One over</td>\n",
       "      <td>0.235654</td>\n",
       "      <td>0.907661</td>\n",
       "    </tr>\n",
       "  </tbody>\n",
       "</table>\n",
       "</div>"
      ],
      "text/plain": [
       "   run_var block_status  violent_count  property_count\n",
       "0     -5.0     One over       0.255826        1.123252\n",
       "1     -5.0   Three over       0.205269        0.949273\n",
       "2     -5.0      Treated       0.418735        1.427542\n",
       "3     -5.0     Two over       0.275023        1.078512\n",
       "4     -4.0     One over       0.235654        0.907661"
      ]
     },
     "execution_count": 15,
     "metadata": {},
     "output_type": "execute_result"
    }
   ],
   "source": [
    "blocks_fig_3.head()"
   ]
  },
  {
   "cell_type": "markdown",
   "metadata": {
    "extensions": {
     "jupyter_dashboards": {
      "version": 1,
      "views": {
       "grid_default": {
        "col": 0,
        "height": 4,
        "hidden": true,
        "row": 0,
        "width": 4
       },
       "report_default": {}
      }
     }
    }
   },
   "source": [
    "## Yearly crime counts"
   ]
  },
  {
   "cell_type": "code",
   "execution_count": 16,
   "metadata": {
    "extensions": {
     "jupyter_dashboards": {
      "version": 1,
      "views": {
       "grid_default": {
        "hidden": true
       },
       "report_default": {}
      }
     }
    }
   },
   "outputs": [],
   "source": [
    "with (data_path / 'processed/figures/violent_yearly_counts.pkl').open('rb') as f:\n",
    "    yearly_crime_counts = pickle.load(f)\n",
    "yearly_crime_counts['violent'] = yearly_crime_counts['violent'].map({0: 'Property', 1: 'Violent'})"
   ]
  },
  {
   "cell_type": "markdown",
   "metadata": {
    "extensions": {
     "jupyter_dashboards": {
      "version": 1,
      "views": {
       "grid_default": {
        "col": 0,
        "height": 7,
        "hidden": true,
        "row": 4,
        "width": 12
       },
       "report_default": {}
      }
     }
    }
   },
   "source": [
    "# Analysis of estimation dataset\n",
    "**Goals**: \n",
    "\n",
    "* Find out why I have almost double the number of observations then McMillen et al. (2017)\n",
    "    * Part of the answer probably is that blocks with all 0 counts get dropped during regression due to fixed effects. As I have a more recent crime dataset, I might also have more crimes which could be matched to a census block, because of more information available.\n",
    "* Replicate Figure 3 in McMillen et al. (2017)"
   ]
  },
  {
   "cell_type": "code",
   "execution_count": 17,
   "metadata": {
    "extensions": {
     "jupyter_dashboards": {
      "version": 1,
      "views": {
       "grid_default": {
        "hidden": true
       },
       "report_default": {}
      }
     }
    }
   },
   "outputs": [],
   "source": [
    "assert not est_df[['tract_bloc', 'Date']].duplicated().any()"
   ]
  },
  {
   "cell_type": "code",
   "execution_count": 18,
   "metadata": {
    "extensions": {
     "jupyter_dashboards": {
      "version": 1,
      "views": {
       "grid_default": {
        "col": 0,
        "height": 13,
        "hidden": true,
        "row": 0,
        "width": 4
       },
       "report_default": {}
      }
     }
    }
   },
   "outputs": [
    {
     "name": "stdout",
     "output_type": "stream",
     "text": [
      "<class 'pandas.core.frame.DataFrame'>\n",
      "RangeIndex: 1697166 entries, 0 to 1697165\n",
      "Data columns (total 14 columns):\n",
      "tract_bloc        float64\n",
      "school_year       object\n",
      "Date              datetime64[ns]\n",
      "violent_count     float64\n",
      "property_count    float64\n",
      "route_number      float64\n",
      "school_name       object\n",
      "treated           float64\n",
      "one_over          int64\n",
      "two_over          int64\n",
      "three_over        int64\n",
      "info              object\n",
      "tb_sy             object\n",
      "time_fe           object\n",
      "dtypes: datetime64[ns](1), float64(5), int64(3), object(5)\n",
      "memory usage: 181.3+ MB\n"
     ]
    }
   ],
   "source": [
    "est_df.info()"
   ]
  },
  {
   "cell_type": "code",
   "execution_count": 19,
   "metadata": {
    "extensions": {
     "jupyter_dashboards": {
      "version": 1,
      "views": {
       "grid_default": {
        "col": 4,
        "height": 5,
        "hidden": true,
        "row": 4,
        "width": 4
       },
       "report_default": {}
      }
     }
    }
   },
   "outputs": [
    {
     "data": {
      "text/plain": [
       "count                 1697166\n",
       "unique                    106\n",
       "top       2010-10-31 00:00:00\n",
       "freq                    16011\n",
       "first     2006-01-31 00:00:00\n",
       "last      2016-06-30 00:00:00\n",
       "Name: Date, dtype: object"
      ]
     },
     "execution_count": 19,
     "metadata": {},
     "output_type": "execute_result"
    }
   ],
   "source": [
    "est_df['Date'].describe()"
   ]
  },
  {
   "cell_type": "markdown",
   "metadata": {
    "extensions": {
     "jupyter_dashboards": {
      "version": 1,
      "views": {
       "grid_default": {
        "col": 0,
        "height": 2,
        "hidden": false,
        "row": 0,
        "width": 12
       },
       "report_default": {}
      }
     }
    }
   },
   "source": [
    "# Replication of descriptives"
   ]
  },
  {
   "cell_type": "markdown",
   "metadata": {
    "extensions": {
     "jupyter_dashboards": {
      "version": 1,
      "views": {
       "grid_default": {
        "col": 0,
        "height": 25,
        "hidden": false,
        "row": 2,
        "width": 12
       },
       "report_default": {}
      }
     }
    }
   },
   "source": [
    "## Figure A.2\n",
    "![figure_a2](../../reports/figures/mcmillen_fig_a2.png)"
   ]
  },
  {
   "cell_type": "code",
   "execution_count": 20,
   "metadata": {
    "extensions": {
     "jupyter_dashboards": {
      "version": 1,
      "views": {
       "grid_default": {
        "col": 0,
        "height": 17,
        "hidden": false,
        "row": 27,
        "width": 12
       },
       "report_default": {}
      }
     }
    }
   },
   "outputs": [
    {
     "data": {
      "text/html": [
       "<div class=\"vega-embed\" id=\"2203cd45-20db-47a6-ab85-51259c9579d0\"></div>\n",
       "\n",
       "<style>\n",
       ".vega-embed .vega-actions > a {\n",
       "    transition: opacity 200ms ease-in;\n",
       "    opacity: 0.3;\n",
       "    margin-right: 0.6em;\n",
       "    color: #444;\n",
       "    text-decoration: none;\n",
       "}\n",
       "\n",
       ".vega-embed .vega-actions > a:hover {\n",
       "    color: #000;\n",
       "    text-decoration: underline;\n",
       "}\n",
       "\n",
       ".vega-embed:hover .vega-actions > a {\n",
       "    opacity: 1;\n",
       "    transition: 0s;\n",
       "}\n",
       "\n",
       ".vega-embed .error p {\n",
       "    color: firebrick;\n",
       "    font-size: 1.2em;\n",
       "}\n",
       "</style>\n"
      ]
     },
     "metadata": {
      "jupyter-vega3": "#2203cd45-20db-47a6-ab85-51259c9579d0"
     },
     "output_type": "display_data"
    },
    {
     "data": {
      "application/javascript": [
       "var spec = {\"config\": {\"view\": {\"width\": 400, \"height\": 300}, \"axis\": {\"labelFontSize\": 12, \"titleFontSize\": 12}, \"legend\": {\"labelFontSize\": 12, \"titleFontSize\": 12}}, \"data\": {\"values\": [{\"violent\": \"Property\", \"Date\": 2006, \"count\": 133093}, {\"violent\": \"Property\", \"Date\": 2007, \"count\": 129288}, {\"violent\": \"Property\", \"Date\": 2008, \"count\": 134161}, {\"violent\": \"Property\", \"Date\": 2009, \"count\": 123827}, {\"violent\": \"Property\", \"Date\": 2010, \"count\": 122713}, {\"violent\": \"Property\", \"Date\": 2011, \"count\": 121651}, {\"violent\": \"Property\", \"Date\": 2012, \"count\": 115259}, {\"violent\": \"Property\", \"Date\": 2013, \"count\": 102359}, {\"violent\": \"Property\", \"Date\": 2014, \"count\": 86427}, {\"violent\": \"Property\", \"Date\": 2015, \"count\": 81022}, {\"violent\": \"Property\", \"Date\": 2016, \"count\": 87662}, {\"violent\": \"Property\", \"Date\": 2017, \"count\": 88651}, {\"violent\": \"Violent\", \"Date\": 2006, \"count\": 35806}, {\"violent\": \"Violent\", \"Date\": 2007, \"count\": 35216}, {\"violent\": \"Violent\", \"Date\": 2008, \"count\": 36000}, {\"violent\": \"Violent\", \"Date\": 2009, \"count\": 34198}, {\"violent\": \"Violent\", \"Date\": 2010, \"count\": 30963}, {\"violent\": \"Violent\", \"Date\": 2011, \"count\": 29612}, {\"violent\": \"Violent\", \"Date\": 2012, \"count\": 28430}, {\"violent\": \"Violent\", \"Date\": 2013, \"count\": 24540}, {\"violent\": \"Violent\", \"Date\": 2014, \"count\": 22595}, {\"violent\": \"Violent\", \"Date\": 2015, \"count\": 23145}, {\"violent\": \"Violent\", \"Date\": 2016, \"count\": 28176}, {\"violent\": \"Violent\", \"Date\": 2017, \"count\": 27850}]}, \"mark\": \"line\", \"encoding\": {\"color\": {\"type\": \"nominal\", \"field\": \"violent\", \"legend\": {\"title\": \"Crime category\"}}, \"x\": {\"type\": \"ordinal\", \"axis\": {\"labelAngle\": 0, \"title\": \"Year\"}, \"field\": \"Date\"}, \"y\": {\"type\": \"quantitative\", \"axis\": {\"title\": \"Number of crimes (in thousands)\"}, \"field\": \"count\"}}, \"height\": 400, \"width\": 600, \"$schema\": \"https://vega.github.io/schema/vega-lite/v2.4.3.json\"};\n",
       "var opt = {};\n",
       "var selector = \"#2203cd45-20db-47a6-ab85-51259c9579d0\";\n",
       "var type = \"vega-lite\";\n",
       "\n",
       "var output_area = this;\n",
       "\n",
       "require(['nbextensions/jupyter-vega3/index'], function(vega) {\n",
       "  vega.render(selector, spec, type, opt, output_area);\n",
       "}, function (err) {\n",
       "  if (err.requireType !== 'scripterror') {\n",
       "    throw(err);\n",
       "  }\n",
       "});\n"
      ]
     },
     "metadata": {
      "jupyter-vega3": "#2203cd45-20db-47a6-ab85-51259c9579d0"
     },
     "output_type": "display_data"
    },
    {
     "data": {
      "text/plain": []
     },
     "execution_count": 20,
     "metadata": {},
     "output_type": "execute_result"
    },
    {
     "data": {
      "image/png": "[encoded data removed]"
     },
     "metadata": {
      "jupyter-vega3": "#2203cd45-20db-47a6-ab85-51259c9579d0"
     },
     "output_type": "display_data"
    },
    {
     "data": {
      "image/png": "[encoded data removed]"
     },
     "metadata": {
      "jupyter-vega3": "#2203cd45-20db-47a6-ab85-51259c9579d0"
     },
     "output_type": "display_data"
    }
   ],
   "source": [
    "yearly_violent_trend = format_chart(alt.Chart(yearly_crime_counts).mark_line().encode(\n",
    "    alt.X('Date:O', axis=alt.Axis(title='Year', labelAngle=0)),\n",
    "    alt.Y('count:Q', axis=alt.Axis(title='Number of crimes (in thousands)')),\n",
    "    alt.Color('violent:N',\n",
    "              legend=alt.Legend(title='Crime category'))))\n",
    "yearly_violent_trend"
   ]
  },
  {
   "cell_type": "code",
   "execution_count": 21,
   "metadata": {
    "extensions": {
     "jupyter_dashboards": {
      "version": 1,
      "views": {
       "grid_default": {
        "hidden": true
       },
       "report_default": {}
      }
     }
    }
   },
   "outputs": [],
   "source": [
    "save_to_jekyll(yearly_violent_trend, 'yearly_violent_trend')"
   ]
  },
  {
   "cell_type": "markdown",
   "metadata": {
    "extensions": {
     "jupyter_dashboards": {
      "version": 1,
      "views": {
       "grid_default": {
        "col": 0,
        "height": 15,
        "hidden": false,
        "row": 44,
        "width": 6
       },
       "report_default": {}
      }
     }
    }
   },
   "source": [
    "## Table 1\n",
    "![table_1](../../reports/figures/mcmillen_tab_1.png)"
   ]
  },
  {
   "cell_type": "code",
   "execution_count": 22,
   "metadata": {
    "extensions": {
     "jupyter_dashboards": {
      "version": 1,
      "views": {
       "grid_default": {
        "col": 6,
        "height": 12,
        "hidden": false,
        "row": 44,
        "width": 6
       },
       "report_default": {}
      }
     }
    }
   },
   "outputs": [
    {
     "data": {
      "text/html": [
       "<div>\n",
       "<style scoped>\n",
       "    .dataframe tbody tr th:only-of-type {\n",
       "        vertical-align: middle;\n",
       "    }\n",
       "\n",
       "    .dataframe tbody tr th {\n",
       "        vertical-align: top;\n",
       "    }\n",
       "\n",
       "    .dataframe thead th {\n",
       "        text-align: right;\n",
       "    }\n",
       "</style>\n",
       "<table border=\"1\" class=\"dataframe\">\n",
       "  <thead>\n",
       "    <tr style=\"text-align: right;\">\n",
       "      <th></th>\n",
       "      <th>school_year</th>\n",
       "      <th>routes_added</th>\n",
       "      <th>schools_added</th>\n",
       "    </tr>\n",
       "  </thead>\n",
       "  <tbody>\n",
       "    <tr>\n",
       "      <th>0</th>\n",
       "      <td>SY0910</td>\n",
       "      <td>32.0</td>\n",
       "      <td>35.0</td>\n",
       "    </tr>\n",
       "    <tr>\n",
       "      <th>1</th>\n",
       "      <td>SY1011</td>\n",
       "      <td>0.0</td>\n",
       "      <td>0.0</td>\n",
       "    </tr>\n",
       "    <tr>\n",
       "      <th>2</th>\n",
       "      <td>SY1112</td>\n",
       "      <td>0.0</td>\n",
       "      <td>0.0</td>\n",
       "    </tr>\n",
       "    <tr>\n",
       "      <th>3</th>\n",
       "      <td>SY1213</td>\n",
       "      <td>4.0</td>\n",
       "      <td>4.0</td>\n",
       "    </tr>\n",
       "    <tr>\n",
       "      <th>4</th>\n",
       "      <td>SY1314</td>\n",
       "      <td>50.0</td>\n",
       "      <td>53.0</td>\n",
       "    </tr>\n",
       "    <tr>\n",
       "      <th>5</th>\n",
       "      <td>SY1415</td>\n",
       "      <td>34.0</td>\n",
       "      <td>41.0</td>\n",
       "    </tr>\n",
       "    <tr>\n",
       "      <th>6</th>\n",
       "      <td>SY1516</td>\n",
       "      <td>3.0</td>\n",
       "      <td>3.0</td>\n",
       "    </tr>\n",
       "    <tr>\n",
       "      <th>7</th>\n",
       "      <td>total</td>\n",
       "      <td>123.0</td>\n",
       "      <td>136.0</td>\n",
       "    </tr>\n",
       "  </tbody>\n",
       "</table>\n",
       "</div>"
      ],
      "text/plain": [
       "  school_year  routes_added  schools_added\n",
       "0      SY0910          32.0           35.0\n",
       "1      SY1011           0.0            0.0\n",
       "2      SY1112           0.0            0.0\n",
       "3      SY1213           4.0            4.0\n",
       "4      SY1314          50.0           53.0\n",
       "5      SY1415          34.0           41.0\n",
       "6      SY1516           3.0            3.0\n",
       "7       total         123.0          136.0"
      ]
     },
     "execution_count": 22,
     "metadata": {},
     "output_type": "execute_result"
    }
   ],
   "source": [
    "table_1 = schools.groupby('school_year')['treated'].sum().diff().rename(\n",
    "    'schools_added').reset_index()\n",
    "table_1.loc[table_1['school_year'] == 'SY0910', 'schools_added'] = schools.loc[\n",
    "    schools['school_year'] == 'SY0910', 'treated'].sum()\n",
    "table_1_routes = routes.groupby('school_year')['treated'].sum().diff().rename(\n",
    "    'routes_added').reset_index()\n",
    "table_1_routes.loc[table_1_routes['school_year'] == 'SY0910',\n",
    "                   'routes_added'] = routes.loc[routes['school_year'] ==\n",
    "                                                'SY0910', 'treated'].sum()\n",
    "table_1 = pd.merge(table_1_routes, table_1, how='inner', on='school_year')\n",
    "table_1 = pd.concat(\n",
    "    [\n",
    "        table_1,\n",
    "        pd.DataFrame.from_dict([{\n",
    "            'school_year': 'total',\n",
    "            'routes_added': table_1['routes_added'].sum(),\n",
    "            'schools_added': table_1['schools_added'].sum()\n",
    "        }])\n",
    "    ],\n",
    "    sort=True,\n",
    "    ignore_index=True)\n",
    "table_1 = table_1[['school_year', 'routes_added', 'schools_added']]\n",
    "table_1"
   ]
  },
  {
   "cell_type": "markdown",
   "metadata": {
    "extensions": {
     "jupyter_dashboards": {
      "version": 1,
      "views": {
       "grid_default": {
        "col": 0,
        "height": 29,
        "hidden": false,
        "row": 59,
        "width": 12
       },
       "report_default": {}
      }
     }
    }
   },
   "source": [
    "## Table 2\n",
    "![table_2](../../reports/figures/mcmillen_tab_2.png)"
   ]
  },
  {
   "cell_type": "markdown",
   "metadata": {
    "extensions": {
     "jupyter_dashboards": {
      "version": 1,
      "views": {
       "grid_default": {
        "col": 0,
        "height": 4,
        "hidden": false,
        "row": 88,
        "width": 12
       },
       "report_default": {}
      }
     }
    }
   },
   "source": [
    "## Figure 3"
   ]
  },
  {
   "cell_type": "markdown",
   "metadata": {
    "extensions": {
     "jupyter_dashboards": {
      "version": 1,
      "views": {
       "grid_default": {
        "col": 0,
        "height": 6,
        "hidden": true,
        "row": 13,
        "width": 12
       },
       "report_default": {}
      }
     }
    }
   },
   "source": [
    ">*\"Given the phased way the program was implemented, we normalize to a common start and show the averages for the five pre-program years and for three post-program years. Figure 3a and 3b show that the program was indeed implemented in areas with higher crime incidents but there are no obvious differences in trends before the program implementation. Furthermore, control cells show no significant differences in levels or trends. What is more, after the implementation in the program there’s a drop in the average number of crimes when compared to control areas.\"* - McMillen et al. (2017), p. 10"
   ]
  },
  {
   "cell_type": "markdown",
   "metadata": {
    "extensions": {
     "jupyter_dashboards": {
      "version": 1,
      "views": {
       "grid_default": {
        "col": 8,
        "height": 4,
        "hidden": true,
        "row": 0,
        "width": 4
       },
       "report_default": {}
      }
     }
    }
   },
   "source": [
    "Assumption: For figure, drop all blocks which switch status."
   ]
  },
  {
   "cell_type": "markdown",
   "metadata": {
    "extensions": {
     "jupyter_dashboards": {
      "version": 1,
      "views": {
       "grid_default": {
        "col": 0,
        "height": 32,
        "hidden": false,
        "row": 92,
        "width": 12
       },
       "report_default": {}
      }
     }
    }
   },
   "source": [
    "![Figure 3](../../reports/figures/mcmillen_fig_3.png)"
   ]
  },
  {
   "cell_type": "code",
   "execution_count": 23,
   "metadata": {
    "extensions": {
     "jupyter_dashboards": {
      "version": 1,
      "views": {
       "grid_default": {
        "col": 0,
        "height": 4,
        "hidden": false,
        "row": 124,
        "width": 12
       },
       "report_default": {}
      }
     }
    }
   },
   "outputs": [
    {
     "data": {
      "application/vnd.jupyter.widget-view+json": {
       "model_id": "5823caf45a7d46f8b5b52054a37dbe69",
       "version_major": 2,
       "version_minor": 0
      },
      "text/plain": [
       "Tab(children=(Output(), Output()), _titles={'0': 'Violent crimes', '1': 'Property crimes'})"
      ]
     },
     "metadata": {},
     "output_type": "display_data"
    }
   ],
   "source": [
    "def make_crime_block_chart(count_col):\n",
    "    implementation_info = pd.DataFrame([{'implement_year': -0.5}])\n",
    "\n",
    "    base = alt.Chart().mark_line(clip=True).encode(\n",
    "        alt.X(\n",
    "            'run_var:Q',\n",
    "            axis=alt.Axis(\n",
    "                title='School years before/after implementation of SP program',\n",
    "                values=list(range(-5, 3)),\n",
    "                format='.1'),\n",
    "            scale=alt.Scale(domain=[-5, 3])),\n",
    "        alt.Y(\n",
    "            f'{count_col}',\n",
    "            axis=alt.Axis(title='Crime count per school year')),\n",
    "        alt.Color(\n",
    "            'block_status:N',\n",
    "            title='Block status',\n",
    "            sort=[\n",
    "                'Treated', 'One over', 'Two over',\n",
    "                'Three over'\n",
    "            ]))\n",
    "\n",
    "    \n",
    "    implementation_rule = alt.Chart(implementation_info).mark_rule().encode(\n",
    "        x='implement_year:Q')\n",
    "\n",
    "    implementation_text = alt.Chart(implementation_info).mark_text(\n",
    "        angle=270, dy=-5, dx=-100).encode(\n",
    "            alt.X('implement_year:Q'), text=alt.value('Implementation'))\n",
    "\n",
    "    return alt.layer(\n",
    "        base.transform_filter('datum.run_var < 0'),\n",
    "        base.transform_filter('datum.run_var >= 0').encode(\n",
    "            alt.Color(\n",
    "                'block_status:N',\n",
    "                sort=[\n",
    "                    'Treated', 'One over', 'Two over',\n",
    "                    'Three over'\n",
    "                ],\n",
    "                legend=None)),\n",
    "        implementation_rule,\n",
    "        implementation_text,\n",
    "        data=blocks_fig_3[[\n",
    "            'run_var',\n",
    "            count_col,\n",
    "            'block_status',\n",
    "        ]],\n",
    "        # Makes legends independent of one another (needed for sorting to work)\n",
    "        resolve=alt.Resolve(\n",
    "            scale=alt.LegendResolveMap(color=alt.ResolveMode('independent'))))\n",
    "\n",
    "\n",
    "out_violent_crimes = widgets.Output()\n",
    "out_property_crimes = widgets.Output()\n",
    "\n",
    "tab = widgets.Tab()\n",
    "tab.children = [out_violent_crimes, out_property_crimes]\n",
    "tab.set_title(0, 'Violent crimes')\n",
    "tab.set_title(1, 'Property crimes')\n",
    "\n",
    "fig3_violent = format_chart(make_crime_block_chart('violent_count'))\n",
    "fig3_property = format_chart(make_crime_block_chart('property_count'))\n",
    "\n",
    "with out_violent_crimes:\n",
    "    fig3_violent.display()\n",
    "\n",
    "with out_property_crimes:\n",
    "    fig3_property.display()\n",
    "\n",
    "tab"
   ]
  },
  {
   "cell_type": "markdown",
   "metadata": {
    "extensions": {
     "jupyter_dashboards": {
      "version": 1,
      "views": {
       "grid_default": {
        "col": 0,
        "height": 4,
        "hidden": true,
        "row": 9,
        "width": 12
       },
       "report_default": {}
      }
     }
    }
   },
   "source": [
    "Crime levels are way higher in replication figure. This is certainly at least in part explainable by the different unit of measurement. For this figure they used artificially constructed cells of 1/8th mile on 1/8th mile squares. The census blocks I used have on average a higher area."
   ]
  },
  {
   "cell_type": "markdown",
   "metadata": {
    "extensions": {
     "jupyter_dashboards": {
      "version": 1,
      "views": {
       "grid_default": {
        "col": 4,
        "height": 4,
        "hidden": true,
        "row": 0,
        "width": 4
       },
       "report_default": {}
      }
     }
    }
   },
   "source": [
    "Save for use on website"
   ]
  },
  {
   "cell_type": "code",
   "execution_count": 24,
   "metadata": {
    "extensions": {
     "jupyter_dashboards": {
      "version": 1,
      "views": {
       "grid_default": {
        "hidden": true
       },
       "report_default": {}
      }
     }
    }
   },
   "outputs": [],
   "source": [
    "save_to_jekyll(fig3_violent, 'did_figure_violent')\n",
    "save_to_jekyll(fig3_property, 'did_figure_property')"
   ]
  },
  {
   "cell_type": "markdown",
   "metadata": {
    "extensions": {
     "jupyter_dashboards": {
      "version": 1,
      "views": {
       "grid_default": {
        "col": 0,
        "height": 4,
        "hidden": false,
        "row": 128,
        "width": 12
       },
       "report_default": {}
      }
     }
    }
   },
   "source": [
    "# Replication of main results"
   ]
  },
  {
   "cell_type": "markdown",
   "metadata": {
    "extensions": {
     "jupyter_dashboards": {
      "version": 1,
      "views": {
       "grid_default": {
        "col": 0,
        "height": 12,
        "hidden": false,
        "row": 132,
        "width": 7
       },
       "report_default": {}
      }
     }
    }
   },
   "source": [
    "## Table 10 (column 3 and 7)\n",
    "![table_10](../../reports/figures/mcmillen_tab_10.png)"
   ]
  },
  {
   "cell_type": "markdown",
   "metadata": {
    "extensions": {
     "jupyter_dashboards": {
      "version": 1,
      "views": {
       "grid_default": {
        "col": 0,
        "height": 20,
        "hidden": true,
        "row": 5,
        "width": null
       },
       "report_default": {}
      }
     }
    }
   },
   "source": [
    "### Empirical Strategy\n",
    "$$\n",
    "crimes_{it} = \\beta \\textit{ treated_block}_{it} + \\gamma_1 \\textit{ one_block_over}_{it} + \\gamma_2 \\textit{ two_block_over}_{it} + \\delta_i + \\lambda_t + e_{it}\n",
    "$$\n",
    "\n",
    "* $crimes_{it}$: either the is the monthly violent or the property crime count at school times\n",
    "* $treated_block_{it}$ is an indicator variable taking one for blocks in the months that are guarded by Safe Passage personnel\n",
    "* $one\\_block\\_over_{it}$, $two\\_block\\_over_{it}$: indicators for the months after the Safe Passage was enacted if the blocks are one or two blocks over.\n",
    "\n",
    "Fixed effects:\n",
    "\n",
    "* $\\delta_i$: cell fixed effects\n",
    "* $\\lambda_t$: time fixed effects\n",
    "\n",
    "Model:\n",
    "\n",
    "* Poisson regression\n",
    "    * \"The interpretation of a difference-in-difference coefficient from a Poisson regression is $\\exp(9) − 1$. However, note that for small enough $\\beta$, the approximation $\\exp(9) − 1 \\approx \\beta$ is valid.\"\n",
    "    \n",
    "Period of analysis:\n",
    "\n",
    "* January 2006 - August 2016\n",
    "\n",
    "Standard errors clustered by:\n",
    "\n",
    "* Blocks (they cluster at routes level)\n",
    "\n",
    "Assumptions:\n",
    "* If a block is not treated yet it can serve as a control"
   ]
  },
  {
   "cell_type": "markdown",
   "metadata": {
    "extensions": {
     "jupyter_dashboards": {
      "version": 1,
      "views": {
       "grid_default": {
        "col": 0,
        "height": 5,
        "hidden": true,
        "row": 5,
        "width": 12
       },
       "report_default": {}
      }
     }
    }
   },
   "source": [
    "### Estimation\n",
    "The estimation is done using the R package [glmmML](https://cran.r-project.org/web/packages/glmmML/glmmML.pdf). As it takes quite long to fit the models, they are already supplied in the `../../models/` folder. One with violent crime count as dependent variable, and the other one with property crime counts. If you want to rerun the estimation (might not work if you run this notebook on mybinder.org), set the following parameter to `True`."
   ]
  },
  {
   "cell_type": "code",
   "execution_count": null,
   "metadata": {
    "extensions": {
     "jupyter_dashboards": {
      "version": 1,
      "views": {
       "grid_default": {
        "hidden": true
       },
       "report_default": {}
      }
     }
    }
   },
   "outputs": [],
   "source": [
    "rerun_estimations = False"
   ]
  },
  {
   "cell_type": "code",
   "execution_count": null,
   "metadata": {
    "extensions": {
     "jupyter_dashboards": {
      "version": 1,
      "views": {
       "grid_default": {
        "col": 4,
        "height": 5,
        "hidden": true,
        "row": 0,
        "width": 4
       },
       "report_default": {}
      }
     }
    }
   },
   "outputs": [],
   "source": [
    "if rerun_estimations:\n",
    "    # Load packages\n",
    "    tidyverse = importr('tidyverse')\n",
    "    glmmML = importr('glmmML')\n",
    "\n",
    "    # Define functions\n",
    "    robjects.r(\"\"\"summary_df <- function(model){\n",
    "      vars <- names(glm_model_violent$coefficients)[1:3]\n",
    "      coef <- as.vector(model$coefficients[1:3])\n",
    "      se <- as.vector(model$sd[1:3])\n",
    "      z <- coef/se\n",
    "      p <- 1 - pchisq((z)^2, 1)\n",
    "      n <- glm_model_violent$n\n",
    "      return(tibble(var = vars, coef = coef, se = se, z = z, p = p, n = n))\n",
    "    }\n",
    "\n",
    "    fit_poisson <- function(df, count_var){\n",
    "      df$count <- df[[count_var]]\n",
    "      # First drop all blocks with constant crime count\n",
    "      # as level would be taken out by tract bloc fixed effects anyway\n",
    "      non_constant <- df %>%\n",
    "        group_by(tract_bloc) %>%\n",
    "        summarize(sd_count = sd(count)) %>%\n",
    "        filter(sd_count > 0)\n",
    "\n",
    "      df_nc <- df %>%\n",
    "        filter(tract_bloc %in% non_constant$tract_bloc) %>%\n",
    "        select(count, treated, one_over, two_over, tract_bloc, time_fe)\n",
    "      df_nc$tract_bloc <- as.factor(df_nc$tract_bloc)\n",
    "\n",
    "      # Fit model\n",
    "      print(paste0(\"Fit model with \", count_var))\n",
    "      poisson_model <- glmmboot(count ~ treated + one_over + two_over + factor(time_fe),\n",
    "                                    family = poisson, data = df_nc, cluster = tract_bloc)\n",
    "      return(poisson_model)\n",
    "    }\n",
    "    \"\"\")\n",
    "\n",
    "    # Load data\n",
    "    print('Convert Python data to R')\n",
    "    pandas2ri.activate()\n",
    "    robjects.globalenv['est_df'] = pandas2ri.py2ri(est_df[[\n",
    "        'tract_bloc', 'violent_count', 'property_count', 'treated', 'one_over',\n",
    "        'two_over', 'three_over', 'time_fe'\n",
    "    ]])\n",
    "    # Fit poisson model for violent count\n",
    "    robjects.r('glm_model_violent <- fit_poisson(est_df, \"violent_count\")')\n",
    "    robjects.r('saveRDS(glm_model_violent, \"../../models/poisson_violent.rds\")')\n",
    "    # Save summary\n",
    "    robjects.r('summary_violent <- summary_df(glm_model_violent)')\n",
    "    robjects.r('write_csv(summary_violent, \"../../models/summary_poisson_violent.csv\")')\n",
    "    # Fit poisson model for property count\n",
    "    robjects.r('glm_model_property <- fit_poisson(est_df, \"property_count\")')\n",
    "    robjects.r('saveRDS(glm_model_property, \"../../models/poisson_property.rds\")')\n",
    "    # Save summary\n",
    "    robjects.r('summary_property <- summary_df(glm_model_property)')\n",
    "    robjects.r('write_csv(summary_property, \"../../models/summary_poisson_property.csv\")')"
   ]
  },
  {
   "cell_type": "markdown",
   "metadata": {},
   "source": [
    "# Results"
   ]
  },
  {
   "cell_type": "code",
   "execution_count": 25,
   "metadata": {},
   "outputs": [
    {
     "data": {
      "text/html": [
       "<div>\n",
       "<style scoped>\n",
       "    .dataframe tbody tr th:only-of-type {\n",
       "        vertical-align: middle;\n",
       "    }\n",
       "\n",
       "    .dataframe tbody tr th {\n",
       "        vertical-align: top;\n",
       "    }\n",
       "\n",
       "    .dataframe thead th {\n",
       "        text-align: right;\n",
       "    }\n",
       "</style>\n",
       "<table border=\"1\" class=\"dataframe\">\n",
       "  <thead>\n",
       "    <tr style=\"text-align: right;\">\n",
       "      <th></th>\n",
       "      <th>var</th>\n",
       "      <th>coef</th>\n",
       "      <th>se</th>\n",
       "      <th>z</th>\n",
       "      <th>p</th>\n",
       "      <th>n</th>\n",
       "    </tr>\n",
       "  </thead>\n",
       "  <tbody>\n",
       "    <tr>\n",
       "      <th>0</th>\n",
       "      <td>treated</td>\n",
       "      <td>-0.133810</td>\n",
       "      <td>0.024804</td>\n",
       "      <td>-5.394745</td>\n",
       "      <td>6.862095e-08</td>\n",
       "      <td>1085334</td>\n",
       "    </tr>\n",
       "    <tr>\n",
       "      <th>1</th>\n",
       "      <td>one_over</td>\n",
       "      <td>0.009624</td>\n",
       "      <td>0.024244</td>\n",
       "      <td>0.396950</td>\n",
       "      <td>6.914045e-01</td>\n",
       "      <td>1085334</td>\n",
       "    </tr>\n",
       "    <tr>\n",
       "      <th>2</th>\n",
       "      <td>two_over</td>\n",
       "      <td>-0.004373</td>\n",
       "      <td>0.024365</td>\n",
       "      <td>-0.179467</td>\n",
       "      <td>8.575707e-01</td>\n",
       "      <td>1085334</td>\n",
       "    </tr>\n",
       "  </tbody>\n",
       "</table>\n",
       "</div>"
      ],
      "text/plain": [
       "        var      coef        se         z             p        n\n",
       "0   treated -0.133810  0.024804 -5.394745  6.862095e-08  1085334\n",
       "1  one_over  0.009624  0.024244  0.396950  6.914045e-01  1085334\n",
       "2  two_over -0.004373  0.024365 -0.179467  8.575707e-01  1085334"
      ]
     },
     "execution_count": 25,
     "metadata": {},
     "output_type": "execute_result"
    }
   ],
   "source": [
    "results_violent = pd.read_csv('../../models/summary_poisson_violent.csv')\n",
    "results_violent"
   ]
  },
  {
   "cell_type": "code",
   "execution_count": 26,
   "metadata": {},
   "outputs": [
    {
     "data": {
      "text/html": [
       "<div>\n",
       "<style scoped>\n",
       "    .dataframe tbody tr th:only-of-type {\n",
       "        vertical-align: middle;\n",
       "    }\n",
       "\n",
       "    .dataframe tbody tr th {\n",
       "        vertical-align: top;\n",
       "    }\n",
       "\n",
       "    .dataframe thead th {\n",
       "        text-align: right;\n",
       "    }\n",
       "</style>\n",
       "<table border=\"1\" class=\"dataframe\">\n",
       "  <thead>\n",
       "    <tr style=\"text-align: right;\">\n",
       "      <th></th>\n",
       "      <th>var</th>\n",
       "      <th>coef</th>\n",
       "      <th>se</th>\n",
       "      <th>z</th>\n",
       "      <th>p</th>\n",
       "      <th>n</th>\n",
       "    </tr>\n",
       "  </thead>\n",
       "  <tbody>\n",
       "    <tr>\n",
       "      <th>0</th>\n",
       "      <td>treated</td>\n",
       "      <td>-0.004190</td>\n",
       "      <td>0.013136</td>\n",
       "      <td>-0.318989</td>\n",
       "      <td>0.749735</td>\n",
       "      <td>1085334</td>\n",
       "    </tr>\n",
       "    <tr>\n",
       "      <th>1</th>\n",
       "      <td>one_over</td>\n",
       "      <td>0.011522</td>\n",
       "      <td>0.012533</td>\n",
       "      <td>0.919355</td>\n",
       "      <td>0.357910</td>\n",
       "      <td>1085334</td>\n",
       "    </tr>\n",
       "    <tr>\n",
       "      <th>2</th>\n",
       "      <td>two_over</td>\n",
       "      <td>0.021531</td>\n",
       "      <td>0.012167</td>\n",
       "      <td>1.769625</td>\n",
       "      <td>0.076790</td>\n",
       "      <td>1085334</td>\n",
       "    </tr>\n",
       "  </tbody>\n",
       "</table>\n",
       "</div>"
      ],
      "text/plain": [
       "        var      coef        se         z         p        n\n",
       "0   treated -0.004190  0.013136 -0.318989  0.749735  1085334\n",
       "1  one_over  0.011522  0.012533  0.919355  0.357910  1085334\n",
       "2  two_over  0.021531  0.012167  1.769625  0.076790  1085334"
      ]
     },
     "execution_count": 26,
     "metadata": {},
     "output_type": "execute_result"
    }
   ],
   "source": [
    "results_property = pd.read_csv('../../models/summary_poisson_property.csv')\n",
    "results_property"
   ]
  }
 ],
 "metadata": {
  "extensions": {
   "jupyter_dashboards": {
    "activeView": "grid_default",
    "version": 1,
    "views": {
     "grid_default": {
      "cellMargin": 10,
      "defaultCellHeight": 20,
      "maxColumns": 12,
      "name": "grid",
      "type": "grid"
     },
     "report_default": {
      "name": "report",
      "type": "report"
     }
    }
   }
  },
  "kernelspec": {
   "display_name": "Python 3",
   "language": "python",
   "name": "python3"
  },
  "language_info": {
   "codemirror_mode": {
    "name": "ipython",
    "version": 3
   },
   "file_extension": ".py",
   "mimetype": "text/x-python",
   "name": "python",
   "nbconvert_exporter": "python",
   "pygments_lexer": "ipython3",
   "version": "3.6.5"
  },
  "toc": {
   "nav_menu": {},
   "number_sections": false,
   "sideBar": true,
   "skip_h1_title": false,
   "title_cell": "Table of Contents",
   "title_sidebar": "Contents",
   "toc_cell": true,
   "toc_position": {
    "height": "calc(100% - 180px)",
    "left": "10px",
    "top": "150px",
    "width": "262px"
   },
   "toc_section_display": true,
   "toc_window_display": true
  },
  "varInspector": {
   "cols": {
    "lenName": 16,
    "lenType": 16,
    "lenVar": 40
   },
   "kernels_config": {
    "python": {
     "delete_cmd_postfix": "",
     "delete_cmd_prefix": "del ",
     "library": "var_list.py",
     "varRefreshCmd": "print(var_dic_list())"
    },
    "r": {
     "delete_cmd_postfix": ") ",
     "delete_cmd_prefix": "rm(",
     "library": "var_list.r",
     "varRefreshCmd": "cat(var_dic_list()) "
    }
   },
   "types_to_exclude": [
    "module",
    "function",
    "builtin_function_or_method",
    "instance",
    "_Feature"
   ],
   "window_display": false
  }
 },
 "nbformat": 4,
 "nbformat_minor": 2
}
